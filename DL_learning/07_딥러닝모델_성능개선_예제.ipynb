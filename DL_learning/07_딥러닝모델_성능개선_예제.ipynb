{
 "cells": [
  {
   "attachments": {},
   "cell_type": "markdown",
   "metadata": {},
   "source": [
    "# 성능개선 기법 실습"
   ]
  },
  {
   "attachments": {},
   "cell_type": "markdown",
   "metadata": {},
   "source": [
    "# 모듈 정의"
   ]
  },
  {
   "attachments": {},
   "cell_type": "markdown",
   "metadata": {},
   "source": [
    "## train.py\n",
    "- 모델 학습과 검증 함수 정의"
   ]
  },
  {
   "cell_type": "code",
   "execution_count": 1,
   "metadata": {},
   "outputs": [],
   "source": [
    "import os\n",
    "os.environ['KMP_DUPLICATE_LIB_OK'] = 'True'  # 충돌이 되는 library가 있어도 error 발생시키기 마라!"
   ]
  },
  {
   "cell_type": "code",
   "execution_count": 2,
   "metadata": {},
   "outputs": [],
   "source": [
    "import os\n",
    "os.makedirs('module', exist_ok=True)"
   ]
  },
  {
   "cell_type": "code",
   "execution_count": 3,
   "metadata": {
    "code_folding": []
   },
   "outputs": [
    {
     "name": "stdout",
     "output_type": "stream",
     "text": [
      "Overwriting module/train.py\n"
     ]
    }
   ],
   "source": [
    "%%writefile module/train.py\n",
    "\n",
    "import torch\n",
    "import time\n",
    "\n",
    "# multi와 binary 정확도 계산이 다르다.\n",
    "\n",
    "def test_multi_classification(dataloader, model, loss_fn, device=\"cpu\") -> tuple:\n",
    "    \"\"\"\n",
    "    다중 분류 검증/평가 함수\n",
    "    \n",
    "    [parameter]\n",
    "        dataloader: DataLoader - 검증할 대상 데이터로더\n",
    "        model: 검증할 모델\n",
    "        loss_fn: 모델 추정값과 정답의 차이를 계산할 loss 함수.\n",
    "        device: str - 연산을 처리할 장치. default-\"cpu\", gpu-\"cuda\"\n",
    "    [return]\n",
    "        tuple: (loss, accuracy)\n",
    "    \"\"\"\n",
    "    model.eval() # 모델을 평가모드로 변환\n",
    "    size = len(dataloader.dataset) # 전체 데이터수\n",
    "    num_batches = len(dataloader)  #  step 수\n",
    "    \n",
    "    test_loss, test_accuracy = 0., 0.\n",
    "    \n",
    "    with torch.no_grad():\n",
    "        for X, y in dataloader:\n",
    "            X, y = X.to(device), y.to(device)\n",
    "            pred = model(X)\n",
    "            test_loss += loss_fn(pred, y).item()\n",
    "            # 정확도 계산\n",
    "            pred_label = torch.argmax(pred, axis=-1)\n",
    "            test_accuracy += torch.sum(pred_label == y).item()\n",
    "            \n",
    "        test_loss /= num_batches\n",
    "        test_accuracy /= size  #전체 개수로 나눈다.\n",
    "    return test_loss, test_accuracy\n",
    "\n",
    "def test_binary_classification(dataloader, model, loss_fn, device=\"cpu\") -> tuple:\n",
    "    \"\"\"\n",
    "    이진 분류 검증/평가 함수\n",
    "    \n",
    "    [parameter]\n",
    "        dataloader: DataLoader - 검증할 대상 데이터로더\n",
    "        model: 검증할 모델\n",
    "        loss_fn: 모델 추정값과 정답의 차이를 계산할 loss 함수.\n",
    "        device: str - 연산을 처리할 장치. default-\"cpu\", gpu-\"cuda\"\n",
    "    [return]\n",
    "        tuple: (loss, accuracy)\n",
    "    \"\"\"\n",
    "    model.eval() # 모델을 평가모드로 변환\n",
    "    size = len(dataloader.dataset)\n",
    "    num_batches = len(dataloader)\n",
    "    \n",
    "    test_loss, test_accuracy = 0., 0.\n",
    "    \n",
    "    with torch.no_grad():\n",
    "        for X, y in dataloader:\n",
    "            X, y = X.to(device), y.to(device)\n",
    "            pred = model(X)\n",
    "            test_loss += loss_fn(pred, y).item()\n",
    "            ## 정확도 계산\n",
    "            pred_label = (pred >= 0.5).type(torch.int32)\n",
    "            test_accuracy += (pred_label == y).sum().item() \n",
    "            \n",
    "        test_loss /= num_batches\n",
    "        test_accuracy /= size   #전체 개수로 나눈다.\n",
    "    return test_loss, test_accuracy    \n",
    "\n",
    "def train(dataloader, model, loss_fn, optimizer, device=\"cpu\", mode:\"binary or multi\"='binary'):\n",
    "    \"\"\"\n",
    "    모델을 1 epoch 학습시키는 함수\n",
    "\n",
    "    [parameter]\n",
    "        dataloader: DataLoader - 학습데이터셋을 제공하는 DataLoader\n",
    "        model - 학습대상 모델\n",
    "        loss_fn: 모델 추정값과 정답의 차이를 계산할 loss 함수.\n",
    "        optimizer - 최적화 함수\n",
    "        device: str - 연산을 처리할 장치. default-\"cpu\", gpu-\"cuda\"\n",
    "        mode: str - 분류 종류. binary 또는 multi\n",
    "    [return]\n",
    "        tuple: 학습후 계산한 Train set에 대한  train_loss, train_accuracy\n",
    "    \"\"\"\n",
    "    model.train()\n",
    "\n",
    "    for X, y in dataloader:\n",
    "        X, y = X.to(device), y.to(device)\n",
    "        pred = model(X)\n",
    "\n",
    "        loss = loss_fn(pred, y)\n",
    "\n",
    "        optimizer.zero_grad()\n",
    "        loss.backward()\n",
    "        optimizer.step()\n",
    "        \n",
    "    if mode == 'binary':\n",
    "        train_loss, train_accuracy = test_binary_classification(dataloader, model, loss_fn, device)\n",
    "    else:\n",
    "        train_loss, train_accuracy = test_multi_classification(dataloader, model, loss_fn, device)\n",
    "    return train_loss, train_accuracy\n",
    "\n",
    "\n",
    "\n",
    "def fit(train_loader, val_loader, model, loss_fn, optimizer, epochs, \n",
    "        save_best_model=True, save_model_path=None, \n",
    "        early_stopping=True, patience=10, \n",
    "        device='cpu',  mode:\"binary or multi\"='binary'):\n",
    "    \"\"\"\n",
    "    모델을 학습시키는 함수\n",
    "\n",
    "    [parameter]\n",
    "        train_loader (Dataloader): Train dataloader\n",
    "        test_loader (Dataloader): validation dataloader\n",
    "        model (Module): 학습시킬 모델\n",
    "        loss_fn (_Loss): Loss function\n",
    "        optimizer (Optimizer): Optimizer\n",
    "        epochs (int): epoch수\n",
    "        save_best_model (bool, optional): 학습도중 성능개선시 모델 저장 여부. Defaults to True.\n",
    "        save_model_path (str, optional): save_best_model=True일 때 모델저장할 파일 경로. Defaults to None.\n",
    "        early_stopping (bool, optional): 조기 종료 여부. Defaults to True.\n",
    "        patience (int, optional): 조기종료 True일 때 종료전에 성능이 개선될지 몇 epoch까지 기다릴지 epoch수. Defaults to 10.\n",
    "        device (str, optional): device. Defaults to 'cpu'.\n",
    "        mode(str, optinal): 분류 종류. \"binary(default) or multi\n",
    "    [return]\n",
    "        tuple: 에폭 별 성능 리스트. (train_loss_list, train_accuracy_list, validation_loss_list, validataion_accuracy_list)\n",
    "    \"\"\"\n",
    "\n",
    "    train_loss_list = []\n",
    "    train_accuracy_list = []\n",
    "    val_loss_list = []\n",
    "    val_accuracy_list = []\n",
    "    \n",
    "        \n",
    "    if save_best_model:\n",
    "        best_score_save = torch.inf\n",
    "\n",
    "    ############################\n",
    "    # early stopping\n",
    "    #############################\n",
    "    if early_stopping:\n",
    "        trigger_count = 0\n",
    "        best_score_es = torch.inf\n",
    "    \n",
    "    # 모델 device로 옮기기\n",
    "    model = model.to(device)\n",
    "    s = time.time()\n",
    "    for epoch in range(epochs):\n",
    "        ### 학습\n",
    "        train_loss, train_accuracy = train(train_loader, model, loss_fn, optimizer, \n",
    "                                           device=device, mode=mode)\n",
    "        \n",
    "        ### 검증\n",
    "        if mode == \"binary\":\n",
    "            val_loss, val_accuracy = test_binary_classification(val_loader, model, loss_fn, device=device)\n",
    "        else:\n",
    "            val_loss, val_accuracy = test_multi_classification(val_loader, model, loss_fn, device=device)\n",
    "\n",
    "        train_loss_list.append(train_loss)\n",
    "        train_accuracy_list.append(train_accuracy)\n",
    "        val_loss_list.append(val_loss)\n",
    "        val_accuracy_list.append(val_accuracy)\n",
    "        \n",
    "        print(f\"Epoch[{epoch+1}/{epochs}] - Train loss: {train_loss:.5f} Train Accucracy: {train_accuracy:.5f} || Validation Loss: {val_loss:.5f} Validation Accuracy: {val_accuracy:.5f}\")\n",
    "        print('='*100)\n",
    "        \n",
    "        # 모델 저장\n",
    "        if save_best_model:\n",
    "            if val_loss < best_score_save: # 성능개선\n",
    "                torch.save(model, save_model_path)\n",
    "                print(f\"저장: {epoch+1} - 이전 : {best_score_save}, 현재: {val_loss}\")\n",
    "                best_score_save = val_loss\n",
    "        \n",
    "        # early stopping 처리            \n",
    "        if early_stopping:\n",
    "            if val_loss < best_score_es: # 성능개선\n",
    "                best_score_es = val_loss  \n",
    "                trigger_count = 0\n",
    "                                \n",
    "            else:\n",
    "                trigger_count += 1                \n",
    "                if patience == trigger_count:\n",
    "                    print(f\"Early stopping: Epoch - {epoch}\")\n",
    "                    break\n",
    "            \n",
    "    e = time.time()\n",
    "    print(e-s, \"초\")\n",
    "    return train_loss_list, train_accuracy_list, val_loss_list, val_accuracy_list"
   ]
  },
  {
   "attachments": {},
   "cell_type": "markdown",
   "metadata": {},
   "source": [
    "## data.py\n",
    "- dataset 생성 함수 제공 모듈"
   ]
  },
  {
   "cell_type": "code",
   "execution_count": 4,
   "metadata": {},
   "outputs": [
    {
     "name": "stdout",
     "output_type": "stream",
     "text": [
      "Overwriting module/data.py\n"
     ]
    }
   ],
   "source": [
    "%%writefile module/data.py\n",
    "from torchvision import datasets, transforms\n",
    "from torch.utils.data import DataLoader\n",
    "\n",
    "def load_mnist_dataset(root_path, batch_size, is_train=True):\n",
    "    \"\"\"\n",
    "    mnist dataset dataloader 제공 함수\n",
    "    [parameter]\n",
    "        root_path: str|Path - 데이터파일 저장 디렉토리\n",
    "        batch_size: int\n",
    "        is_train: bool = True - True: Train dataset, False - Test dataset\n",
    "    [return]\n",
    "        DataLoader \n",
    "    \"\"\"\n",
    "    transform = transforms.Compose([\n",
    "        transforms.ToTensor()\n",
    "    ])\n",
    "    dataset = datasets.MNIST(root=root_path, train=is_train, download=True, transform=transform)\n",
    "    dataloader = DataLoader(dataset, batch_size=batch_size, shuffle=is_train)  # shuffle: train이면 True, test면 False 할 것이므로 is_train을 넣음.\n",
    "    \n",
    "    return dataloader\n",
    "\n",
    "def load_fashion_mnist_dataset(root_path, batch_size, is_train=True):\n",
    "    \"\"\"\n",
    "    fashion mnist dataset dataloader 제공 함수\n",
    "    [parameter]\n",
    "        root_path: str|Path - 데이터파일 저장 디렉토리\n",
    "        batch_size: int\n",
    "        is_train: bool = True - True: Train dataset, False - Test dataset\n",
    "    [return]\n",
    "        DataLoader\n",
    "    \"\"\"\n",
    "    transform = transforms.Compose([\n",
    "        transforms.ToTensor()\n",
    "    ])\n",
    "    dataset = datasets.FashionMNIST(root=root_path, train=is_train, download=True, transform=transform)\n",
    "    dataloader = DataLoader(dataset, batch_size=batch_size, shuffle=is_train)  # shuffle: train이면 True, test면 False 할 것이므로 is_train을 넣음.\n",
    "    \n",
    "    return dataloader"
   ]
  },
  {
   "cell_type": "code",
   "execution_count": 24,
   "metadata": {},
   "outputs": [],
   "source": [
    "# %%writefile module/utils.py\n",
    "\n",
    "import matplotlib.pyplot as plt\n",
    "\n",
    "def plot_fit_result(train_loss_list, train_acc_list, val_loss_list, val_acc_list):\n",
    "    plt.figure(figsize=(10, 6))\n",
    "    plt.subplot(1, 2, 1)\n",
    "    plt.title('Loss')\n",
    "    plt.plot(train_loss_list, label='Train')\n",
    "    plt.plot(val_loss_list, label='Validation')\n",
    "    plt.legend()\n",
    "\n",
    "    plt.subplot(1, 2, 2)\n",
    "    plt.title('Accuracy')\n",
    "    plt.plot(train_acc_list, label='Train')\n",
    "    plt.plot(val_acc_list, label='Validation')\n",
    "    plt.legend()\n",
    "\n",
    "    plt.tight_layout()\n",
    "    plt.show()"
   ]
  },
  {
   "attachments": {},
   "cell_type": "markdown",
   "metadata": {},
   "source": [
    "## 하이퍼파라미터, 변수 정의"
   ]
  },
  {
   "cell_type": "code",
   "execution_count": 6,
   "metadata": {},
   "outputs": [
    {
     "name": "stderr",
     "output_type": "stream",
     "text": [
      "\n",
      "Bad key https in file c:\\Users\\Playdata\\anaconda3\\envs\\ml\\lib\\site-packages\\matplotlib\\mpl-data\\matplotlibrc, line 414 (' https://en.wikipedia.org/wiki/Plus_and_minus_signs#Character_codes')\n",
      "You probably need to get an updated matplotlibrc file from\n",
      "https://github.com/matplotlib/matplotlib/blob/v3.7.1/matplotlibrc.template\n",
      "or from the matplotlib source distribution\n"
     ]
    }
   ],
   "source": [
    "# import \n",
    "\n",
    "import torch\n",
    "import torch.nn as nn\n",
    "from torchinfo import summary\n",
    "\n",
    "from module.train import fit\n",
    "from module import data\n",
    "\n",
    "import os\n",
    "import matplotlib.pyplot as plt"
   ]
  },
  {
   "cell_type": "code",
   "execution_count": 7,
   "metadata": {},
   "outputs": [],
   "source": [
    "# 데이터 저장할 디렉토리 경로\n",
    "DATASET_ROOT_PATH = 'datasets'\n",
    "MODEL_SAVE_ROOT_PATH = 'models'\n",
    "\n",
    "N_EPOCH = 10\n",
    "BATCH_SIZE = 256\n",
    "LR = 0.001"
   ]
  },
  {
   "attachments": {},
   "cell_type": "markdown",
   "metadata": {},
   "source": [
    "# Data 준비\n",
    "\n",
    "## mnist 데이터 로딩"
   ]
  },
  {
   "cell_type": "code",
   "execution_count": 8,
   "metadata": {},
   "outputs": [],
   "source": [
    "train_loader = data.load_mnist_dataset(DATASET_ROOT_PATH, BATCH_SIZE, True)\n",
    "test_loader = data.load_mnist_dataset(DATASET_ROOT_PATH, BATCH_SIZE, False)"
   ]
  },
  {
   "cell_type": "code",
   "execution_count": 9,
   "metadata": {},
   "outputs": [
    {
     "name": "stdout",
     "output_type": "stream",
     "text": [
      "<torch.utils.data.dataloader.DataLoader object at 0x0000021BF9F6E770>\n",
      "step수: 235\n",
      "dataset의 shape: torch.Size([60000, 28, 28])\n",
      "Dataset MNIST\n",
      "    Number of datapoints: 60000\n",
      "    Root location: datasets\n",
      "    Split: Train\n",
      "    StandardTransform\n",
      "Transform: Compose(\n",
      "               ToTensor()\n",
      "           )\n"
     ]
    }
   ],
   "source": [
    "print(train_loader)\n",
    "print(\"step수:\", len(train_loader))\n",
    "print(\"dataset의 shape:\", train_loader.dataset.data.shape)\n",
    "print(train_loader.dataset)"
   ]
  },
  {
   "attachments": {},
   "cell_type": "markdown",
   "metadata": {},
   "source": [
    "# 모델의 크기 변경에 따른 성능변화"
   ]
  },
  {
   "cell_type": "code",
   "execution_count": 28,
   "metadata": {},
   "outputs": [],
   "source": [
    "class SizeCheckModel(nn.Module):\n",
    "    \n",
    "    def __init__(self):\n",
    "        super().__init__()\n",
    "        # input -> output\n",
    "        self.output = nn.Linear(28*28, 10)  # in: mnist\n",
    "        \n",
    "    def forward(self, X):\n",
    "        out = nn.Flatten()(X)\n",
    "        out = self.output(out)\n",
    "        \n",
    "        return out"
   ]
  },
  {
   "cell_type": "code",
   "execution_count": 11,
   "metadata": {},
   "outputs": [
    {
     "data": {
      "text/plain": [
       "==========================================================================================\n",
       "Layer (type:depth-idx)                   Output Shape              Param #\n",
       "==========================================================================================\n",
       "SizeCheckModel                           [256, 10]                 --\n",
       "├─Linear: 1-1                            [256, 10]                 7,850\n",
       "==========================================================================================\n",
       "Total params: 7,850\n",
       "Trainable params: 7,850\n",
       "Non-trainable params: 0\n",
       "Total mult-adds (M): 2.01\n",
       "==========================================================================================\n",
       "Input size (MB): 0.80\n",
       "Forward/backward pass size (MB): 0.02\n",
       "Params size (MB): 0.03\n",
       "Estimated Total Size (MB): 0.85\n",
       "=========================================================================================="
      ]
     },
     "execution_count": 11,
     "metadata": {},
     "output_type": "execute_result"
    }
   ],
   "source": [
    "model = SizeCheckModel()\n",
    "summary(model, (256, 28, 28))"
   ]
  },
  {
   "cell_type": "code",
   "execution_count": 12,
   "metadata": {},
   "outputs": [],
   "source": [
    "device = 'cuda' if torch.cuda.is_available() else 'cpu'"
   ]
  },
  {
   "cell_type": "code",
   "execution_count": 13,
   "metadata": {},
   "outputs": [
    {
     "name": "stdout",
     "output_type": "stream",
     "text": [
      "Epoch[1/10] - Train loss: 0.48572 Train Accucracy: 0.88258 || Validation Loss: 0.46193 Validation Accuracy: 0.89100\n",
      "====================================================================================================\n",
      "Epoch[2/10] - Train loss: 0.37940 Train Accucracy: 0.90000 || Validation Loss: 0.36015 Validation Accuracy: 0.90560\n",
      "====================================================================================================\n",
      "Epoch[3/10] - Train loss: 0.33847 Train Accucracy: 0.90935 || Validation Loss: 0.32287 Validation Accuracy: 0.91190\n",
      "====================================================================================================\n",
      "Epoch[4/10] - Train loss: 0.31692 Train Accucracy: 0.91377 || Validation Loss: 0.30277 Validation Accuracy: 0.91500\n",
      "====================================================================================================\n",
      "Epoch[5/10] - Train loss: 0.30262 Train Accucracy: 0.91772 || Validation Loss: 0.29229 Validation Accuracy: 0.91770\n",
      "====================================================================================================\n",
      "Epoch[6/10] - Train loss: 0.29221 Train Accucracy: 0.91975 || Validation Loss: 0.28355 Validation Accuracy: 0.92100\n",
      "====================================================================================================\n",
      "Epoch[7/10] - Train loss: 0.28496 Train Accucracy: 0.92142 || Validation Loss: 0.27747 Validation Accuracy: 0.92190\n",
      "====================================================================================================\n",
      "Epoch[8/10] - Train loss: 0.27854 Train Accucracy: 0.92283 || Validation Loss: 0.27264 Validation Accuracy: 0.92390\n",
      "====================================================================================================\n",
      "Epoch[9/10] - Train loss: 0.27325 Train Accucracy: 0.92370 || Validation Loss: 0.26990 Validation Accuracy: 0.92500\n",
      "====================================================================================================\n",
      "Epoch[10/10] - Train loss: 0.27139 Train Accucracy: 0.92445 || Validation Loss: 0.27002 Validation Accuracy: 0.92340\n",
      "====================================================================================================\n",
      "154.60381937026978 초\n"
     ]
    }
   ],
   "source": [
    "# 학습\n",
    "model = model.to(device)\n",
    "optimizer = torch.optim.Adam(model.parameters(), lr=LR)\n",
    "loss_fn = nn.CrossEntropyLoss()\n",
    "\n",
    "train_loss_list, train_acc_list, val_loss_list, val_acc_list = \\\n",
    "    fit(train_loader, test_loader, model, loss_fn, optimizer, N_EPOCH, \n",
    "        save_best_model=False, early_stopping=False, device=device, mode='multi')"
   ]
  },
  {
   "cell_type": "code",
   "execution_count": 25,
   "metadata": {},
   "outputs": [
    {
     "data": {
      "image/png": "[encoded data removed]",
      "text/plain": [
       "<Figure size 1000x600 with 2 Axes>"
      ]
     },
     "metadata": {},
     "output_type": "display_data"
    }
   ],
   "source": [
    "plot_fit_result(train_loss_list, train_acc_list, val_loss_list, val_acc_list)"
   ]
  },
  {
   "cell_type": "code",
   "execution_count": null,
   "metadata": {},
   "outputs": [],
   "source": [
    "nn.ReLU()(nn.Linear()(X))"
   ]
  },
  {
   "cell_type": "code",
   "execution_count": 27,
   "metadata": {},
   "outputs": [],
   "source": [
    "# Layer block 정의, 단순 순차구조의 모델 정의\n",
    "# Layer block 정의\n",
    "bi = nn.Sequential(  # 아래의 내용을 순차적으로 처리\n",
    "    nn.Linear(64, 32),\n",
    "        nn.ReLU()\n",
    "    # nn.Linear(32, 32),\n",
    "    #     nn.ReLU()\n",
    "    # nn.Linear(32, 32),\n",
    "    #     nn.ReLU()\n",
    "    # nn.Linear(32, 32),\n",
    "    #     nn.ReLU()\n",
    "    # nn.Linear(32, 32),\n",
    "    #     nn.ReLU()\n",
    "    )\n",
    "\n",
    "# o = b1(X)\n",
    "# Sequential()이 아래처럼 순차적으로 처리해서 결과를 return\n",
    "# t = nn.Linear(64, 32)(X)\n",
    "# o = nn.ReLU()(t) "
   ]
  },
  {
   "cell_type": "code",
   "execution_count": 31,
   "metadata": {},
   "outputs": [],
   "source": [
    "class SizeCheckModel_2(nn.Module):\n",
    "    \n",
    "    def __init__(self):\n",
    "        super().__init__()\n",
    "        self.block1 = nn.Sequential(nn.Linear(28*28, 2048), nn.ReLU())\n",
    "        self.block2 = nn.Sequential(nn.Linear(2048, 1024), nn.ReLU())\n",
    "        self.block3 = nn.Sequential(nn.Linear(1024, 512), nn.ReLU())\n",
    "        self.block4 = nn.Sequential(nn.Linear(512, 256), nn.ReLU())\n",
    "        self.block5 = nn.Sequential(nn.Linear(256, 128), nn.ReLU())\n",
    "        self.block6 = nn.Sequential(nn.Linear(128, 64), nn.ReLU())\n",
    "        \n",
    "        self.output = nn.Linear(64, 10)\n",
    "        \n",
    "    def forward(self, X):  # 입력 (batch, 1, 28, 28)\n",
    "        out = nn.Flatten()(X)   # (batch, 1*28*28)\n",
    "        out = self.block1(out)\n",
    "        out = self.block2(out)\n",
    "        out = self.block3(out)\n",
    "        out = self.block4(out)\n",
    "        out = self.block5(out)\n",
    "        out = self.block6(out)\n",
    "        out = self.output(out)\n",
    "        \n",
    "        return out"
   ]
  },
  {
   "cell_type": "code",
   "execution_count": 32,
   "metadata": {},
   "outputs": [
    {
     "data": {
      "text/plain": [
       "==========================================================================================\n",
       "Layer (type:depth-idx)                   Output Shape              Param #\n",
       "==========================================================================================\n",
       "SizeCheckModel_2                         [256, 10]                 --\n",
       "├─Sequential: 1-1                        [256, 2048]               --\n",
       "│    └─Linear: 2-1                       [256, 2048]               1,607,680\n",
       "│    └─ReLU: 2-2                         [256, 2048]               --\n",
       "├─Sequential: 1-2                        [256, 1024]               --\n",
       "│    └─Linear: 2-3                       [256, 1024]               2,098,176\n",
       "│    └─ReLU: 2-4                         [256, 1024]               --\n",
       "├─Sequential: 1-3                        [256, 512]                --\n",
       "│    └─Linear: 2-5                       [256, 512]                524,800\n",
       "│    └─ReLU: 2-6                         [256, 512]                --\n",
       "├─Sequential: 1-4                        [256, 256]                --\n",
       "│    └─Linear: 2-7                       [256, 256]                131,328\n",
       "│    └─ReLU: 2-8                         [256, 256]                --\n",
       "├─Sequential: 1-5                        [256, 128]                --\n",
       "│    └─Linear: 2-9                       [256, 128]                32,896\n",
       "│    └─ReLU: 2-10                        [256, 128]                --\n",
       "├─Sequential: 1-6                        [256, 64]                 --\n",
       "│    └─Linear: 2-11                      [256, 64]                 8,256\n",
       "│    └─ReLU: 2-12                        [256, 64]                 --\n",
       "├─Linear: 1-7                            [256, 10]                 650\n",
       "==========================================================================================\n",
       "Total params: 4,403,786\n",
       "Trainable params: 4,403,786\n",
       "Non-trainable params: 0\n",
       "Total mult-adds (G): 1.13\n",
       "==========================================================================================\n",
       "Input size (MB): 0.80\n",
       "Forward/backward pass size (MB): 8.28\n",
       "Params size (MB): 17.62\n",
       "Estimated Total Size (MB): 26.70\n",
       "=========================================================================================="
      ]
     },
     "execution_count": 32,
     "metadata": {},
     "output_type": "execute_result"
    }
   ],
   "source": [
    "big_model = SizeCheckModel_2().to(device)\n",
    "summary(big_model, (BATCH_SIZE, 1 , 28, 28))"
   ]
  },
  {
   "cell_type": "code",
   "execution_count": 33,
   "metadata": {},
   "outputs": [
    {
     "name": "stdout",
     "output_type": "stream",
     "text": [
      "Epoch[1/10] - Train loss: 0.12292 Train Accucracy: 0.96443 || Validation Loss: 0.12995 Validation Accuracy: 0.96060\n",
      "====================================================================================================\n",
      "Epoch[2/10] - Train loss: 0.08490 Train Accucracy: 0.97410 || Validation Loss: 0.10933 Validation Accuracy: 0.96570\n",
      "====================================================================================================\n",
      "Epoch[3/10] - Train loss: 0.04425 Train Accucracy: 0.98723 || Validation Loss: 0.07790 Validation Accuracy: 0.97680\n",
      "====================================================================================================\n",
      "Epoch[4/10] - Train loss: 0.03275 Train Accucracy: 0.99072 || Validation Loss: 0.06884 Validation Accuracy: 0.97950\n",
      "====================================================================================================\n",
      "Epoch[5/10] - Train loss: 0.04460 Train Accucracy: 0.98597 || Validation Loss: 0.09790 Validation Accuracy: 0.97300\n",
      "====================================================================================================\n",
      "Epoch[6/10] - Train loss: 0.03390 Train Accucracy: 0.98980 || Validation Loss: 0.09360 Validation Accuracy: 0.97560\n",
      "====================================================================================================\n",
      "Epoch[7/10] - Train loss: 0.01766 Train Accucracy: 0.99448 || Validation Loss: 0.08782 Validation Accuracy: 0.97870\n",
      "====================================================================================================\n",
      "Epoch[8/10] - Train loss: 0.02286 Train Accucracy: 0.99345 || Validation Loss: 0.08513 Validation Accuracy: 0.97840\n",
      "====================================================================================================\n",
      "Epoch[9/10] - Train loss: 0.01655 Train Accucracy: 0.99467 || Validation Loss: 0.08270 Validation Accuracy: 0.98170\n",
      "====================================================================================================\n",
      "Epoch[10/10] - Train loss: 0.01454 Train Accucracy: 0.99598 || Validation Loss: 0.07812 Validation Accuracy: 0.98070\n",
      "====================================================================================================\n",
      "372.8815236091614 초\n"
     ]
    }
   ],
   "source": [
    "loss_fn = nn.CrossEntropyLoss()\n",
    "optimizer = torch.optim.Adam(big_model.parameters(), lr=LR)\n",
    "\n",
    "result = fit(train_loader, test_loader, big_model, loss_fn, optimizer, N_EPOCH, \n",
    "             save_best_model=False, early_stopping=False,\n",
    "             device=device, mode='multi')"
   ]
  },
  {
   "attachments": {},
   "cell_type": "markdown",
   "metadata": {},
   "source": [
    "# Dropout 예제\n",
    "- dropout 각 레이어에 적용\n",
    "    - dropout은 nn.Dropout 객체를 사용\n",
    "    - 객체 생성시 dropout_rate 설정 : 0.2 ~ 0.5\n",
    "    - Drop시킬 노드를 가진 Layer 뒤에 추가한다."
   ]
  },
  {
   "cell_type": "code",
   "execution_count": 34,
   "metadata": {},
   "outputs": [
    {
     "name": "stdout",
     "output_type": "stream",
     "text": [
      "torch.Size([5, 3])\n"
     ]
    },
    {
     "data": {
      "text/plain": [
       "tensor([[-1.2981,  1.7604, -0.6784],\n",
       "        [ 0.3161, -0.5072, -0.7096],\n",
       "        [ 0.7628,  0.9582, -0.4475],\n",
       "        [-0.1386, -1.4006, -0.6199],\n",
       "        [-0.3652, -0.6632,  1.1673]])"
      ]
     },
     "execution_count": 34,
     "metadata": {},
     "output_type": "execute_result"
    }
   ],
   "source": [
    "x = torch.randn(5, 3)\n",
    "print(x.shape)\n",
    "x"
   ]
  },
  {
   "cell_type": "code",
   "execution_count": 36,
   "metadata": {},
   "outputs": [
    {
     "data": {
      "text/plain": [
       "tensor([[ 0.0436, -0.8836, -0.5342, -0.4934],\n",
       "        [ 0.6956,  0.0035, -0.4889, -1.0540],\n",
       "        [ 0.2247,  0.1832, -0.5924, -0.1182],\n",
       "        [ 0.8738, -0.1850, -0.3819, -1.5496],\n",
       "        [-0.0598, -0.2405, -0.1952, -0.3539]], grad_fn=<AddmmBackward0>)"
      ]
     },
     "execution_count": 36,
     "metadata": {},
     "output_type": "execute_result"
    }
   ],
   "source": [
    "ln_layer = nn.Linear(3, 4)\n",
    "y = ln_layer(x)\n",
    "y    # (5 x 4) 출력"
   ]
  },
  {
   "cell_type": "code",
   "execution_count": 39,
   "metadata": {
    "scrolled": true
   },
   "outputs": [
    {
     "data": {
      "text/plain": [
       "tensor([[ 0.0872, -1.7673, -1.0683, -0.0000],\n",
       "        [ 1.3911,  0.0000, -0.0000, -2.1080],\n",
       "        [ 0.4494,  0.3664, -0.0000, -0.2365],\n",
       "        [ 0.0000, -0.0000, -0.7637, -3.0991],\n",
       "        [-0.1195, -0.0000, -0.3904, -0.7078]], grad_fn=<MulBackward0>)"
      ]
     },
     "execution_count": 39,
     "metadata": {},
     "output_type": "execute_result"
    }
   ],
   "source": [
    "do_layer = nn.Dropout(0.5)  # 0.5 => drop-out rate (0.5 = 50%)\n",
    "z = do_layer(y)\n",
    "z"
   ]
  },
  {
   "attachments": {},
   "cell_type": "markdown",
   "metadata": {},
   "source": [
    "#### MNIST 적용 ####"
   ]
  },
  {
   "cell_type": "code",
   "execution_count": 45,
   "metadata": {},
   "outputs": [],
   "source": [
    "class DropoutModel(nn.Module):\n",
    "    \n",
    "    def __init__(self, drop_rate=None):\n",
    "        super().__init__()\n",
    "        \n",
    "        if not drop_rate:\n",
    "            drop_rate=0.5\n",
    "        \n",
    "        self.block1 = nn.Sequential(nn.Linear(28*28, 2048),\n",
    "                                    nn.Dropout(p=drop_rate),   # default:  0.5 => 약 50% node를 dropout\n",
    "                                    nn.ReLU())\n",
    "        # nn.Dropout(p=0.5)(nn.ReLU()(nn.Linear()(out))) 처럼 해도 됨.\n",
    "        self.block2 = nn.Sequential(nn.Linear(2048, 1024), nn.ReLU())\n",
    "        self.block3 = nn.Sequential(nn.Linear(1024, 512), nn.ReLU())\n",
    "        self.block4 = nn.Sequential(nn.Linear(512, 256), nn.ReLU())\n",
    "        self.block5 = nn.Sequential(nn.Linear(256, 128), nn.ReLU())\n",
    "        self.block6 = nn.Sequential(nn.Linear(128, 64), nn.ReLU())\n",
    "        \n",
    "        self.output = nn.Linear(64, 10)\n",
    "        \n",
    "    def forward(self, X):  # 입력 (batch, 1, 28, 28)\n",
    "        out = nn.Flatten()(X)   # (batch, 1*28*28)\n",
    "        out = self.block1(out)\n",
    "        out = self.block2(out)\n",
    "        out = self.block3(out)\n",
    "        out = self.block4(out)\n",
    "        out = self.block5(out)\n",
    "        out = self.block6(out)\n",
    "        out = self.output(out)\n",
    "        out = nn.Dropout(p=0.5)(out)  # 마지막 출력 layer에 dropout 적용\n",
    "        \n",
    "        return out"
   ]
  },
  {
   "cell_type": "code",
   "execution_count": 46,
   "metadata": {},
   "outputs": [
    {
     "data": {
      "text/plain": [
       "==========================================================================================\n",
       "Layer (type:depth-idx)                   Output Shape              Param #\n",
       "==========================================================================================\n",
       "DropoutModel                             [256, 10]                 --\n",
       "├─Sequential: 1-1                        [256, 2048]               --\n",
       "│    └─Linear: 2-1                       [256, 2048]               1,607,680\n",
       "│    └─Dropout: 2-2                      [256, 2048]               --\n",
       "│    └─ReLU: 2-3                         [256, 2048]               --\n",
       "├─Sequential: 1-2                        [256, 1024]               --\n",
       "│    └─Linear: 2-4                       [256, 1024]               2,098,176\n",
       "│    └─ReLU: 2-5                         [256, 1024]               --\n",
       "├─Sequential: 1-3                        [256, 512]                --\n",
       "│    └─Linear: 2-6                       [256, 512]                524,800\n",
       "│    └─ReLU: 2-7                         [256, 512]                --\n",
       "├─Sequential: 1-4                        [256, 256]                --\n",
       "│    └─Linear: 2-8                       [256, 256]                131,328\n",
       "│    └─ReLU: 2-9                         [256, 256]                --\n",
       "├─Sequential: 1-5                        [256, 128]                --\n",
       "│    └─Linear: 2-10                      [256, 128]                32,896\n",
       "│    └─ReLU: 2-11                        [256, 128]                --\n",
       "├─Sequential: 1-6                        [256, 64]                 --\n",
       "│    └─Linear: 2-12                      [256, 64]                 8,256\n",
       "│    └─ReLU: 2-13                        [256, 64]                 --\n",
       "├─Linear: 1-7                            [256, 10]                 650\n",
       "==========================================================================================\n",
       "Total params: 4,403,786\n",
       "Trainable params: 4,403,786\n",
       "Non-trainable params: 0\n",
       "Total mult-adds (G): 1.13\n",
       "==========================================================================================\n",
       "Input size (MB): 0.80\n",
       "Forward/backward pass size (MB): 8.28\n",
       "Params size (MB): 17.62\n",
       "Estimated Total Size (MB): 26.70\n",
       "=========================================================================================="
      ]
     },
     "execution_count": 46,
     "metadata": {},
     "output_type": "execute_result"
    }
   ],
   "source": [
    "d_model = DropoutModel(0.5).to(device)\n",
    "summary(d_model, (BATCH_SIZE, 1, 28, 28))"
   ]
  },
  {
   "cell_type": "code",
   "execution_count": 43,
   "metadata": {},
   "outputs": [
    {
     "name": "stdout",
     "output_type": "stream",
     "text": [
      "Epoch[1/10] - Train loss: 0.96144 Train Accucracy: 0.58130 || Validation Loss: 0.95549 Validation Accuracy: 0.58350\n",
      "====================================================================================================\n",
      "Epoch[2/10] - Train loss: 0.93082 Train Accucracy: 0.58735 || Validation Loss: 0.94524 Validation Accuracy: 0.58560\n",
      "====================================================================================================\n",
      "Epoch[3/10] - Train loss: 0.91202 Train Accucracy: 0.58623 || Validation Loss: 0.91723 Validation Accuracy: 0.58190\n",
      "====================================================================================================\n",
      "Epoch[4/10] - Train loss: 0.88745 Train Accucracy: 0.59558 || Validation Loss: 0.90457 Validation Accuracy: 0.59610\n",
      "====================================================================================================\n",
      "Epoch[5/10] - Train loss: 0.87976 Train Accucracy: 0.59468 || Validation Loss: 0.91126 Validation Accuracy: 0.58360\n",
      "====================================================================================================\n",
      "Epoch[6/10] - Train loss: 0.88704 Train Accucracy: 0.59422 || Validation Loss: 0.89349 Validation Accuracy: 0.59330\n",
      "====================================================================================================\n",
      "Epoch[7/10] - Train loss: 0.87521 Train Accucracy: 0.59272 || Validation Loss: 0.88779 Validation Accuracy: 0.59710\n",
      "====================================================================================================\n",
      "Epoch[8/10] - Train loss: 0.87033 Train Accucracy: 0.59763 || Validation Loss: 0.89681 Validation Accuracy: 0.59310\n",
      "====================================================================================================\n",
      "Epoch[9/10] - Train loss: 0.86769 Train Accucracy: 0.59550 || Validation Loss: 0.90057 Validation Accuracy: 0.58800\n",
      "====================================================================================================\n",
      "Epoch[10/10] - Train loss: 0.86038 Train Accucracy: 0.59867 || Validation Loss: 0.88553 Validation Accuracy: 0.59260\n",
      "====================================================================================================\n",
      "458.485746383667 초\n"
     ]
    }
   ],
   "source": [
    "loss_fn = nn.CrossEntropyLoss()\n",
    "optimizer = torch.optim.Adam(d_model.parameters(), lr=LR)\n",
    "\n",
    "result = fit(train_loader, test_loader, d_model, loss_fn, optimizer, N_EPOCH, \n",
    "             save_best_model=False, early_stopping=False,\n",
    "             device=device, mode='multi')"
   ]
  },
  {
   "cell_type": "code",
   "execution_count": 47,
   "metadata": {},
   "outputs": [
    {
     "data": {
      "text/plain": [
       "==========================================================================================\n",
       "Layer (type:depth-idx)                   Output Shape              Param #\n",
       "==========================================================================================\n",
       "DropoutModel                             [256, 10]                 --\n",
       "├─Sequential: 1-1                        [256, 2048]               --\n",
       "│    └─Linear: 2-1                       [256, 2048]               1,607,680\n",
       "│    └─Dropout: 2-2                      [256, 2048]               --\n",
       "│    └─ReLU: 2-3                         [256, 2048]               --\n",
       "├─Sequential: 1-2                        [256, 1024]               --\n",
       "│    └─Linear: 2-4                       [256, 1024]               2,098,176\n",
       "│    └─ReLU: 2-5                         [256, 1024]               --\n",
       "├─Sequential: 1-3                        [256, 512]                --\n",
       "│    └─Linear: 2-6                       [256, 512]                524,800\n",
       "│    └─ReLU: 2-7                         [256, 512]                --\n",
       "├─Sequential: 1-4                        [256, 256]                --\n",
       "│    └─Linear: 2-8                       [256, 256]                131,328\n",
       "│    └─ReLU: 2-9                         [256, 256]                --\n",
       "├─Sequential: 1-5                        [256, 128]                --\n",
       "│    └─Linear: 2-10                      [256, 128]                32,896\n",
       "│    └─ReLU: 2-11                        [256, 128]                --\n",
       "├─Sequential: 1-6                        [256, 64]                 --\n",
       "│    └─Linear: 2-12                      [256, 64]                 8,256\n",
       "│    └─ReLU: 2-13                        [256, 64]                 --\n",
       "├─Linear: 1-7                            [256, 10]                 650\n",
       "==========================================================================================\n",
       "Total params: 4,403,786\n",
       "Trainable params: 4,403,786\n",
       "Non-trainable params: 0\n",
       "Total mult-adds (G): 1.13\n",
       "==========================================================================================\n",
       "Input size (MB): 0.80\n",
       "Forward/backward pass size (MB): 8.28\n",
       "Params size (MB): 17.62\n",
       "Estimated Total Size (MB): 26.70\n",
       "=========================================================================================="
      ]
     },
     "execution_count": 47,
     "metadata": {},
     "output_type": "execute_result"
    }
   ],
   "source": [
    "d_model2 = DropoutModel(0.3).to(device)\n",
    "summary(d_model, (BATCH_SIZE, 1, 28, 28))"
   ]
  },
  {
   "cell_type": "code",
   "execution_count": 48,
   "metadata": {},
   "outputs": [
    {
     "name": "stdout",
     "output_type": "stream",
     "text": [
      "Epoch[1/10] - Train loss: 2.30997 Train Accucracy: 0.09880 || Validation Loss: 2.30946 Validation Accuracy: 0.09890\n",
      "====================================================================================================\n",
      "Epoch[2/10] - Train loss: 2.30976 Train Accucracy: 0.09855 || Validation Loss: 2.30830 Validation Accuracy: 0.10070\n",
      "====================================================================================================\n"
     ]
    }
   ],
   "source": [
    "result = fit(train_loader, test_loader, d_model2, loss_fn, optimizer, N_EPOCH, \n",
    "             save_best_model=False, early_stopping=False,\n",
    "             device=device, mode='multi')"
   ]
  },
  {
   "cell_type": "code",
   "execution_count": null,
   "metadata": {},
   "outputs": [],
   "source": []
  },
  {
   "cell_type": "code",
   "execution_count": null,
   "metadata": {},
   "outputs": [],
   "source": []
  },
  {
   "attachments": {},
   "cell_type": "markdown",
   "metadata": {},
   "source": [
    "# Batch Normalization\n",
    "- Dense => BN => Activation"
   ]
  },
  {
   "cell_type": "code",
   "execution_count": null,
   "metadata": {},
   "outputs": [],
   "source": []
  },
  {
   "cell_type": "code",
   "execution_count": null,
   "metadata": {},
   "outputs": [],
   "source": []
  },
  {
   "cell_type": "code",
   "execution_count": null,
   "metadata": {},
   "outputs": [],
   "source": []
  },
  {
   "attachments": {},
   "cell_type": "markdown",
   "metadata": {},
   "source": [
    "# Learning rate decay"
   ]
  },
  {
   "attachments": {},
   "cell_type": "markdown",
   "metadata": {},
   "source": [
    "### Optimizer와 Learning rate scheduler의 속성, 메소드 확인\n",
    "- 파이토치는 `torch.optim` 모듈에서 다양한 Learning rate 알고리즘을 제공한다."
   ]
  },
  {
   "cell_type": "code",
   "execution_count": null,
   "metadata": {},
   "outputs": [],
   "source": []
  },
  {
   "attachments": {},
   "cell_type": "markdown",
   "metadata": {},
   "source": [
    "#### StepLR"
   ]
  },
  {
   "cell_type": "code",
   "execution_count": null,
   "metadata": {},
   "outputs": [],
   "source": []
  },
  {
   "attachments": {},
   "cell_type": "markdown",
   "metadata": {},
   "source": [
    "#### CosineAnnealingLR\n",
    "cosine 그래프를 그리면서 learning rate를 변경 하는 방식.  \n",
    "최근에는 learning rate를 단순히 감소시키기 보다는 감소와 증가를 반복하여 진동하는 방식으로 최적점을 찾아가는 알고리즘을 많이 사용한다. 이러한 방법 중 가장 간단하면서도 많이 사용되는 방법이 CosineAnnealingLR이다."
   ]
  },
  {
   "cell_type": "code",
   "execution_count": null,
   "metadata": {},
   "outputs": [],
   "source": []
  },
  {
   "attachments": {},
   "cell_type": "markdown",
   "metadata": {},
   "source": [
    "#### CosineAnnealingWarmRestarts\n",
    "\n",
    "cosine annealing의 스케쥴링에 cosine 주기의 에폭을 점점 늘리거나 줄일 수 있다. (보통 늘린다.)"
   ]
  },
  {
   "cell_type": "code",
   "execution_count": null,
   "metadata": {},
   "outputs": [],
   "source": []
  }
 ],
 "metadata": {
  "kernelspec": {
   "display_name": "Python 3 (ipykernel)",
   "language": "python",
   "name": "python3"
  },
  "language_info": {
   "codemirror_mode": {
    "name": "ipython",
    "version": 3
   },
   "file_extension": ".py",
   "mimetype": "text/x-python",
   "name": "python",
   "nbconvert_exporter": "python",
   "pygments_lexer": "ipython3",
   "version": "3.10.11"
  },
  "toc": {
   "base_numbering": 1,
   "nav_menu": {},
   "number_sections": false,
   "sideBar": true,
   "skip_h1_title": false,
   "title_cell": "Table of Contents",
   "title_sidebar": "Contents",
   "toc_cell": false,
   "toc_position": {},
   "toc_section_display": true,
   "toc_window_display": false
  },
  "varInspector": {
   "cols": {
    "lenName": 16,
    "lenType": 16,
    "lenVar": 40
   },
   "kernels_config": {
    "python": {
     "delete_cmd_postfix": "",
     "delete_cmd_prefix": "del ",
     "library": "var_list.py",
     "varRefreshCmd": "print(var_dic_list())"
    },
    "r": {
     "delete_cmd_postfix": ") ",
     "delete_cmd_prefix": "rm(",
     "library": "var_list.r",
     "varRefreshCmd": "cat(var_dic_list()) "
    }
   },
   "types_to_exclude": [
    "module",
    "function",
    "builtin_function_or_method",
    "instance",
    "_Feature"
   ],
   "window_display": false
  }
 },
 "nbformat": 4,
 "nbformat_minor": 4
}
