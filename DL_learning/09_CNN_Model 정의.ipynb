{
 "cells": [
  {
   "attachments": {},
   "cell_type": "markdown",
   "metadata": {
    "id": "n1-HdRR266M6",
    "slideshow": {
     "slide_type": "slide"
    }
   },
   "source": [
    "# Convolutional Neural Network 모델 정의"
   ]
  },
  {
   "cell_type": "code",
   "execution_count": 2,
   "metadata": {},
   "outputs": [
    {
     "name": "stdout",
     "output_type": "stream",
     "text": [
      "cuda cpu\n"
     ]
    }
   ],
   "source": [
    "import torch\n",
    "import torch.nn as nn\n",
    "\n",
    "DEVICE = \"cuda\" if torch.cuda.is_available() else \"mps\" if torch.backends.mps.is_available() else \"cpu\"\n",
    "CPU = \"cpu\"\n",
    "print(DEVICE, CPU)"
   ]
  },
  {
   "cell_type": "code",
   "execution_count": 7,
   "metadata": {},
   "outputs": [
    {
     "name": "stdout",
     "output_type": "stream",
     "text": [
      "Conv2d(4, 2, kernel_size=(3, 3), stride=(1, 1))\n"
     ]
    }
   ],
   "source": [
    "layer = nn.Conv2d(in_channels=4,        # 입력 채널 수\n",
    "                    out_channels=2,     # 출력 채널 수\n",
    "                    kernel_size=3,      # 커널 크기 (3, 3) == 3\n",
    "                    stride=1,           # 스트라이드 (1, 1) == 1 default = 1\n",
    "                    padding=0,          # 패딩 (1, 1) == 1 default = 0\n",
    "                    )\n",
    "print(layer)"
   ]
  },
  {
   "cell_type": "code",
   "execution_count": 8,
   "metadata": {},
   "outputs": [
    {
     "data": {
      "text/plain": [
       "torch.Size([2, 4, 3, 3])"
      ]
     },
     "execution_count": 8,
     "metadata": {},
     "output_type": "execute_result"
    }
   ],
   "source": [
    "# layer.weight / layer.bias => layer의 파라미터\n",
    "layer.weight.shape\n",
    "# [2, 4, 3, 3] -> [out_channels, -> 필터의 갯수 \n",
    "#                  in_channels,  -> 입력 채널 수\n",
    "#                  kernel_size,  -> 커널 크기(height)\n",
    "#                  kernel_size  -> 커널 크기(width)\n",
    "#                 ]"
   ]
  },
  {
   "cell_type": "code",
   "execution_count": 9,
   "metadata": {},
   "outputs": [
    {
     "data": {
      "text/plain": [
       "Parameter containing:\n",
       "tensor([ 0.1146, -0.1394], requires_grad=True)"
      ]
     },
     "execution_count": 9,
     "metadata": {},
     "output_type": "execute_result"
    }
   ],
   "source": [
    "layer.bias\n",
    "# [2] -> [out_channels]"
   ]
  },
  {
   "cell_type": "code",
   "execution_count": 15,
   "metadata": {},
   "outputs": [],
   "source": [
    "input_data =  torch.ones(1, 4, 3, 3) # 데이터의 갯수: 1, ch:3, h:3, w:3"
   ]
  },
  {
   "cell_type": "code",
   "execution_count": 20,
   "metadata": {},
   "outputs": [
    {
     "data": {
      "text/plain": [
       "(tensor(-0.2505, grad_fn=<AddBackward0>),\n",
       " tensor(0.0274, grad_fn=<AddBackward0>))"
      ]
     },
     "execution_count": 20,
     "metadata": {},
     "output_type": "execute_result"
    }
   ],
   "source": [
    "ch1 = torch.sum(input_data[0, 0] * layer.weight[0, 0])\n",
    "ch2 = torch.sum(input_data[0, 1] * layer.weight[0, 1])\n",
    "ch3 = torch.sum(input_data[0, 2] * layer.weight[0, 2])\n",
    "ch4 = torch.sum(input_data[0, 3] * layer.weight[0, 3])\n",
    "\n",
    "result = ch1 + ch2 + ch3 + ch4 + layer.bias[0].item()\n",
    "\n",
    "ch1 = torch.sum(input_data[0, 0] * layer.weight[1, 0])\n",
    "ch2 = torch.sum(input_data[0, 1] * layer.weight[1, 1])\n",
    "ch3 = torch.sum(input_data[0, 2] * layer.weight[1, 2])\n",
    "ch4 = torch.sum(input_data[0, 3] * layer.weight[1, 3])\n",
    "\n",
    "result2 = ch1 + ch2 + ch3 + ch4 + layer.bias[1].item()\n",
    "\n",
    "result, result2"
   ]
  },
  {
   "cell_type": "code",
   "execution_count": 21,
   "metadata": {},
   "outputs": [
    {
     "data": {
      "text/plain": [
       "tensor([[[[-0.2505]],\n",
       "\n",
       "         [[ 0.0274]]]], grad_fn=<ConvolutionBackward0>)"
      ]
     },
     "execution_count": 21,
     "metadata": {},
     "output_type": "execute_result"
    }
   ],
   "source": [
    "result3 = layer(input_data)\n",
    "result3"
   ]
  },
  {
   "attachments": {},
   "cell_type": "markdown",
   "metadata": {},
   "source": [
    "# MNIST"
   ]
  },
  {
   "cell_type": "code",
   "execution_count": 47,
   "metadata": {},
   "outputs": [],
   "source": [
    "from pathlib import Path\n",
    "import torch\n",
    "from torch import nn\n",
    "import torch.nn.functional as F\n",
    "from torch.utils.data import DataLoader\n",
    "from torchvision import models, datasets, transforms\n",
    "from torchinfo import summary\n",
    "from module.data import load_mnist_dataset, load_fashion_mnist_dataset\n",
    "from module.train import fit\n",
    "\n",
    "import matplotlib.pyplot as plt\n",
    "import numpy as np\n",
    "\n",
    "DEVICE = 'cuda' if torch.cuda.is_available() else 'mps' if torch.backends.mps.is_available() else 'cpu'\n",
    "CPU = 'cpu'"
   ]
  },
  {
   "cell_type": "code",
   "execution_count": 48,
   "metadata": {},
   "outputs": [],
   "source": [
    "DATASET_ROOT_PATH =  'datasets'\n",
    "MODEL_SAVE_PATH = 'models'\n",
    "\n",
    "N_EPOCH = 1\n",
    "BATCH_SIZE = 128\n",
    "LR = 0.001\n",
    "\n",
    "DEVICE = \"cuda\" if torch.cuda.is_available() else \"cpu\"\n",
    "CPU = \"cpu\""
   ]
  },
  {
   "cell_type": "code",
   "execution_count": null,
   "metadata": {},
   "outputs": [],
   "source": []
  },
  {
   "attachments": {},
   "cell_type": "markdown",
   "metadata": {},
   "source": [
    "## Data 준비"
   ]
  },
  {
   "cell_type": "code",
   "execution_count": 49,
   "metadata": {},
   "outputs": [],
   "source": [
    "train_loader = load_fashion_mnist_dataset(DATASET_ROOT_PATH, BATCH_SIZE, is_train=True)\n",
    "test_loader = load_fashion_mnist_dataset(DATASET_ROOT_PATH, BATCH_SIZE, is_train=False)"
   ]
  },
  {
   "cell_type": "code",
   "execution_count": 50,
   "metadata": {},
   "outputs": [
    {
     "data": {
      "text/plain": [
       "(Dataset FashionMNIST\n",
       "     Number of datapoints: 60000\n",
       "     Root location: datasets\n",
       "     Split: Train\n",
       "     StandardTransform\n",
       " Transform: Compose(\n",
       "                ToTensor()\n",
       "            ),\n",
       " Dataset FashionMNIST\n",
       "     Number of datapoints: 10000\n",
       "     Root location: datasets\n",
       "     Split: Test\n",
       "     StandardTransform\n",
       " Transform: Compose(\n",
       "                ToTensor()\n",
       "            ))"
      ]
     },
     "execution_count": 50,
     "metadata": {},
     "output_type": "execute_result"
    }
   ],
   "source": [
    "train_loader.dataset, test_loader.dataset"
   ]
  },
  {
   "cell_type": "code",
   "execution_count": null,
   "metadata": {},
   "outputs": [],
   "source": []
  },
  {
   "attachments": {},
   "cell_type": "markdown",
   "metadata": {},
   "source": [
    "## CNN 모델 정의"
   ]
  },
  {
   "cell_type": "code",
   "execution_count": 51,
   "metadata": {},
   "outputs": [],
   "source": [
    "# CNN 모델 정의\n",
    "#   Conv Layer: filter의 갯수(out channels)는 뒤로 갈수록 크게 한다.\n",
    "#   출력결과 (Feature Map)의 크기는 점점 줄여나간다. => Max Pooling\n",
    "# 1. Conv + ReLU + MaxPool\n",
    "# 2. Conv + BatchNorm + ReLU + MaxPool\n",
    "# 3. Conv + BatchNorm + ReLU + Dropout + MaxPool\n",
    "\n",
    "class FMnistCNNModel(nn.Module):\n",
    "    \n",
    "    def __init__(self):\n",
    "        super().__init__()\n",
    "        self.block1 = nn.Sequential(nn.Conv2d(1, 32, kernel_size=3, stride=1, padding=1),   # 3x3 필터, stride=1, padding=1 == output size = input size\n",
    "                                    nn.BatchNorm2d(32),\n",
    "                                    nn.ReLU(),\n",
    "                                    nn.Dropout2d(0.3),\n",
    "                                    nn.MaxPool2d(kernel_size=2, stride=2, padding=0),\n",
    "                                    )\n",
    "        \n",
    "        self.block2 = nn.Sequential(nn.Conv2d(32, 64, kernel_size=3, padding='same'),       # padding='same' == padding=1\n",
    "                                    nn.BatchNorm2d(64),\n",
    "                                    nn.ReLU(),\n",
    "                                    nn.Dropout2d(0.3),\n",
    "                                    nn.MaxPool2d(kernel_size=2),                 # stride가 kernel_size와 같으면 stride 생략 가능\n",
    "                                    )\n",
    "        \n",
    "        self.block3 = nn.Sequential(nn.Conv2d(64, 128, kernel_size=3, padding='same'),\n",
    "                                    nn.BatchNorm2d(128),\n",
    "                                    nn.ReLU(),\n",
    "                                    nn.Dropout2d(0.3),\n",
    "                                    nn.MaxPool2d(kernel_size=2),\n",
    "                                    )\n",
    "        \n",
    "        self.output_block = nn.Sequential(\n",
    "                                    nn.Flatten(),\n",
    "                                    nn.Linear(128 * 3 * 3, 512),\n",
    "                                    nn.ReLU(),\n",
    "                                    nn.Dropout(0.3),\n",
    "                                    nn.Linear(512, 10),\n",
    "                                    )\n",
    "        \n",
    "        self.blocks = nn.Sequential(self.block1, self.block2, self.block3, self.output_block)\n",
    "        \n",
    "        \n",
    "    def forward(self, X):\n",
    "        \n",
    "        out = self.blocks(X)\n",
    "        \n",
    "        return out"
   ]
  },
  {
   "cell_type": "code",
   "execution_count": 52,
   "metadata": {},
   "outputs": [
    {
     "data": {
      "text/plain": [
       "==========================================================================================\n",
       "Layer (type:depth-idx)                   Output Shape              Param #\n",
       "==========================================================================================\n",
       "FMnistCNNModel                           [128, 10]                 --\n",
       "├─Sequential: 1-1                        [128, 10]                 --\n",
       "│    └─Sequential: 2-1                   [128, 32, 14, 14]         --\n",
       "│    │    └─Conv2d: 3-1                  [128, 32, 28, 28]         320\n",
       "│    │    └─BatchNorm2d: 3-2             [128, 32, 28, 28]         64\n",
       "│    │    └─ReLU: 3-3                    [128, 32, 28, 28]         --\n",
       "│    │    └─Dropout2d: 3-4               [128, 32, 28, 28]         --\n",
       "│    │    └─MaxPool2d: 3-5               [128, 32, 14, 14]         --\n",
       "│    └─Sequential: 2-2                   [128, 64, 7, 7]           --\n",
       "│    │    └─Conv2d: 3-6                  [128, 64, 14, 14]         18,496\n",
       "│    │    └─BatchNorm2d: 3-7             [128, 64, 14, 14]         128\n",
       "│    │    └─ReLU: 3-8                    [128, 64, 14, 14]         --\n",
       "│    │    └─Dropout2d: 3-9               [128, 64, 14, 14]         --\n",
       "│    │    └─MaxPool2d: 3-10              [128, 64, 7, 7]           --\n",
       "│    └─Sequential: 2-3                   [128, 128, 3, 3]          --\n",
       "│    │    └─Conv2d: 3-11                 [128, 128, 7, 7]          73,856\n",
       "│    │    └─BatchNorm2d: 3-12            [128, 128, 7, 7]          256\n",
       "│    │    └─ReLU: 3-13                   [128, 128, 7, 7]          --\n",
       "│    │    └─Dropout2d: 3-14              [128, 128, 7, 7]          --\n",
       "│    │    └─MaxPool2d: 3-15              [128, 128, 3, 3]          --\n",
       "│    └─Sequential: 2-4                   [128, 10]                 --\n",
       "│    │    └─Flatten: 3-16                [128, 1152]               --\n",
       "│    │    └─Linear: 3-17                 [128, 512]                590,336\n",
       "│    │    └─ReLU: 3-18                   [128, 512]                --\n",
       "│    │    └─Dropout: 3-19                [128, 512]                --\n",
       "│    │    └─Linear: 3-20                 [128, 10]                 5,130\n",
       "==========================================================================================\n",
       "Total params: 688,586\n",
       "Trainable params: 688,586\n",
       "Non-trainable params: 0\n",
       "Total mult-adds (G): 1.04\n",
       "==========================================================================================\n",
       "Input size (MB): 0.40\n",
       "Forward/backward pass size (MB): 90.45\n",
       "Params size (MB): 2.75\n",
       "Estimated Total Size (MB): 93.61\n",
       "=========================================================================================="
      ]
     },
     "execution_count": 52,
     "metadata": {},
     "output_type": "execute_result"
    }
   ],
   "source": [
    "model = FMnistCNNModel().to(DEVICE)\n",
    "summary(model, input_size=(BATCH_SIZE, 1, 28, 28))"
   ]
  },
  {
   "cell_type": "code",
   "execution_count": 56,
   "metadata": {},
   "outputs": [
    {
     "data": {
      "text/plain": [
       "torch.Size([128])"
      ]
     },
     "execution_count": 56,
     "metadata": {},
     "output_type": "execute_result"
    }
   ],
   "source": [
    "next(iter(train_loader))[1].shape"
   ]
  },
  {
   "cell_type": "code",
   "execution_count": 62,
   "metadata": {},
   "outputs": [
    {
     "name": "stdout",
     "output_type": "stream",
     "text": [
      "Epoch[1/20] - Train loss: 0.32616 Train Accucracy: 0.87718 || Validation Loss: 0.35243 Validation Accuracy: 0.86950\n",
      "====================================================================================================\n",
      "Epoch[2/20] - Train loss: 0.27115 Train Accucracy: 0.89982 || Validation Loss: 0.30546 Validation Accuracy: 0.88780\n",
      "====================================================================================================\n",
      "Epoch[3/20] - Train loss: 0.24928 Train Accucracy: 0.90625 || Validation Loss: 0.28775 Validation Accuracy: 0.89060\n",
      "====================================================================================================\n",
      "Epoch[4/20] - Train loss: 0.22779 Train Accucracy: 0.91453 || Validation Loss: 0.27256 Validation Accuracy: 0.90080\n",
      "====================================================================================================\n",
      "Epoch[5/20] - Train loss: 0.20397 Train Accucracy: 0.92368 || Validation Loss: 0.25038 Validation Accuracy: 0.90760\n",
      "====================================================================================================\n",
      "Epoch[6/20] - Train loss: 0.19644 Train Accucracy: 0.92588 || Validation Loss: 0.24584 Validation Accuracy: 0.90810\n",
      "====================================================================================================\n",
      "Epoch[7/20] - Train loss: 0.19732 Train Accucracy: 0.92560 || Validation Loss: 0.25502 Validation Accuracy: 0.90860\n",
      "====================================================================================================\n",
      "Epoch[8/20] - Train loss: 0.18471 Train Accucracy: 0.93047 || Validation Loss: 0.24108 Validation Accuracy: 0.91210\n",
      "====================================================================================================\n",
      "Epoch[9/20] - Train loss: 0.16715 Train Accucracy: 0.93813 || Validation Loss: 0.23206 Validation Accuracy: 0.91340\n",
      "====================================================================================================\n",
      "Epoch[10/20] - Train loss: 0.16081 Train Accucracy: 0.94037 || Validation Loss: 0.22692 Validation Accuracy: 0.91780\n",
      "====================================================================================================\n",
      "Epoch[11/20] - Train loss: 0.16310 Train Accucracy: 0.93870 || Validation Loss: 0.23125 Validation Accuracy: 0.91740\n",
      "====================================================================================================\n",
      "Epoch[12/20] - Train loss: 0.15355 Train Accucracy: 0.94248 || Validation Loss: 0.21784 Validation Accuracy: 0.91900\n",
      "====================================================================================================\n",
      "Epoch[13/20] - Train loss: 0.14335 Train Accucracy: 0.94618 || Validation Loss: 0.21782 Validation Accuracy: 0.92090\n",
      "====================================================================================================\n",
      "Epoch[14/20] - Train loss: 0.14480 Train Accucracy: 0.94550 || Validation Loss: 0.22071 Validation Accuracy: 0.91870\n",
      "====================================================================================================\n",
      "Epoch[15/20] - Train loss: 0.13617 Train Accucracy: 0.94967 || Validation Loss: 0.21591 Validation Accuracy: 0.92080\n",
      "====================================================================================================\n",
      "Epoch[16/20] - Train loss: 0.13551 Train Accucracy: 0.94825 || Validation Loss: 0.21919 Validation Accuracy: 0.92420\n",
      "====================================================================================================\n",
      "Epoch[17/20] - Train loss: 0.12470 Train Accucracy: 0.95313 || Validation Loss: 0.21190 Validation Accuracy: 0.92620\n",
      "====================================================================================================\n",
      "Epoch[18/20] - Train loss: 0.12640 Train Accucracy: 0.95187 || Validation Loss: 0.21660 Validation Accuracy: 0.92080\n",
      "====================================================================================================\n",
      "Epoch[19/20] - Train loss: 0.11584 Train Accucracy: 0.95678 || Validation Loss: 0.21445 Validation Accuracy: 0.92870\n",
      "====================================================================================================\n",
      "Epoch[20/20] - Train loss: 0.11672 Train Accucracy: 0.95642 || Validation Loss: 0.21025 Validation Accuracy: 0.92330\n",
      "====================================================================================================\n",
      "296.57301449775696 초\n"
     ]
    }
   ],
   "source": [
    "# 학습\n",
    "import os\n",
    "\n",
    "DATASET_ROOT_PATH =  './datasets'\n",
    "SAVE_MODEL_PATH = './models/FashionMNIST/'\n",
    "model_name = 'fashion_mnist_cnn_model.pth'\n",
    "model_path = os.path.join(SAVE_MODEL_PATH, model_name)\n",
    "\n",
    "N_EPOCH = 20\n",
    "BATCH_SIZE = 128\n",
    "LR = 0.001\n",
    "\n",
    "DEVICE = \"cuda\" if torch.cuda.is_available() else \"cpu\"\n",
    "CPU = \"cpu\"\n",
    "\n",
    "model = FMnistCNNModel().to(DEVICE)\n",
    "loss_fn = nn.CrossEntropyLoss()\n",
    "optimizer = torch.optim.Adam(model.parameters(), lr=LR)\n",
    "\n",
    "rseult = fit(train_loader=train_loader, val_loader=test_loader, model=model, loss_fn=loss_fn, optimizer=optimizer,\n",
    "            epochs=N_EPOCH, device=DEVICE, save_best_model=False, save_model_path=model_path,\n",
    "            early_stopping=True, patience=10, mode='multi')"
   ]
  },
  {
   "cell_type": "code",
   "execution_count": 63,
   "metadata": {},
   "outputs": [
    {
     "data": {
      "image/png": "[encoded data removed]",
      "text/plain": [
       "<Figure size 800x700 with 2 Axes>"
      ]
     },
     "metadata": {},
     "output_type": "display_data"
    }
   ],
   "source": [
    "import module.utils as utils\n",
    "utils.plot_fit_result(*rseult)"
   ]
  },
  {
   "attachments": {},
   "cell_type": "markdown",
   "metadata": {},
   "source": [
    "## Train"
   ]
  },
  {
   "cell_type": "code",
   "execution_count": null,
   "metadata": {},
   "outputs": [],
   "source": []
  }
 ],
 "metadata": {
  "accelerator": "GPU",
  "colab": {
   "collapsed_sections": [
    "2ARCyjDW66NR",
    "6bAN1wPG66NS",
    "shNUg6al66NV",
    "7xgQxAU666NZ"
   ],
   "name": "07_CNN_MNIST분류, 모델저장.ipynb",
   "provenance": [],
   "toc_visible": true
  },
  "kernelspec": {
   "display_name": "Python 3 (ipykernel)",
   "language": "python",
   "name": "python3"
  },
  "language_info": {
   "codemirror_mode": {
    "name": "ipython",
    "version": 3
   },
   "file_extension": ".py",
   "mimetype": "text/x-python",
   "name": "python",
   "nbconvert_exporter": "python",
   "pygments_lexer": "ipython3",
   "version": "3.10.11"
  },
  "toc": {
   "base_numbering": 1,
   "nav_menu": {},
   "number_sections": true,
   "sideBar": true,
   "skip_h1_title": false,
   "title_cell": "Table of Contents",
   "title_sidebar": "Contents",
   "toc_cell": false,
   "toc_position": {},
   "toc_section_display": true,
   "toc_window_display": false
  },
  "varInspector": {
   "cols": {
    "lenName": 16,
    "lenType": 16,
    "lenVar": 40
   },
   "kernels_config": {
    "python": {
     "delete_cmd_postfix": "",
     "delete_cmd_prefix": "del ",
     "library": "var_list.py",
     "varRefreshCmd": "print(var_dic_list())"
    },
    "r": {
     "delete_cmd_postfix": ") ",
     "delete_cmd_prefix": "rm(",
     "library": "var_list.r",
     "varRefreshCmd": "cat(var_dic_list()) "
    }
   },
   "types_to_exclude": [
    "module",
    "function",
    "builtin_function_or_method",
    "instance",
    "_Feature"
   ],
   "window_display": false
  }
 },
 "nbformat": 4,
 "nbformat_minor": 1
}
