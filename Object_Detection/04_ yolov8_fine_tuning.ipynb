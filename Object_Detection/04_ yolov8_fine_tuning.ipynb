{
 "cells": [
  {
   "attachments": {},
   "cell_type": "markdown",
   "id": "0261426e",
   "metadata": {
    "id": "0261426e"
   },
   "source": [
    "# Custom data training\n",
    "\n",
    "## 학습데이터 디렉토리 구조\n",
    "\n",
    "- train/validation/test 데이터셋 디렉토리를 각각 생성한다.\n",
    "- images 폴더에 이미지 파일을, labels 폴더에 annotation 파일들을 저장한다.\n",
    "    - annotation 파일은 대상 image 파일과 이름이 같아야 하고 확장자는 txt로 한다."
   ]
  },
  {
   "attachments": {},
   "cell_type": "markdown",
   "id": "fabff423",
   "metadata": {},
   "source": [
    "![img](figures/img.png)"
   ]
  },
  {
   "attachments": {},
   "cell_type": "markdown",
   "id": "6ce054b9",
   "metadata": {
    "id": "6ce054b9"
   },
   "source": [
    "- YOLO object detection annotation 파일 형식\n",
    "    - 공백을 구분자로 하는 csv 파일 형식\n",
    "    - 한줄에 한개 object의 정보를 작성한다.\n",
    "    - `label center_x, center_y, bbox_width, bbox_height`\n",
    "        - bbox 위치정보는 image의 size 에 대한 비율로 정의한다.\n",
    "        - 예)\n",
    "            ```\n",
    "            0.0    0.329934450147929     0.5672360751315789    0.25200291331360947   0.15803108815789477\n",
    "            0.0    0.8026219956360947    0.5186609456578948    0.0975965039940829    0.08419689131578946\n",
    "            ```\n"
   ]
  },
  {
   "attachments": {},
   "cell_type": "markdown",
   "id": "df4c3706",
   "metadata": {
    "id": "df4c3706"
   },
   "source": [
    "## 학습 설정 yaml 파일 작성\n",
    "- 다음 항목들을 작성한다.\n",
    "    - train: train dataset 저장경로\n",
    "    - test: test dataset 저장경로\n",
    "    - val: validation dataset 저장경로\n",
    "        - train/test/validation 저장경로는 절대경로로 작성한다.\n",
    "    - nc: class 개수\n",
    "    - names: class name\n",
    "        ```yaml\n",
    "        train: C:\\datasets\\train\n",
    "        test: C:\\datasets\\test\n",
    "        val: C:\\datasets\\val\n",
    "        nc: 2\n",
    "        names: [\"car\", \"bus\"]\n",
    "        ```\n",
    "\n",
    "> yaml: https://yaml.org/"
   ]
  },
  {
   "attachments": {},
   "cell_type": "markdown",
   "id": "defbc4fd",
   "metadata": {
    "id": "defbc4fd"
   },
   "source": [
    "## Training 하기\n",
    "### CLI\n",
    "\n",
    "<b style='font-size:1.3em'>1.  학습시작</b>\n",
    "```bash\n",
    "yolo detect train data=custom_data.yaml model=yolov8n.pt epochs=100 imgsz=640\n",
    "```\n",
    "- model: train 지정\n",
    "- data: 학습관련 설정 파일 경로로 다음을 설정한다.\n",
    "    - train/test/validation dataset 저장경로\n",
    "    - class 개수\n",
    "    - class name\n",
    "- model: fine tuning 시 시작 Pretrained Model 파일 경로\n",
    "- args\n",
    "    - epochs: 반복횟수\n",
    "    - imgsz: input image size\n",
    "    - https://docs.ultralytics.com/cfg/\n",
    "\n",
    "<b style='font-size:1.3em'>2. 이어서 학습하기</b>\n",
    "```bash\n",
    "yolo detect train resume model=last.pt\n",
    "```\n",
    "- model: 마지막으로 저장된 파일 경로"
   ]
  },
  {
   "attachments": {},
   "cell_type": "markdown",
   "id": "a06af4eb",
   "metadata": {
    "id": "a06af4eb"
   },
   "source": [
    "### Python\n",
    "\n",
    "1. YOLO객체 생성\n",
    "    - Fine tuning할 경우 pretrained 모델파일 저장 경로를 지정한다.\n",
    "    - 새로 학습할 경우 모델구조를 정의한 yaml 설정파일 저장 경로를 지정한다.\n",
    "2. train\n",
    "    - train 설정 yaml 파일의 위치와 train을 위한 정보들을 매개변수로 전달한다."
   ]
  },
  {
   "cell_type": "code",
   "execution_count": null,
   "id": "XcgLzwpPPkJ0",
   "metadata": {
    "colab": {
     "base_uri": "https://localhost:8080/"
    },
    "executionInfo": {
     "elapsed": 18281,
     "status": "ok",
     "timestamp": 1686743148112,
     "user": {
      "displayName": "김성환",
      "userId": "02802166581970122576"
     },
     "user_tz": -540
    },
    "id": "XcgLzwpPPkJ0",
    "outputId": "9b470966-3c4b-4976-9fcc-8858ec6342fd"
   },
   "outputs": [],
   "source": [
    "from google.colab import drive\n",
    "drive.mount('/content/drive')"
   ]
  },
  {
   "cell_type": "code",
   "execution_count": 1,
   "id": "Az7zqQ7-P0u-",
   "metadata": {
    "executionInfo": {
     "elapsed": 328,
     "status": "ok",
     "timestamp": 1686744118723,
     "user": {
      "displayName": "김성환",
      "userId": "02802166581970122576"
     },
     "user_tz": -540
    },
    "id": "Az7zqQ7-P0u-"
   },
   "outputs": [],
   "source": [
    "# 디렉토리, 파일 경로 변수\n",
    "import os\n",
    "DATA_TARGET_DIR_PATH = './dataset_comp'\n",
    "DATASET_TARGET_DIR_PATH = r'./datasets/fruits2'\n",
    "\n",
    "os.makedirs(DATA_TARGET_DIR_PATH, exist_ok=True)"
   ]
  },
  {
   "attachments": {},
   "cell_type": "markdown",
   "id": "b6c64635",
   "metadata": {
    "id": "b6c64635"
   },
   "source": [
    "## Dataset 다운 및 복사\n",
    "\n",
    "- https://universe.roboflow.com/bohni-tech/fruits-and-vegi/"
   ]
  },
  {
   "cell_type": "code",
   "execution_count": 2,
   "id": "VWuvsuCMvMdL",
   "metadata": {
    "colab": {
     "base_uri": "https://localhost:8080/",
     "height": 72
    },
    "executionInfo": {
     "elapsed": 10282,
     "status": "ok",
     "timestamp": 1686744131839,
     "user": {
      "displayName": "김성환",
      "userId": "02802166581970122576"
     },
     "user_tz": -540
    },
    "id": "VWuvsuCMvMdL",
    "outputId": "77a9e950-2e99-4ff6-8880-6e771886101a"
   },
   "outputs": [
    {
     "name": "stdout",
     "output_type": "stream",
     "text": [
      "Requirement already satisfied: wget in /home/parking/anaconda3/envs/ml/lib/python3.10/site-packages (3.2)\n"
     ]
    },
    {
     "ename": "KeyboardInterrupt",
     "evalue": "",
     "output_type": "error",
     "traceback": [
      "\u001b[0;31m---------------------------------------------------------------------------\u001b[0m",
      "\u001b[0;31mKeyboardInterrupt\u001b[0m                         Traceback (most recent call last)",
      "Cell \u001b[0;32mIn[2], line 4\u001b[0m\n\u001b[1;32m      1\u001b[0m get_ipython()\u001b[39m.\u001b[39msystem(\u001b[39m'\u001b[39m\u001b[39mpip install wget --upgrade\u001b[39m\u001b[39m'\u001b[39m)\n\u001b[1;32m      2\u001b[0m \u001b[39mimport\u001b[39;00m \u001b[39mwget\u001b[39;00m\n\u001b[0;32m----> 4\u001b[0m DATA_SOURCE_FILE_PATH \u001b[39m=\u001b[39m wget\u001b[39m.\u001b[39;49mdownload(\u001b[39m\"\u001b[39;49m\u001b[39mhttps://universe.roboflow.com/ds/zeboj2RMLi?key=8NoMSoXc2m\u001b[39;49m\u001b[39m\"\u001b[39;49m, out\u001b[39m=\u001b[39;49mDATA_TARGET_DIR_PATH)\n",
      "File \u001b[0;32m~/anaconda3/envs/ml/lib/python3.10/site-packages/wget.py:526\u001b[0m, in \u001b[0;36mdownload\u001b[0;34m(url, out, bar)\u001b[0m\n\u001b[1;32m    524\u001b[0m \u001b[39melse\u001b[39;00m:\n\u001b[1;32m    525\u001b[0m     binurl \u001b[39m=\u001b[39m url\n\u001b[0;32m--> 526\u001b[0m (tmpfile, headers) \u001b[39m=\u001b[39m ulib\u001b[39m.\u001b[39;49murlretrieve(binurl, tmpfile, callback)\n\u001b[1;32m    527\u001b[0m filename \u001b[39m=\u001b[39m detect_filename(url, out, headers)\n\u001b[1;32m    528\u001b[0m \u001b[39mif\u001b[39;00m outdir:\n",
      "File \u001b[0;32m~/anaconda3/envs/ml/lib/python3.10/urllib/request.py:270\u001b[0m, in \u001b[0;36murlretrieve\u001b[0;34m(url, filename, reporthook, data)\u001b[0m\n\u001b[1;32m    267\u001b[0m     reporthook(blocknum, bs, size)\n\u001b[1;32m    269\u001b[0m \u001b[39mwhile\u001b[39;00m \u001b[39mTrue\u001b[39;00m:\n\u001b[0;32m--> 270\u001b[0m     block \u001b[39m=\u001b[39m fp\u001b[39m.\u001b[39;49mread(bs)\n\u001b[1;32m    271\u001b[0m     \u001b[39mif\u001b[39;00m \u001b[39mnot\u001b[39;00m block:\n\u001b[1;32m    272\u001b[0m         \u001b[39mbreak\u001b[39;00m\n",
      "File \u001b[0;32m~/anaconda3/envs/ml/lib/python3.10/http/client.py:466\u001b[0m, in \u001b[0;36mHTTPResponse.read\u001b[0;34m(self, amt)\u001b[0m\n\u001b[1;32m    463\u001b[0m \u001b[39mif\u001b[39;00m \u001b[39mself\u001b[39m\u001b[39m.\u001b[39mlength \u001b[39mis\u001b[39;00m \u001b[39mnot\u001b[39;00m \u001b[39mNone\u001b[39;00m \u001b[39mand\u001b[39;00m amt \u001b[39m>\u001b[39m \u001b[39mself\u001b[39m\u001b[39m.\u001b[39mlength:\n\u001b[1;32m    464\u001b[0m     \u001b[39m# clip the read to the \"end of response\"\u001b[39;00m\n\u001b[1;32m    465\u001b[0m     amt \u001b[39m=\u001b[39m \u001b[39mself\u001b[39m\u001b[39m.\u001b[39mlength\n\u001b[0;32m--> 466\u001b[0m s \u001b[39m=\u001b[39m \u001b[39mself\u001b[39;49m\u001b[39m.\u001b[39;49mfp\u001b[39m.\u001b[39;49mread(amt)\n\u001b[1;32m    467\u001b[0m \u001b[39mif\u001b[39;00m \u001b[39mnot\u001b[39;00m s \u001b[39mand\u001b[39;00m amt:\n\u001b[1;32m    468\u001b[0m     \u001b[39m# Ideally, we would raise IncompleteRead if the content-length\u001b[39;00m\n\u001b[1;32m    469\u001b[0m     \u001b[39m# wasn't satisfied, but it might break compatibility.\u001b[39;00m\n\u001b[1;32m    470\u001b[0m     \u001b[39mself\u001b[39m\u001b[39m.\u001b[39m_close_conn()\n",
      "File \u001b[0;32m~/anaconda3/envs/ml/lib/python3.10/socket.py:705\u001b[0m, in \u001b[0;36mSocketIO.readinto\u001b[0;34m(self, b)\u001b[0m\n\u001b[1;32m    703\u001b[0m \u001b[39mwhile\u001b[39;00m \u001b[39mTrue\u001b[39;00m:\n\u001b[1;32m    704\u001b[0m     \u001b[39mtry\u001b[39;00m:\n\u001b[0;32m--> 705\u001b[0m         \u001b[39mreturn\u001b[39;00m \u001b[39mself\u001b[39;49m\u001b[39m.\u001b[39;49m_sock\u001b[39m.\u001b[39;49mrecv_into(b)\n\u001b[1;32m    706\u001b[0m     \u001b[39mexcept\u001b[39;00m timeout:\n\u001b[1;32m    707\u001b[0m         \u001b[39mself\u001b[39m\u001b[39m.\u001b[39m_timeout_occurred \u001b[39m=\u001b[39m \u001b[39mTrue\u001b[39;00m\n",
      "File \u001b[0;32m~/anaconda3/envs/ml/lib/python3.10/ssl.py:1274\u001b[0m, in \u001b[0;36mSSLSocket.recv_into\u001b[0;34m(self, buffer, nbytes, flags)\u001b[0m\n\u001b[1;32m   1270\u001b[0m     \u001b[39mif\u001b[39;00m flags \u001b[39m!=\u001b[39m \u001b[39m0\u001b[39m:\n\u001b[1;32m   1271\u001b[0m         \u001b[39mraise\u001b[39;00m \u001b[39mValueError\u001b[39;00m(\n\u001b[1;32m   1272\u001b[0m           \u001b[39m\"\u001b[39m\u001b[39mnon-zero flags not allowed in calls to recv_into() on \u001b[39m\u001b[39m%s\u001b[39;00m\u001b[39m\"\u001b[39m \u001b[39m%\u001b[39m\n\u001b[1;32m   1273\u001b[0m           \u001b[39mself\u001b[39m\u001b[39m.\u001b[39m\u001b[39m__class__\u001b[39m)\n\u001b[0;32m-> 1274\u001b[0m     \u001b[39mreturn\u001b[39;00m \u001b[39mself\u001b[39;49m\u001b[39m.\u001b[39;49mread(nbytes, buffer)\n\u001b[1;32m   1275\u001b[0m \u001b[39melse\u001b[39;00m:\n\u001b[1;32m   1276\u001b[0m     \u001b[39mreturn\u001b[39;00m \u001b[39msuper\u001b[39m()\u001b[39m.\u001b[39mrecv_into(buffer, nbytes, flags)\n",
      "File \u001b[0;32m~/anaconda3/envs/ml/lib/python3.10/ssl.py:1130\u001b[0m, in \u001b[0;36mSSLSocket.read\u001b[0;34m(self, len, buffer)\u001b[0m\n\u001b[1;32m   1128\u001b[0m \u001b[39mtry\u001b[39;00m:\n\u001b[1;32m   1129\u001b[0m     \u001b[39mif\u001b[39;00m buffer \u001b[39mis\u001b[39;00m \u001b[39mnot\u001b[39;00m \u001b[39mNone\u001b[39;00m:\n\u001b[0;32m-> 1130\u001b[0m         \u001b[39mreturn\u001b[39;00m \u001b[39mself\u001b[39;49m\u001b[39m.\u001b[39;49m_sslobj\u001b[39m.\u001b[39;49mread(\u001b[39mlen\u001b[39;49m, buffer)\n\u001b[1;32m   1131\u001b[0m     \u001b[39melse\u001b[39;00m:\n\u001b[1;32m   1132\u001b[0m         \u001b[39mreturn\u001b[39;00m \u001b[39mself\u001b[39m\u001b[39m.\u001b[39m_sslobj\u001b[39m.\u001b[39mread(\u001b[39mlen\u001b[39m)\n",
      "\u001b[0;31mKeyboardInterrupt\u001b[0m: "
     ]
    }
   ],
   "source": [
    "!pip install wget --upgrade\n",
    "import wget\n",
    "\n",
    "DATA_SOURCE_FILE_PATH = wget.download(\"https://universe.roboflow.com/ds/zeboj2RMLi?key=8NoMSoXc2m\", out=DATA_TARGET_DIR_PATH)\n"
   ]
  },
  {
   "cell_type": "code",
   "execution_count": 11,
   "id": "7c06ffe4",
   "metadata": {},
   "outputs": [],
   "source": [
    "DATA_SOURCE_FILE_PATH ='./dataset_comp/Fruits and Vegi.v13-verison8.yolov8.zip'"
   ]
  },
  {
   "cell_type": "code",
   "execution_count": 3,
   "id": "b9ef8f30",
   "metadata": {},
   "outputs": [],
   "source": [
    "import wget\n",
    "\n",
    "DATA_SOURCE_FILE_PATH = wget.download(\"https://universe.roboflow.com/ds/8rc4bOyQKf?key=wlXA0GNOho\", out=DATA_TARGET_DIR_PATH)\n"
   ]
  },
  {
   "cell_type": "code",
   "execution_count": 4,
   "id": "WvVGf9cURTb2",
   "metadata": {
    "executionInfo": {
     "elapsed": 6275,
     "status": "ok",
     "timestamp": 1686744141776,
     "user": {
      "displayName": "김성환",
      "userId": "02802166581970122576"
     },
     "user_tz": -540
    },
    "id": "WvVGf9cURTb2"
   },
   "outputs": [],
   "source": [
    "from zipfile import ZipFile\n",
    "\n",
    "with ZipFile(DATA_SOURCE_FILE_PATH) as zipFile:\n",
    "    zipFile.extractall(DATASET_TARGET_DIR_PATH)"
   ]
  },
  {
   "attachments": {},
   "cell_type": "markdown",
   "id": "637df3d5",
   "metadata": {
    "id": "637df3d5"
   },
   "source": [
    "# 과일, 야채 image detection"
   ]
  },
  {
   "cell_type": "code",
   "execution_count": 2,
   "id": "b3d22782",
   "metadata": {
    "executionInfo": {
     "elapsed": 327,
     "status": "ok",
     "timestamp": 1686744170501,
     "user": {
      "displayName": "김성환",
      "userId": "02802166581970122576"
     },
     "user_tz": -540
    },
    "id": "b3d22782"
   },
   "outputs": [],
   "source": [
    "fruits = ['Apple', 'Banana', 'Beetroot', 'Bitter_Gourd', 'Bottle_Gourd', 'Cabbage', 'Capsicum', 'Carrot', 'Cauliflower', 'Cherry', 'Chilli', 'Coconut', 'Cucumber',\n",
    "            'EggPlant', 'Ginger', 'Grape', 'Green_Orange', 'Kiwi', 'Maize', 'Mango', 'Melon', 'Okra', 'Onion', 'Orange', 'Peach', 'Pear', 'Peas',\n",
    "            'Pineapple', 'Pomegranate', 'Potato', 'Radish', 'Strawberry', 'Tomato', 'Turnip', 'Watermelon']"
   ]
  },
  {
   "attachments": {},
   "cell_type": "markdown",
   "id": "b0e2f195",
   "metadata": {
    "id": "b0e2f195"
   },
   "source": [
    "## yaml 설정파일 작성"
   ]
  },
  {
   "cell_type": "code",
   "execution_count": 9,
   "id": "638d7b6c",
   "metadata": {
    "colab": {
     "base_uri": "https://localhost:8080/"
    },
    "executionInfo": {
     "elapsed": 4587,
     "status": "ok",
     "timestamp": 1686744176565,
     "user": {
      "displayName": "김성환",
      "userId": "02802166581970122576"
     },
     "user_tz": -540
    },
    "id": "638d7b6c",
    "outputId": "226a8a50-dcb6-4702-8450-1b139bfe0ca7"
   },
   "outputs": [
    {
     "name": "stdout",
     "output_type": "stream",
     "text": [
      "Requirement already satisfied: pyyaml in /home/parking/anaconda3/envs/ml/lib/python3.10/site-packages (6.0)\n"
     ]
    }
   ],
   "source": [
    "!pip install pyyaml"
   ]
  },
  {
   "cell_type": "code",
   "execution_count": 3,
   "id": "d3af3048",
   "metadata": {
    "executionInfo": {
     "elapsed": 3,
     "status": "ok",
     "timestamp": 1686744176565,
     "user": {
      "displayName": "김성환",
      "userId": "02802166581970122576"
     },
     "user_tz": -540
    },
    "id": "d3af3048"
   },
   "outputs": [],
   "source": [
    "# python: dictionary <-----> yaml\n",
    "# 출력할 데이터를 dictionary로 구성\n",
    "import yaml\n",
    "import os\n",
    "\n",
    "data = {\n",
    "    \"train\":r\"../../../train/images\",\n",
    "    \"val\":r\"../../../valid/images\",\n",
    "    \"test\":r\"../../../test/images\",\n",
    "    \"nc\":35,\n",
    "    \"names\":fruits\n",
    "}\n",
    "os.makedirs(\"data\", exist_ok=True)# 저장할 디렉토리 생성\n",
    "\n",
    "with open('./datasets/fruits2/custom_data.yaml', 'wt') as fw:\n",
    "    yaml.dump(data, fw)"
   ]
  },
  {
   "cell_type": "code",
   "execution_count": 4,
   "id": "03b3770b",
   "metadata": {
    "colab": {
     "base_uri": "https://localhost:8080/"
    },
    "executionInfo": {
     "elapsed": 2,
     "status": "ok",
     "timestamp": 1686744176565,
     "user": {
      "displayName": "김성환",
      "userId": "02802166581970122576"
     },
     "user_tz": -540
    },
    "id": "03b3770b",
    "outputId": "2746b0d8-d101-45dc-eb0f-dea7088bd42e"
   },
   "outputs": [
    {
     "name": "stdout",
     "output_type": "stream",
     "text": [
      "<class 'dict'>\n",
      "{'names': ['Apple', 'Banana', 'Beetroot', 'Bitter_Gourd', 'Bottle_Gourd', 'Cabbage', 'Capsicum', 'Carrot', 'Cauliflower', 'Cherry', 'Chilli', 'Coconut', 'Cucumber', 'EggPlant', 'Ginger', 'Grape', 'Green_Orange', 'Kiwi', 'Maize', 'Mango', 'Melon', 'Okra', 'Onion', 'Orange', 'Peach', 'Pear', 'Peas', 'Pineapple', 'Pomegranate', 'Potato', 'Radish', 'Strawberry', 'Tomato', 'Turnip', 'Watermelon'], 'nc': 35, 'test': '../../../test/images', 'train': '../../../train/images', 'val': '../../../valid/images'}\n"
     ]
    }
   ],
   "source": [
    "with open('./datasets/fruits2/custom_data.yaml', 'rt') as fr:\n",
    "    d = yaml.safe_load(fr)\n",
    "    print(type(d))\n",
    "    print(d)"
   ]
  },
  {
   "attachments": {},
   "cell_type": "markdown",
   "id": "c99a24e9",
   "metadata": {
    "id": "c99a24e9"
   },
   "source": [
    "## 학습"
   ]
  },
  {
   "cell_type": "code",
   "execution_count": 12,
   "id": "fi6gmA8mUJYh",
   "metadata": {
    "colab": {
     "base_uri": "https://localhost:8080/"
    },
    "executionInfo": {
     "elapsed": 4860,
     "status": "ok",
     "timestamp": 1686744184301,
     "user": {
      "displayName": "김성환",
      "userId": "02802166581970122576"
     },
     "user_tz": -540
    },
    "id": "fi6gmA8mUJYh",
    "outputId": "ac7aad67-09c5-49e3-cc66-8fbbaaa5f305"
   },
   "outputs": [
    {
     "name": "stdout",
     "output_type": "stream",
     "text": [
      "Requirement already satisfied: ultralytics in /home/parking/anaconda3/envs/ml/lib/python3.10/site-packages (8.0.117)\n",
      "Requirement already satisfied: psutil in /home/parking/anaconda3/envs/ml/lib/python3.10/site-packages (from ultralytics) (5.9.5)\n",
      "Requirement already satisfied: requests>=2.23.0 in /home/parking/anaconda3/envs/ml/lib/python3.10/site-packages (from ultralytics) (2.28.1)\n",
      "Requirement already satisfied: opencv-python>=4.6.0 in /home/parking/anaconda3/envs/ml/lib/python3.10/site-packages (from ultralytics) (4.7.0.72)\n",
      "Requirement already satisfied: PyYAML>=5.3.1 in /home/parking/anaconda3/envs/ml/lib/python3.10/site-packages (from ultralytics) (6.0)\n",
      "Requirement already satisfied: matplotlib>=3.2.2 in /home/parking/anaconda3/envs/ml/lib/python3.10/site-packages (from ultralytics) (3.7.1)\n",
      "Requirement already satisfied: torchvision>=0.8.1 in /home/parking/anaconda3/envs/ml/lib/python3.10/site-packages (from ultralytics) (0.15.2+cu118)\n",
      "Requirement already satisfied: seaborn>=0.11.0 in /home/parking/anaconda3/envs/ml/lib/python3.10/site-packages (from ultralytics) (0.12.2)\n",
      "Requirement already satisfied: torch>=1.7.0 in /home/parking/anaconda3/envs/ml/lib/python3.10/site-packages (from ultralytics) (2.0.1+cu118)\n",
      "Requirement already satisfied: tqdm>=4.64.0 in /home/parking/anaconda3/envs/ml/lib/python3.10/site-packages (from ultralytics) (4.65.0)\n",
      "Requirement already satisfied: scipy>=1.4.1 in /home/parking/anaconda3/envs/ml/lib/python3.10/site-packages (from ultralytics) (1.10.1)\n",
      "Requirement already satisfied: pandas>=1.1.4 in /home/parking/anaconda3/envs/ml/lib/python3.10/site-packages (from ultralytics) (2.0.2)\n",
      "Requirement already satisfied: Pillow>=7.1.2 in /home/parking/anaconda3/envs/ml/lib/python3.10/site-packages (from ultralytics) (9.3.0)\n",
      "Requirement already satisfied: python-dateutil>=2.7 in /home/parking/anaconda3/envs/ml/lib/python3.10/site-packages (from matplotlib>=3.2.2->ultralytics) (2.8.2)\n",
      "Requirement already satisfied: cycler>=0.10 in /home/parking/anaconda3/envs/ml/lib/python3.10/site-packages (from matplotlib>=3.2.2->ultralytics) (0.11.0)\n",
      "Requirement already satisfied: fonttools>=4.22.0 in /home/parking/anaconda3/envs/ml/lib/python3.10/site-packages (from matplotlib>=3.2.2->ultralytics) (4.39.4)\n",
      "Requirement already satisfied: numpy>=1.20 in /home/parking/anaconda3/envs/ml/lib/python3.10/site-packages (from matplotlib>=3.2.2->ultralytics) (1.24.1)\n",
      "Requirement already satisfied: contourpy>=1.0.1 in /home/parking/anaconda3/envs/ml/lib/python3.10/site-packages (from matplotlib>=3.2.2->ultralytics) (1.0.7)\n",
      "Requirement already satisfied: pyparsing>=2.3.1 in /home/parking/anaconda3/envs/ml/lib/python3.10/site-packages (from matplotlib>=3.2.2->ultralytics) (3.0.9)\n",
      "Requirement already satisfied: kiwisolver>=1.0.1 in /home/parking/anaconda3/envs/ml/lib/python3.10/site-packages (from matplotlib>=3.2.2->ultralytics) (1.4.4)\n",
      "Requirement already satisfied: packaging>=20.0 in /home/parking/anaconda3/envs/ml/lib/python3.10/site-packages (from matplotlib>=3.2.2->ultralytics) (23.1)\n",
      "Requirement already satisfied: pytz>=2020.1 in /home/parking/anaconda3/envs/ml/lib/python3.10/site-packages (from pandas>=1.1.4->ultralytics) (2023.3)\n",
      "Requirement already satisfied: tzdata>=2022.1 in /home/parking/anaconda3/envs/ml/lib/python3.10/site-packages (from pandas>=1.1.4->ultralytics) (2023.3)\n",
      "Requirement already satisfied: charset-normalizer<3,>=2 in /home/parking/anaconda3/envs/ml/lib/python3.10/site-packages (from requests>=2.23.0->ultralytics) (2.1.1)\n",
      "Requirement already satisfied: urllib3<1.27,>=1.21.1 in /home/parking/anaconda3/envs/ml/lib/python3.10/site-packages (from requests>=2.23.0->ultralytics) (1.26.13)\n",
      "Requirement already satisfied: certifi>=2017.4.17 in /home/parking/anaconda3/envs/ml/lib/python3.10/site-packages (from requests>=2.23.0->ultralytics) (2022.12.7)\n",
      "Requirement already satisfied: idna<4,>=2.5 in /home/parking/anaconda3/envs/ml/lib/python3.10/site-packages (from requests>=2.23.0->ultralytics) (3.4)\n",
      "Requirement already satisfied: sympy in /home/parking/anaconda3/envs/ml/lib/python3.10/site-packages (from torch>=1.7.0->ultralytics) (1.11.1)\n",
      "Requirement already satisfied: filelock in /home/parking/anaconda3/envs/ml/lib/python3.10/site-packages (from torch>=1.7.0->ultralytics) (3.9.0)\n",
      "Requirement already satisfied: networkx in /home/parking/anaconda3/envs/ml/lib/python3.10/site-packages (from torch>=1.7.0->ultralytics) (3.0)\n",
      "Requirement already satisfied: triton==2.0.0 in /home/parking/anaconda3/envs/ml/lib/python3.10/site-packages (from torch>=1.7.0->ultralytics) (2.0.0)\n",
      "Requirement already satisfied: jinja2 in /home/parking/anaconda3/envs/ml/lib/python3.10/site-packages (from torch>=1.7.0->ultralytics) (3.1.2)\n",
      "Requirement already satisfied: typing-extensions in /home/parking/anaconda3/envs/ml/lib/python3.10/site-packages (from torch>=1.7.0->ultralytics) (4.4.0)\n",
      "Requirement already satisfied: cmake in /home/parking/anaconda3/envs/ml/lib/python3.10/site-packages (from triton==2.0.0->torch>=1.7.0->ultralytics) (3.25.0)\n",
      "Requirement already satisfied: lit in /home/parking/anaconda3/envs/ml/lib/python3.10/site-packages (from triton==2.0.0->torch>=1.7.0->ultralytics) (15.0.7)\n",
      "Requirement already satisfied: six>=1.5 in /home/parking/anaconda3/envs/ml/lib/python3.10/site-packages (from python-dateutil>=2.7->matplotlib>=3.2.2->ultralytics) (1.16.0)\n",
      "Requirement already satisfied: MarkupSafe>=2.0 in /home/parking/anaconda3/envs/ml/lib/python3.10/site-packages (from jinja2->torch>=1.7.0->ultralytics) (2.1.3)\n",
      "Requirement already satisfied: mpmath>=0.19 in /home/parking/anaconda3/envs/ml/lib/python3.10/site-packages (from sympy->torch>=1.7.0->ultralytics) (1.2.1)\n"
     ]
    }
   ],
   "source": [
    "# yolov8 설치\n",
    "!pip install ultralytics --upgrade"
   ]
  },
  {
   "cell_type": "code",
   "execution_count": 5,
   "id": "7e9Mf2M8UJVd",
   "metadata": {
    "colab": {
     "base_uri": "https://localhost:8080/",
     "height": 1000
    },
    "executionInfo": {
     "elapsed": 40272,
     "status": "error",
     "timestamp": 1686744320835,
     "user": {
      "displayName": "김성환",
      "userId": "02802166581970122576"
     },
     "user_tz": -540
    },
    "id": "7e9Mf2M8UJVd",
    "outputId": "4c2e18c4-6c46-4aac-e918-dccfdae8e72d"
   },
   "outputs": [
    {
     "name": "stderr",
     "output_type": "stream",
     "text": [
      "Ultralytics YOLOv8.0.117 🚀 Python-3.10.11 torch-2.0.1+cu118 CUDA:0 (NVIDIA GeForce RTX 3060, 12042MiB)\n",
      "\u001b[34m\u001b[1myolo/engine/trainer: \u001b[0mtask=detect, mode=train, model=./models/yolov8n.pt, data=./datasets/fruits2/custom_data.yaml, epochs=20, patience=10, batch=64, imgsz=640, save=True, save_period=-1, cache=False, device=None, workers=8, project=None, name=None, exist_ok=False, pretrained=False, optimizer=Adam, verbose=True, seed=0, deterministic=True, single_cls=False, rect=False, cos_lr=False, close_mosaic=0, resume=False, amp=True, fraction=1.0, profile=False, overlap_mask=True, mask_ratio=4, dropout=0.0, val=True, split=val, save_json=False, save_hybrid=False, conf=None, iou=0.7, max_det=300, half=False, dnn=False, plots=True, source=None, show=False, save_txt=False, save_conf=False, save_crop=False, show_labels=True, show_conf=True, vid_stride=1, line_width=None, visualize=False, augment=False, agnostic_nms=False, classes=None, retina_masks=False, boxes=True, format=torchscript, keras=False, optimize=False, int8=False, dynamic=False, simplify=False, opset=None, workspace=4, nms=False, lr0=0.01, lrf=0.01, momentum=0.937, weight_decay=0.0005, warmup_epochs=3.0, warmup_momentum=0.8, warmup_bias_lr=0.1, box=7.5, cls=0.5, dfl=1.5, pose=12.0, kobj=1.0, label_smoothing=0.0, nbs=64, hsv_h=0.015, hsv_s=0.7, hsv_v=0.4, degrees=0.0, translate=0.1, scale=0.5, shear=0.0, perspective=0.0, flipud=0.0, fliplr=0.5, mosaic=1.0, mixup=0.0, copy_paste=0.0, cfg=None, v5loader=False, tracker=botsort.yaml, save_dir=runs/detect/train28\n",
      "Overriding model.yaml nc=80 with nc=35\n",
      "\n",
      "                   from  n    params  module                                       arguments                     \n",
      "  0                  -1  1       464  ultralytics.nn.modules.conv.Conv             [3, 16, 3, 2]                 \n",
      "  1                  -1  1      4672  ultralytics.nn.modules.conv.Conv             [16, 32, 3, 2]                \n",
      "  2                  -1  1      7360  ultralytics.nn.modules.block.C2f             [32, 32, 1, True]             \n",
      "  3                  -1  1     18560  ultralytics.nn.modules.conv.Conv             [32, 64, 3, 2]                \n",
      "  4                  -1  2     49664  ultralytics.nn.modules.block.C2f             [64, 64, 2, True]             \n",
      "  5                  -1  1     73984  ultralytics.nn.modules.conv.Conv             [64, 128, 3, 2]               \n",
      "  6                  -1  2    197632  ultralytics.nn.modules.block.C2f             [128, 128, 2, True]           \n",
      "  7                  -1  1    295424  ultralytics.nn.modules.conv.Conv             [128, 256, 3, 2]              \n",
      "  8                  -1  1    460288  ultralytics.nn.modules.block.C2f             [256, 256, 1, True]           \n",
      "  9                  -1  1    164608  ultralytics.nn.modules.block.SPPF            [256, 256, 5]                 \n",
      " 10                  -1  1         0  torch.nn.modules.upsampling.Upsample         [None, 2, 'nearest']          \n",
      " 11             [-1, 6]  1         0  ultralytics.nn.modules.conv.Concat           [1]                           \n",
      " 12                  -1  1    148224  ultralytics.nn.modules.block.C2f             [384, 128, 1]                 \n",
      " 13                  -1  1         0  torch.nn.modules.upsampling.Upsample         [None, 2, 'nearest']          \n",
      " 14             [-1, 4]  1         0  ultralytics.nn.modules.conv.Concat           [1]                           \n",
      " 15                  -1  1     37248  ultralytics.nn.modules.block.C2f             [192, 64, 1]                  \n",
      " 16                  -1  1     36992  ultralytics.nn.modules.conv.Conv             [64, 64, 3, 2]                \n",
      " 17            [-1, 12]  1         0  ultralytics.nn.modules.conv.Concat           [1]                           \n",
      " 18                  -1  1    123648  ultralytics.nn.modules.block.C2f             [192, 128, 1]                 \n",
      " 19                  -1  1    147712  ultralytics.nn.modules.conv.Conv             [128, 128, 3, 2]              \n",
      " 20             [-1, 9]  1         0  ultralytics.nn.modules.conv.Concat           [1]                           \n",
      " 21                  -1  1    493056  ultralytics.nn.modules.block.C2f             [384, 256, 1]                 \n",
      " 22        [15, 18, 21]  1    758137  ultralytics.nn.modules.head.Detect           [35, [64, 128, 256]]          \n",
      "Model summary: 225 layers, 3017673 parameters, 3017657 gradients\n",
      "\n",
      "Transferred 319/355 items from pretrained weights\n",
      "\u001b[34m\u001b[1mAMP: \u001b[0mrunning Automatic Mixed Precision (AMP) checks with YOLOv8n...\n",
      "/home/parking/anaconda3/envs/ml/lib/python3.10/site-packages/torch/nn/modules/conv.py:459: UserWarning: Applied workaround for CuDNN issue, install nvrtc.so (Triggered internally at ../aten/src/ATen/native/cudnn/Conv_v8.cpp:80.)\n",
      "  return F.conv2d(input, weight, bias, self.stride,\n",
      "\u001b[34m\u001b[1mAMP: \u001b[0mchecks passed ✅\n",
      "\u001b[34m\u001b[1mtrain: \u001b[0mScanning /home/parking/ml/ml_colab_project/Object_Detection/datasets/fruits/train/labels.cache... 6573 images, 27 backgrounds, 0 corrupt: 100%|██████████| 6573/6573 [00:00<?, ?it/s]\n",
      "\u001b[34m\u001b[1mval: \u001b[0mScanning /home/parking/ml/ml_colab_project/Object_Detection/datasets/fruits/valid/labels.cache... 147 images, 1 backgrounds, 0 corrupt: 100%|██████████| 147/147 [00:00<?, ?it/s]\n",
      "Plotting labels to runs/detect/train28/labels.jpg... \n",
      "\u001b[34m\u001b[1moptimizer:\u001b[0m Adam(lr=0.01, momentum=0.937) with parameter groups 57 weight(decay=0.0), 64 weight(decay=0.0005), 63 bias(decay=0.0)\n",
      "Image sizes 640 train, 640 val\n",
      "Using 8 dataloader workers\n",
      "Logging results to \u001b[1mruns/detect/train28\u001b[0m\n",
      "Starting training for 20 epochs...\n",
      "\n",
      "      Epoch    GPU_mem   box_loss   cls_loss   dfl_loss  Instances       Size\n",
      "       1/20      9.45G      1.356       3.32      1.546        233        640: 100%|██████████| 103/103 [00:42<00:00,  2.40it/s]\n",
      "                 Class     Images  Instances      Box(P          R      mAP50  mAP50-95): 100%|██████████| 2/2 [00:01<00:00,  1.13it/s]\n",
      "                   all        147        613      0.309     0.0259     0.0112    0.00404\n",
      "\n",
      "      Epoch    GPU_mem   box_loss   cls_loss   dfl_loss  Instances       Size\n",
      "       2/20      10.8G      1.433      2.685      1.589        251        640: 100%|██████████| 103/103 [00:39<00:00,  2.58it/s]\n",
      "                 Class     Images  Instances      Box(P          R      mAP50  mAP50-95): 100%|██████████| 2/2 [00:01<00:00,  1.64it/s]\n",
      "                   all        147        613      0.351     0.0943     0.0592     0.0336\n",
      "\n",
      "      Epoch    GPU_mem   box_loss   cls_loss   dfl_loss  Instances       Size\n",
      "       3/20      10.5G      1.429      2.546      1.588        306        640: 100%|██████████| 103/103 [00:40<00:00,  2.57it/s]\n",
      "                 Class     Images  Instances      Box(P          R      mAP50  mAP50-95): 100%|██████████| 2/2 [00:01<00:00,  1.46it/s]\n",
      "                   all        147        613      0.213      0.139     0.0767     0.0395\n",
      "\n",
      "      Epoch    GPU_mem   box_loss   cls_loss   dfl_loss  Instances       Size\n",
      "       4/20      9.75G      1.379      2.372      1.541        242        640: 100%|██████████| 103/103 [00:40<00:00,  2.55it/s]\n",
      "                 Class     Images  Instances      Box(P          R      mAP50  mAP50-95): 100%|██████████| 2/2 [00:01<00:00,  1.41it/s]\n",
      "                   all        147        613      0.497      0.172      0.169      0.101\n",
      "\n",
      "      Epoch    GPU_mem   box_loss   cls_loss   dfl_loss  Instances       Size\n",
      "       5/20      10.1G      1.334      2.181        1.5        283        640: 100%|██████████| 103/103 [00:40<00:00,  2.56it/s]\n",
      "                 Class     Images  Instances      Box(P          R      mAP50  mAP50-95): 100%|██████████| 2/2 [00:01<00:00,  1.46it/s]\n",
      "                   all        147        613      0.311      0.318      0.242      0.149\n",
      "\n",
      "      Epoch    GPU_mem   box_loss   cls_loss   dfl_loss  Instances       Size\n",
      "       6/20        10G      1.275      2.037      1.459        237        640: 100%|██████████| 103/103 [00:40<00:00,  2.56it/s]\n",
      "                 Class     Images  Instances      Box(P          R      mAP50  mAP50-95): 100%|██████████| 2/2 [00:01<00:00,  1.52it/s]\n",
      "                   all        147        613      0.449       0.45      0.485       0.33\n",
      "\n",
      "      Epoch    GPU_mem   box_loss   cls_loss   dfl_loss  Instances       Size\n",
      "       7/20      9.66G      1.264      1.925      1.453        210        640: 100%|██████████| 103/103 [00:40<00:00,  2.57it/s]\n",
      "                 Class     Images  Instances      Box(P          R      mAP50  mAP50-95): 100%|██████████| 2/2 [00:01<00:00,  1.51it/s]\n",
      "                   all        147        613      0.449      0.422      0.423      0.292\n",
      "\n",
      "      Epoch    GPU_mem   box_loss   cls_loss   dfl_loss  Instances       Size\n",
      "       8/20      9.68G      1.248      1.842      1.438        176        640: 100%|██████████| 103/103 [00:40<00:00,  2.56it/s]\n",
      "                 Class     Images  Instances      Box(P          R      mAP50  mAP50-95): 100%|██████████| 2/2 [00:01<00:00,  1.52it/s]\n",
      "                   all        147        613      0.403      0.509      0.467      0.328\n",
      "\n",
      "      Epoch    GPU_mem   box_loss   cls_loss   dfl_loss  Instances       Size\n",
      "       9/20      9.05G      1.215       1.73      1.414        277        640: 100%|██████████| 103/103 [00:40<00:00,  2.57it/s]\n",
      "                 Class     Images  Instances      Box(P          R      mAP50  mAP50-95): 100%|██████████| 2/2 [00:01<00:00,  1.53it/s]\n",
      "                   all        147        613      0.462      0.582      0.527      0.336\n",
      "\n",
      "      Epoch    GPU_mem   box_loss   cls_loss   dfl_loss  Instances       Size\n",
      "      10/20      9.94G      1.194      1.672      1.398        165        640: 100%|██████████| 103/103 [00:40<00:00,  2.57it/s]\n",
      "                 Class     Images  Instances      Box(P          R      mAP50  mAP50-95): 100%|██████████| 2/2 [00:01<00:00,  1.49it/s]\n",
      "                   all        147        613       0.38      0.508      0.446      0.291\n",
      "\n",
      "      Epoch    GPU_mem   box_loss   cls_loss   dfl_loss  Instances       Size\n",
      "      11/20      8.95G      1.177      1.601      1.391        322        640: 100%|██████████| 103/103 [00:40<00:00,  2.57it/s]\n",
      "                 Class     Images  Instances      Box(P          R      mAP50  mAP50-95): 100%|██████████| 2/2 [00:01<00:00,  1.49it/s]\n",
      "                   all        147        613      0.559      0.504      0.556      0.373\n",
      "\n",
      "      Epoch    GPU_mem   box_loss   cls_loss   dfl_loss  Instances       Size\n",
      "      12/20      10.5G      1.162       1.53      1.383        261        640: 100%|██████████| 103/103 [00:40<00:00,  2.57it/s]\n",
      "                 Class     Images  Instances      Box(P          R      mAP50  mAP50-95): 100%|██████████| 2/2 [00:01<00:00,  1.52it/s]\n",
      "                   all        147        613      0.527       0.52      0.544      0.361\n",
      "\n",
      "      Epoch    GPU_mem   box_loss   cls_loss   dfl_loss  Instances       Size\n",
      "      13/20      10.1G      1.128      1.452      1.356        216        640: 100%|██████████| 103/103 [00:40<00:00,  2.57it/s]\n",
      "                 Class     Images  Instances      Box(P          R      mAP50  mAP50-95): 100%|██████████| 2/2 [00:01<00:00,  1.50it/s]\n",
      "                   all        147        613      0.734      0.528      0.597      0.407\n",
      "\n",
      "      Epoch    GPU_mem   box_loss   cls_loss   dfl_loss  Instances       Size\n",
      "      14/20      10.6G      1.123      1.394       1.35        228        640: 100%|██████████| 103/103 [00:40<00:00,  2.57it/s]\n",
      "                 Class     Images  Instances      Box(P          R      mAP50  mAP50-95): 100%|██████████| 2/2 [00:01<00:00,  1.48it/s]\n",
      "                   all        147        613      0.714      0.637      0.718      0.499\n",
      "\n",
      "      Epoch    GPU_mem   box_loss   cls_loss   dfl_loss  Instances       Size\n",
      "      15/20      8.95G      1.102       1.35      1.338        279        640: 100%|██████████| 103/103 [00:40<00:00,  2.57it/s]\n",
      "                 Class     Images  Instances      Box(P          R      mAP50  mAP50-95): 100%|██████████| 2/2 [00:01<00:00,  1.53it/s]\n",
      "                   all        147        613      0.711      0.573       0.69      0.471\n",
      "\n",
      "      Epoch    GPU_mem   box_loss   cls_loss   dfl_loss  Instances       Size\n",
      "      16/20      10.1G      1.089      1.257      1.328        211        640: 100%|██████████| 103/103 [00:40<00:00,  2.57it/s]\n",
      "                 Class     Images  Instances      Box(P          R      mAP50  mAP50-95): 100%|██████████| 2/2 [00:01<00:00,  1.49it/s]\n",
      "                   all        147        613      0.791      0.681      0.776      0.568\n",
      "\n",
      "      Epoch    GPU_mem   box_loss   cls_loss   dfl_loss  Instances       Size\n",
      "      17/20      10.6G      1.058      1.193      1.306        271        640: 100%|██████████| 103/103 [00:40<00:00,  2.56it/s]\n",
      "                 Class     Images  Instances      Box(P          R      mAP50  mAP50-95): 100%|██████████| 2/2 [00:01<00:00,  1.47it/s]\n",
      "                   all        147        613      0.744      0.683      0.743      0.518\n",
      "\n",
      "      Epoch    GPU_mem   box_loss   cls_loss   dfl_loss  Instances       Size\n",
      "      18/20        10G      1.052      1.157      1.297        267        640: 100%|██████████| 103/103 [00:40<00:00,  2.56it/s]\n",
      "                 Class     Images  Instances      Box(P          R      mAP50  mAP50-95): 100%|██████████| 2/2 [00:01<00:00,  1.50it/s]\n",
      "                   all        147        613      0.698      0.699      0.761      0.532\n",
      "\n",
      "      Epoch    GPU_mem   box_loss   cls_loss   dfl_loss  Instances       Size\n",
      "      19/20      9.87G      1.017      1.087      1.282        268        640: 100%|██████████| 103/103 [00:40<00:00,  2.56it/s]\n",
      "                 Class     Images  Instances      Box(P          R      mAP50  mAP50-95): 100%|██████████| 2/2 [00:01<00:00,  1.49it/s]\n",
      "                   all        147        613      0.697      0.732       0.77      0.552\n",
      "\n",
      "      Epoch    GPU_mem   box_loss   cls_loss   dfl_loss  Instances       Size\n",
      "      20/20      9.91G     0.9997      1.036      1.269        237        640: 100%|██████████| 103/103 [00:40<00:00,  2.57it/s]\n",
      "                 Class     Images  Instances      Box(P          R      mAP50  mAP50-95): 100%|██████████| 2/2 [00:01<00:00,  1.07it/s]\n",
      "                   all        147        613      0.743      0.777        0.8      0.561\n",
      "\n",
      "20 epochs completed in 0.236 hours.\n",
      "Optimizer stripped from runs/detect/train28/weights/last.pt, 6.3MB\n",
      "Optimizer stripped from runs/detect/train28/weights/best.pt, 6.3MB\n",
      "\n",
      "Validating runs/detect/train28/weights/best.pt...\n",
      "Ultralytics YOLOv8.0.117 🚀 Python-3.10.11 torch-2.0.1+cu118 CUDA:0 (NVIDIA GeForce RTX 3060, 12042MiB)\n",
      "Model summary (fused): 168 layers, 3012473 parameters, 0 gradients\n",
      "                 Class     Images  Instances      Box(P          R      mAP50  mAP50-95): 100%|██████████| 2/2 [00:01<00:00,  1.42it/s]\n",
      "                   all        147        613      0.793      0.682      0.777      0.569\n",
      "                 Apple        147         22      0.936      0.667       0.85       0.75\n",
      "                Banana        147          7      0.715      0.714      0.827       0.54\n",
      "          Bitter_Gourd        147          4      0.249       0.25      0.134      0.054\n",
      "               Cabbage        147         38      0.684      0.947       0.96      0.754\n",
      "                Carrot        147          9      0.614      0.556       0.65      0.354\n",
      "                Cherry        147          2      0.703          1      0.995      0.895\n",
      "               Coconut        147          1      0.576          1      0.995      0.895\n",
      "              Cucumber        147         13          1      0.589      0.825      0.629\n",
      "                Ginger        147         14          1      0.177      0.771       0.47\n",
      "                 Grape        147          6      0.816          1      0.995      0.763\n",
      "          Green_Orange        147         12      0.956          1      0.995      0.899\n",
      "                  Kiwi        147         13      0.805      0.385      0.726      0.518\n",
      "                 Mango        147         33      0.936      0.884      0.953      0.727\n",
      "                 Melon        147         31      0.647      0.532      0.638      0.378\n",
      "                  Okra        147          2          1          0      0.168      0.101\n",
      "                 Onion        147         15      0.522        0.8      0.676      0.372\n",
      "                Orange        147         14          1      0.716      0.901      0.773\n",
      "                 Peach        147         16      0.855      0.736      0.839      0.663\n",
      "                  Pear        147          9      0.855      0.889      0.943      0.719\n",
      "                  Peas        147          1      0.696          1      0.995      0.557\n",
      "             Pineapple        147         30      0.697      0.461      0.586       0.29\n",
      "           Pomegranate        147         18      0.825          1      0.995      0.844\n",
      "                Potato        147        208      0.686      0.608      0.729       0.39\n",
      "            Strawberry        147         19          1       0.99      0.995       0.76\n",
      "                Tomato        147         50      0.742      0.633      0.744      0.454\n",
      "                Turnip        147          3          1          0      0.135     0.0633\n",
      "            Watermelon        147         23      0.895       0.87      0.954      0.747\n",
      "Speed: 1.2ms preprocess, 1.5ms inference, 0.0ms loss, 0.9ms postprocess per image\n",
      "Results saved to \u001b[1mruns/detect/train28\u001b[0m\n"
     ]
    }
   ],
   "source": [
    "from ultralytics import YOLO\n",
    "\n",
    "model = YOLO('./models/yolov8n.pt')\n",
    "# 학습 - train()메소드 호출\n",
    "model.train(data='./datasets/fruits2/custom_data.yaml',\n",
    "            epochs=20,\n",
    "            patience=10, # 지정한 epoch만큼 성능이 개선이 안되면 조기종료.\n",
    "            batch=64, #batch size\n",
    "            imgsz=640, #input image size\n",
    "            optimizer='Adam'\n",
    "            )"
   ]
  },
  {
   "cell_type": "code",
   "execution_count": 6,
   "id": "siY_DPHOUJIf",
   "metadata": {
    "id": "siY_DPHOUJIf"
   },
   "outputs": [],
   "source": [
    "# 쿠다 메모리 해제\n",
    "from torch import cuda\n",
    "cuda.empty_cache()"
   ]
  },
  {
   "attachments": {},
   "cell_type": "markdown",
   "id": "ae1f38a6",
   "metadata": {
    "id": "ae1f38a6"
   },
   "source": [
    "- <b style='font-size:1.5em'>결과</b>\n",
    "```bash\n",
    "Epoch    GPU_mem   box_loss   cls_loss   dfl_loss  Instances       Size\n",
    "    100/100      39.5G     0.7396     0.5254      1.153         98        640: 100%|██████████| 137/137 [01:04<00:00,  2.12it/s]\n",
    "                 Class     Images  Instances      Box(P          R      mAP50  mAP50-95): 100%|██████████| 2/2 [00:06<00:00,  3.05s/it]\n",
    "                   all        147        613      0.768      0.846      0.877      0.652\n",
    "\n",
    "100 epochs completed in 3.049 hours.\n",
    "Optimizer stripped from runs/detect/train3/weights/last.pt, 52.0MB\n",
    "Optimizer stripped from runs/detect/train3/weights/best.pt, 52.0MB\n",
    "\n",
    "Validating runs/detect/train3/weights/best.pt...\n",
    "Ultralytics YOLOv8.0.50 🚀 Python-3.8.10 torch-1.13.1+cu116 CUDA:0 (NVIDIA A100-SXM4-40GB, 40514MiB)\n",
    "Model summary (fused): 218 layers, 25860025 parameters, 0 gradients, 78.8 GFLOPs\n",
    "                 Class     Images  Instances      Box(P          R      mAP50  mAP50-95): 100%|██████████| 2/2 [00:05<00:00,  3.00s/it]\n",
    "                   all        147        613      0.803      0.826      0.876      0.652\n",
    "                 Apple        147         22      0.806      0.864      0.897      0.772\n",
    "                Banana        147          7      0.777      0.857      0.917      0.582\n",
    "          Bitter_Gourd        147          4      0.683       0.25      0.351      0.125\n",
    "               Cabbage        147         38       0.85      0.896      0.953      0.731\n",
    "                Carrot        147          9          1      0.967      0.995      0.531\n",
    "                Cherry        147          2      0.814          1      0.995      0.895\n",
    "               Coconut        147          1      0.379          1      0.995      0.995\n",
    "              Cucumber        147         13      0.901      0.846       0.86      0.648\n",
    "                Ginger        147         14      0.902      0.929      0.952      0.592\n",
    "                 Grape        147          6       0.85          1      0.995      0.752\n",
    "          Green_Orange        147         12      0.894          1      0.995      0.913\n",
    "                  Kiwi        147         13      0.681      0.988      0.936      0.702\n",
    "                 Mango        147         33      0.966      0.879      0.964      0.749\n",
    "                 Melon        147         31      0.845      0.529      0.709      0.394\n",
    "                  Okra        147          2      0.921        0.5      0.502      0.301\n",
    "                 Onion        147         15      0.798      0.867      0.938      0.618\n",
    "                Orange        147         14      0.933      0.857      0.932      0.805\n",
    "                 Peach        147         16      0.941      0.688      0.904      0.748\n",
    "                  Pear        147          9       0.93          1      0.995      0.798\n",
    "                  Peas        147          1      0.408          1      0.995      0.895\n",
    "             Pineapple        147         30      0.844      0.733      0.812      0.463\n",
    "           Pomegranate        147         18      0.928          1      0.995      0.836\n",
    "                Potato        147        208      0.767      0.659      0.764      0.419\n",
    "            Strawberry        147         19      0.937          1      0.995      0.807\n",
    "                Tomato        147         50      0.796       0.74       0.88      0.583\n",
    "                Turnip        147          3      0.297      0.333       0.45      0.203\n",
    "            Watermelon        147         23      0.829      0.913      0.973      0.738\n",
    "Speed: 1.3ms preprocess, 1.7ms inference, 0.0ms loss, 0.9ms postprocess per image\n",
    "Results saved to runs/detect/train3\n",
    "```\n"
   ]
  },
  {
   "cell_type": "code",
   "execution_count": null,
   "id": "6563f688",
   "metadata": {
    "id": "6563f688"
   },
   "outputs": [],
   "source": []
  },
  {
   "attachments": {},
   "cell_type": "markdown",
   "id": "bfbf9771",
   "metadata": {
    "id": "bfbf9771"
   },
   "source": [
    "## 평가\n",
    "- YOLO객체 생성시 저장된 모델파일 경로를 넣어 생성한다.\n",
    "    - 학습할때 사용한 yaml파일 학습때와 동일한 경로에 있어야 한다.\n",
    "    - train/validation/test 데이터셋이 yaml에 등록된 경로에 있어야 한다.\n",
    "- `YOLO.val()` 이용\n",
    "    - DetMetrics 타입 객체에 결과를 담아 반환"
   ]
  },
  {
   "cell_type": "code",
   "execution_count": 7,
   "id": "8b03f064",
   "metadata": {
    "colab": {
     "base_uri": "https://localhost:8080/"
    },
    "executionInfo": {
     "elapsed": 13011,
     "status": "ok",
     "timestamp": 1678433318070,
     "user": {
      "displayName": "encore엔코아",
      "userId": "03488190351334320755"
     },
     "user_tz": -540
    },
    "id": "8b03f064",
    "outputId": "d976d29c-ec7d-4fe8-c78d-104a1a6f4a50"
   },
   "outputs": [
    {
     "name": "stderr",
     "output_type": "stream",
     "text": [
      "Ultralytics YOLOv8.0.117 🚀 Python-3.10.11 torch-2.0.1+cu118 CUDA:0 (NVIDIA GeForce RTX 3060, 12042MiB)\n",
      "Model summary (fused): 168 layers, 3012473 parameters, 0 gradients\n",
      "\u001b[34m\u001b[1mval: \u001b[0mScanning /home/parking/ml/ml_colab_project/Object_Detection/datasets/fruits/valid/labels.cache... 147 images, 1 backgrounds, 0 corrupt: 100%|██████████| 147/147 [00:00<?, ?it/s]\n",
      "                 Class     Images  Instances      Box(P          R      mAP50  mAP50-95): 100%|██████████| 10/10 [00:06<00:00,  1.44it/s]\n",
      "                   all        147        613      0.791      0.681      0.776      0.568\n",
      "                 Apple        147         22      0.936      0.669       0.85      0.746\n",
      "                Banana        147          7      0.715      0.716      0.827       0.54\n",
      "          Bitter_Gourd        147          4      0.249       0.25      0.134     0.0541\n",
      "               Cabbage        147         38      0.683      0.947       0.96      0.752\n",
      "                Carrot        147          9      0.612      0.556       0.65      0.374\n",
      "                Cherry        147          2      0.702          1      0.995      0.895\n",
      "               Coconut        147          1      0.576          1      0.995      0.895\n",
      "              Cucumber        147         13          1      0.591      0.827       0.63\n",
      "                Ginger        147         14          1       0.18       0.77       0.47\n",
      "                 Grape        147          6      0.814          1      0.995      0.769\n",
      "          Green_Orange        147         12      0.956          1      0.995      0.899\n",
      "                  Kiwi        147         13      0.801      0.385      0.726      0.518\n",
      "                 Mango        147         33      0.936      0.884      0.952      0.726\n",
      "                 Melon        147         31      0.648      0.534      0.634      0.381\n",
      "                  Okra        147          2          1          0      0.168      0.101\n",
      "                 Onion        147         15      0.521        0.8      0.678      0.371\n",
      "                Orange        147         14          1      0.717      0.901      0.773\n",
      "                 Peach        147         16      0.855      0.736      0.839      0.649\n",
      "                  Pear        147          9      0.854      0.889      0.939      0.711\n",
      "                  Peas        147          1      0.695          1      0.995       0.51\n",
      "             Pineapple        147         30      0.698      0.462      0.587      0.289\n",
      "           Pomegranate        147         18      0.823          1      0.995      0.844\n",
      "                Potato        147        208      0.686      0.609      0.729      0.392\n",
      "            Strawberry        147         19      0.956      0.947      0.993      0.771\n",
      "                Tomato        147         50      0.742      0.634      0.744      0.454\n",
      "                Turnip        147          3          1          0      0.135     0.0632\n",
      "            Watermelon        147         23      0.894       0.87      0.954      0.745\n",
      "Speed: 1.1ms preprocess, 6.2ms inference, 0.0ms loss, 7.1ms postprocess per image\n",
      "Results saved to \u001b[1mruns/detect/val\u001b[0m\n"
     ]
    }
   ],
   "source": [
    "best_model_path = './runs/detect/train28/weights/best.pt'\n",
    "\n",
    "best_model = YOLO(best_model_path)\n",
    "\n",
    "metrics = best_model.val()"
   ]
  },
  {
   "cell_type": "code",
   "execution_count": 8,
   "id": "6WCFBMV7bRGR",
   "metadata": {
    "colab": {
     "base_uri": "https://localhost:8080/"
    },
    "executionInfo": {
     "elapsed": 499,
     "status": "ok",
     "timestamp": 1678433410659,
     "user": {
      "displayName": "encore엔코아",
      "userId": "03488190351334320755"
     },
     "user_tz": -540
    },
    "id": "6WCFBMV7bRGR",
    "outputId": "03f3a9b0-327c-4cb3-da21-63a62dc50518"
   },
   "outputs": [
    {
     "name": "stdout",
     "output_type": "stream",
     "text": [
      "0.5675204868919397\n"
     ]
    }
   ],
   "source": [
    "print(metrics.box.map)  # map50-95"
   ]
  },
  {
   "cell_type": "code",
   "execution_count": 9,
   "id": "pXeQPP98bQ-4",
   "metadata": {
    "colab": {
     "base_uri": "https://localhost:8080/"
    },
    "executionInfo": {
     "elapsed": 468,
     "status": "ok",
     "timestamp": 1678433431357,
     "user": {
      "displayName": "encore엔코아",
      "userId": "03488190351334320755"
     },
     "user_tz": -540
    },
    "id": "pXeQPP98bQ-4",
    "outputId": "73049038-fffe-4301-ef30-7f28364f11cc"
   },
   "outputs": [
    {
     "name": "stdout",
     "output_type": "stream",
     "text": [
      "0.776430819993807\n"
     ]
    }
   ],
   "source": [
    "print(metrics.box.map50)"
   ]
  },
  {
   "cell_type": "code",
   "execution_count": 10,
   "id": "L9OQRB2GbQ54",
   "metadata": {
    "colab": {
     "base_uri": "https://localhost:8080/"
    },
    "executionInfo": {
     "elapsed": 349,
     "status": "ok",
     "timestamp": 1678433442348,
     "user": {
      "displayName": "encore엔코아",
      "userId": "03488190351334320755"
     },
     "user_tz": -540
    },
    "id": "L9OQRB2GbQ54",
    "outputId": "42ef9239-8b41-4092-d863-49c4ed9c2262"
   },
   "outputs": [
    {
     "name": "stdout",
     "output_type": "stream",
     "text": [
      "0.6371260972164159\n"
     ]
    }
   ],
   "source": [
    "print(metrics.box.map75)"
   ]
  },
  {
   "cell_type": "code",
   "execution_count": 11,
   "id": "7g5BxysLbQ0z",
   "metadata": {
    "colab": {
     "base_uri": "https://localhost:8080/"
    },
    "executionInfo": {
     "elapsed": 309,
     "status": "ok",
     "timestamp": 1678433468239,
     "user": {
      "displayName": "encore엔코아",
      "userId": "03488190351334320755"
     },
     "user_tz": -540
    },
    "id": "7g5BxysLbQ0z",
    "outputId": "30b05b47-356e-4157-8f29-2275a6bfe2e5"
   },
   "outputs": [
    {
     "name": "stdout",
     "output_type": "stream",
     "text": [
      "[    0.74605     0.53971     0.56752    0.054092     0.56752     0.75236     0.56752     0.37437     0.56752      0.8955     0.56752      0.8955     0.63012     0.56752     0.46976     0.76899     0.89852     0.51774     0.56752     0.72602     0.38134     0.10066     0.37109      0.7728     0.64913      0.7109\n",
      "     0.50994     0.28944     0.84378     0.39172     0.56752     0.77117     0.45416    0.063192     0.74502]\n"
     ]
    }
   ],
   "source": [
    "print(metrics.box.maps) # 클래스별 ap score를 확인"
   ]
  },
  {
   "cell_type": "code",
   "execution_count": 12,
   "id": "YH_uJfOBbnIi",
   "metadata": {
    "colab": {
     "base_uri": "https://localhost:8080/"
    },
    "executionInfo": {
     "elapsed": 451,
     "status": "ok",
     "timestamp": 1678433512149,
     "user": {
      "displayName": "encore엔코아",
      "userId": "03488190351334320755"
     },
     "user_tz": -540
    },
    "id": "YH_uJfOBbnIi",
    "outputId": "2d14a43d-dc39-4fcc-d295-6de171e41ae5"
   },
   "outputs": [
    {
     "name": "stdout",
     "output_type": "stream",
     "text": [
      "Apple : 0.7460474729306928\n",
      "Banana : 0.5397114569262274\n",
      "Beetroot : 0.5675204868919397\n",
      "Bitter_Gourd : 0.054092206386986086\n",
      "Bottle_Gourd : 0.5675204868919397\n",
      "Cabbage : 0.752358193811796\n",
      "Capsicum : 0.5675204868919397\n",
      "Carrot : 0.3743732873850124\n",
      "Cauliflower : 0.5675204868919397\n",
      "Cherry : 0.8955\n",
      "Chilli : 0.5675204868919397\n",
      "Coconut : 0.8955\n",
      "Cucumber : 0.6301158016439115\n",
      "EggPlant : 0.5675204868919397\n",
      "Ginger : 0.46976252591247114\n",
      "Grape : 0.768995\n",
      "Green_Orange : 0.8985163620230701\n",
      "Kiwi : 0.5177352063492064\n",
      "Maize : 0.5675204868919397\n",
      "Mango : 0.7260240162449244\n",
      "Melon : 0.38133564674090387\n",
      "Okra : 0.1006630434782609\n",
      "Onion : 0.37108646692794617\n",
      "Orange : 0.7727955645129726\n",
      "Peach : 0.6491276436581321\n",
      "Pear : 0.7108972249190938\n",
      "Peas : 0.5099375\n",
      "Pineapple : 0.289435098308216\n",
      "Pomegranate : 0.8437752009167303\n",
      "Potato : 0.39172082720315216\n",
      "Radish : 0.5675204868919397\n",
      "Strawberry : 0.7711709469133808\n",
      "Tomato : 0.45416139886270324\n",
      "Turnip : 0.06319233775212343\n",
      "Watermelon : 0.7450227162744595\n"
     ]
    }
   ],
   "source": [
    "for label, ap in zip(fruits, metrics.box.maps):\n",
    "    print(label, \":\", ap)"
   ]
  },
  {
   "attachments": {},
   "cell_type": "markdown",
   "id": "4324ba11",
   "metadata": {
    "id": "4324ba11"
   },
   "source": [
    "# 추론"
   ]
  },
  {
   "cell_type": "code",
   "execution_count": 16,
   "id": "84fb03da",
   "metadata": {
    "id": "84fb03da"
   },
   "outputs": [],
   "source": [
    "from ultralytics import YOLO\n",
    "from glob import glob\n",
    "\n",
    "model = YOLO('./models/best.pt')"
   ]
  },
  {
   "cell_type": "code",
   "execution_count": 17,
   "id": "4dc1e1d4",
   "metadata": {},
   "outputs": [
    {
     "data": {
      "text/plain": [
       "['test_image/fruits_veg/capsicum1.jpg',\n",
       " 'test_image/fruits_veg/pineapple2.jpg',\n",
       " 'test_image/fruits_veg/melon1.jpg',\n",
       " 'test_image/fruits_veg/pomegranate.jpg',\n",
       " 'test_image/fruits_veg/eggplant.jpg',\n",
       " 'test_image/fruits_veg/banana.jpg',\n",
       " 'test_image/fruits_veg/grape.jpg',\n",
       " 'test_image/fruits_veg/banana2.jpg',\n",
       " 'test_image/fruits_veg/capsicum2.jpg',\n",
       " 'test_image/fruits_veg/pineapple.jpg',\n",
       " 'test_image/fruits_veg/melon2.jpg',\n",
       " 'test_image/fruits_veg/apple.jpg']"
      ]
     },
     "execution_count": 17,
     "metadata": {},
     "output_type": "execute_result"
    }
   ],
   "source": [
    "file_list = glob(r\"test_image/fruits_veg/*.jpg\")\n",
    "file_list"
   ]
  },
  {
   "cell_type": "code",
   "execution_count": 18,
   "id": "9d4a19dc",
   "metadata": {},
   "outputs": [
    {
     "name": "stderr",
     "output_type": "stream",
     "text": [
      "\n",
      "0: 640x640 4 Capsicums, 1: 640x640 5 Pineapples, 2: 640x640 1 Melon, 3: 640x640 2 Pomegranates, 4: 640x640 (no detections), 5: 640x640 2 Bananas, 6: 640x640 3 Grapes, 7: 640x640 1 Banana, 8: 640x640 4 Capsicums, 9: 640x640 1 Pineapple, 10: 640x640 3 Melons, 11: 640x640 6 Apples, 2 Onions, 28.5ms\n",
      "Speed: 1.7ms preprocess, 2.4ms inference, 1.2ms postprocess per image at shape (1, 3, 640, 640)\n",
      "Results saved to \u001b[1mruns/detect/predict\u001b[0m\n"
     ]
    }
   ],
   "source": [
    "result = model(file_list, save=True)"
   ]
  },
  {
   "cell_type": "code",
   "execution_count": null,
   "id": "887a60b6",
   "metadata": {},
   "outputs": [],
   "source": []
  }
 ],
 "metadata": {
  "accelerator": "GPU",
  "colab": {
   "provenance": []
  },
  "gpuClass": "standard",
  "kernelspec": {
   "display_name": "Python 3 (ipykernel)",
   "language": "python",
   "name": "python3"
  },
  "language_info": {
   "codemirror_mode": {
    "name": "ipython",
    "version": 3
   },
   "file_extension": ".py",
   "mimetype": "text/x-python",
   "name": "python",
   "nbconvert_exporter": "python",
   "pygments_lexer": "ipython3",
   "version": "3.10.11"
  },
  "toc": {
   "base_numbering": 1,
   "nav_menu": {},
   "number_sections": true,
   "sideBar": true,
   "skip_h1_title": false,
   "title_cell": "Table of Contents",
   "title_sidebar": "Contents",
   "toc_cell": false,
   "toc_position": {},
   "toc_section_display": true,
   "toc_window_display": false
  },
  "varInspector": {
   "cols": {
    "lenName": 16,
    "lenType": 16,
    "lenVar": 40
   },
   "kernels_config": {
    "python": {
     "delete_cmd_postfix": "",
     "delete_cmd_prefix": "del ",
     "library": "var_list.py",
     "varRefreshCmd": "print(var_dic_list())"
    },
    "r": {
     "delete_cmd_postfix": ") ",
     "delete_cmd_prefix": "rm(",
     "library": "var_list.r",
     "varRefreshCmd": "cat(var_dic_list()) "
    }
   },
   "types_to_exclude": [
    "module",
    "function",
    "builtin_function_or_method",
    "instance",
    "_Feature"
   ],
   "window_display": false
  }
 },
 "nbformat": 4,
 "nbformat_minor": 5
}
