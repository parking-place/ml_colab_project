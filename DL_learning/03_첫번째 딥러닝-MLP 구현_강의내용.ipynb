{
 "cells": [
  {
   "attachments": {},
   "cell_type": "markdown",
   "metadata": {},
   "source": [
    "MLP - Multi Layer Perceptron"
   ]
  },
  {
   "attachments": {},
   "cell_type": "markdown",
   "metadata": {
    "slideshow": {
     "slide_type": "slide"
    }
   },
   "source": [
    "# Pytorch 개발 Process"
   ]
  },
  {
   "attachments": {},
   "cell_type": "markdown",
   "metadata": {
    "slideshow": {
     "slide_type": "fragment"
    }
   },
   "source": [
    "1. **데이터 준비**\n",
    "    - Dataset 준비\n",
    "    - Dataloader 생성"
   ]
  },
  {
   "attachments": {},
   "cell_type": "markdown",
   "metadata": {
    "slideshow": {
     "slide_type": "fragment"
    }
   },
   "source": [
    "2. **입력과 출력을 연결하는 Layer(층)으로 이뤄진 네트워크(모델)을 정의**\n",
    "    - **Sequential 방식**: 순서대로 쌓아올린 네트워크로 이뤄진 모델을 생성하는 방식\n",
    "        - layer를 순서대로 쌓은 모델을 구현할때 간단히 모델을 정의할 수 있다.\n",
    "        - layer block을 정의하는데 사용할 수 있다.\n",
    "    - **Subclass 방식**: 네트워크를 정의하는 클래스를 구현.\n",
    "        - 다양한 구조의 모델을 정의할 수 있다.\n",
    "        - inializer에서 필요한 layer들을 생성한다.\n",
    "        - forward(self, X) 메소드에 forward propagation 계산을 구현한다.\n",
    "    "
   ]
  },
  {
   "attachments": {},
   "cell_type": "markdown",
   "metadata": {
    "slideshow": {
     "slide_type": "fragment"
    }
   },
   "source": [
    "3. **train**\n",
    "    - train 함수, test 함수 정의"
   ]
  },
  {
   "attachments": {},
   "cell_type": "markdown",
   "metadata": {
    "slideshow": {
     "slide_type": "fragment"
    }
   },
   "source": [
    "4. test set 최종평가"
   ]
  },
  {
   "attachments": {},
   "cell_type": "markdown",
   "metadata": {
    "slideshow": {
     "slide_type": "slide"
    }
   },
   "source": [
    "# MNIST 이미지 분류 \n",
    "- **[MNIST](https://ko.wikipedia.org/wiki/MNIST_%EB%8D%B0%EC%9D%B4%ED%84%B0%EB%B2%A0%EC%9D%B4%EC%8A%A4) (Modified National Institute of Standards and Technology) database**\n",
    "- 흑백 손글씨 숫자 0-9까지 10개의 범주로 구분해놓은 데이터셋\n",
    "- 하나의 이미지는 28 * 28 pixel 의 크기\n",
    "- 6만개의 Train 이미지와 1만개의 Test 이미지로 구성됨."
   ]
  },
  {
   "cell_type": "code",
   "execution_count": 2,
   "metadata": {},
   "outputs": [
    {
     "name": "stdout",
     "output_type": "stream",
     "text": [
      "Collecting matplotlib\n",
      "  Downloading matplotlib-3.7.1-cp310-cp310-manylinux_2_17_x86_64.manylinux2014_x86_64.whl (11.6 MB)\n",
      "\u001b[2K     \u001b[90m━━━━━━━━━━━━━━━━━━━━━━━━━━━━━━━━━━━━━━━━\u001b[0m \u001b[32m11.6/11.6 MB\u001b[0m \u001b[31m48.1 MB/s\u001b[0m eta \u001b[36m0:00:00\u001b[0m00:01\u001b[0m00:01\u001b[0m\n",
      "\u001b[?25hCollecting fonttools>=4.22.0\n",
      "  Downloading fonttools-4.39.4-py3-none-any.whl (1.0 MB)\n",
      "\u001b[2K     \u001b[90m━━━━━━━━━━━━━━━━━━━━━━━━━━━━━━━━━━━━━━━━\u001b[0m \u001b[32m1.0/1.0 MB\u001b[0m \u001b[31m49.1 MB/s\u001b[0m eta \u001b[36m0:00:00\u001b[0m\n",
      "\u001b[?25hCollecting contourpy>=1.0.1\n",
      "  Downloading contourpy-1.0.7-cp310-cp310-manylinux_2_17_x86_64.manylinux2014_x86_64.whl (300 kB)\n",
      "\u001b[2K     \u001b[90m━━━━━━━━━━━━━━━━━━━━━━━━━━━━━━━━━━━━━━\u001b[0m \u001b[32m300.3/300.3 kB\u001b[0m \u001b[31m39.7 MB/s\u001b[0m eta \u001b[36m0:00:00\u001b[0m\n",
      "\u001b[?25hCollecting pyparsing>=2.3.1\n",
      "  Downloading pyparsing-3.0.9-py3-none-any.whl (98 kB)\n",
      "\u001b[2K     \u001b[90m━━━━━━━━━━━━━━━━━━━━━━━━━━━━━━━━━━━━━━━━\u001b[0m \u001b[32m98.3/98.3 kB\u001b[0m \u001b[31m16.1 MB/s\u001b[0m eta \u001b[36m0:00:00\u001b[0m\n",
      "\u001b[?25hRequirement already satisfied: python-dateutil>=2.7 in /home/parking/anaconda3/envs/ml/lib/python3.10/site-packages (from matplotlib) (2.8.2)\n",
      "Requirement already satisfied: pillow>=6.2.0 in /home/parking/anaconda3/envs/ml/lib/python3.10/site-packages (from matplotlib) (9.3.0)\n",
      "Collecting cycler>=0.10\n",
      "  Downloading cycler-0.11.0-py3-none-any.whl (6.4 kB)\n",
      "Collecting kiwisolver>=1.0.1\n",
      "  Downloading kiwisolver-1.4.4-cp310-cp310-manylinux_2_12_x86_64.manylinux2010_x86_64.whl (1.6 MB)\n",
      "\u001b[2K     \u001b[90m━━━━━━━━━━━━━━━━━━━━━━━━━━━━━━━━━━━━━━━━\u001b[0m \u001b[32m1.6/1.6 MB\u001b[0m \u001b[31m43.5 MB/s\u001b[0m eta \u001b[36m0:00:00\u001b[0m00:01\u001b[0m\n",
      "\u001b[?25hRequirement already satisfied: numpy>=1.20 in /home/parking/anaconda3/envs/ml/lib/python3.10/site-packages (from matplotlib) (1.24.1)\n",
      "Requirement already satisfied: packaging>=20.0 in /home/parking/anaconda3/envs/ml/lib/python3.10/site-packages (from matplotlib) (23.1)\n",
      "Requirement already satisfied: six>=1.5 in /home/parking/anaconda3/envs/ml/lib/python3.10/site-packages (from python-dateutil>=2.7->matplotlib) (1.16.0)\n",
      "Installing collected packages: pyparsing, kiwisolver, fonttools, cycler, contourpy, matplotlib\n",
      "Successfully installed contourpy-1.0.7 cycler-0.11.0 fonttools-4.39.4 kiwisolver-1.4.4 matplotlib-3.7.1 pyparsing-3.0.9\n"
     ]
    }
   ],
   "source": [
    "!pip install matplotlib"
   ]
  },
  {
   "attachments": {},
   "cell_type": "markdown",
   "metadata": {},
   "source": [
    "## import"
   ]
  },
  {
   "cell_type": "code",
   "execution_count": 3,
   "metadata": {},
   "outputs": [
    {
     "name": "stdout",
     "output_type": "stream",
     "text": [
      "파이토치 버전: 2.0.1+cu118\n"
     ]
    }
   ],
   "source": [
    "import torch\n",
    "import torch.nn as nn\n",
    "from torch.utils.data import DataLoader, Dataset\n",
    "from torchvision import datasets, transforms\n",
    "\n",
    "import os\n",
    "import matplotlib.pyplot as plt\n",
    "\n",
    "print(f\"파이토치 버전:\", torch.__version__)"
   ]
  },
  {
   "attachments": {},
   "cell_type": "markdown",
   "metadata": {},
   "source": [
    "### device 설정"
   ]
  },
  {
   "cell_type": "code",
   "execution_count": 4,
   "metadata": {},
   "outputs": [
    {
     "data": {
      "text/plain": [
       "(True, False)"
      ]
     },
     "execution_count": 4,
     "metadata": {},
     "output_type": "execute_result"
    }
   ],
   "source": [
    "torch.cuda.is_available(), torch.backends.mps.is_available()"
   ]
  },
  {
   "cell_type": "code",
   "execution_count": 5,
   "metadata": {},
   "outputs": [
    {
     "data": {
      "text/plain": [
       "'cuda'"
      ]
     },
     "execution_count": 5,
     "metadata": {},
     "output_type": "execute_result"
    }
   ],
   "source": [
    "device = \"cuda\" if torch.cuda.is_available() else \"cpu\"\n",
    "# device = \"mps\" if torch.backends.mps.is_available() else \"cpu\"  #mac\n",
    "device"
   ]
  },
  {
   "attachments": {},
   "cell_type": "markdown",
   "metadata": {},
   "source": [
    "### 변수 설정"
   ]
  },
  {
   "cell_type": "code",
   "execution_count": 6,
   "metadata": {},
   "outputs": [],
   "source": [
    "BATCH_SIZE = 256 # 학습/검증할 때 한번에 몇개의 데이터를 가지고 할지 개수.\n",
    "N_EPOCH = 20     # 전체 Train set을 한번 학습 시키는 것-> 1 epoch.  epoch 수. 크게 잡아준다.\n",
    "LR = 0.001       # 학습률. (파라미터 업데이트할 때 지정할 학습률. gradient의 어느 정도를 파라미터 업데이트할 때 사용할 것인지 비율.)\n",
    "\n",
    "DATASET_SAVE_PATH = 'datasets' # 데이셋을 저장할 디렉토리.\n",
    "MODEL_SAVE_PATH = 'models'     # 학습된 모델을 저장할 디렉토리.\n",
    "\n",
    "os.makedirs(DATASET_SAVE_PATH, exist_ok=True)\n",
    "os.makedirs(MODEL_SAVE_PATH, exist_ok=True)"
   ]
  },
  {
   "attachments": {},
   "cell_type": "markdown",
   "metadata": {
    "ExecuteTime": {
     "end_time": "2021-08-30T05:02:52.852140Z",
     "start_time": "2021-08-30T05:02:52.563117Z"
    },
    "slideshow": {
     "slide_type": "slide"
    }
   },
   "source": [
    "## MNIST dataset Loading\n",
    "\n",
    "### Dataset"
   ]
  },
  {
   "cell_type": "code",
   "execution_count": 7,
   "metadata": {},
   "outputs": [],
   "source": [
    "# ToTensor() -> ndarray, PIL.Image객체 ==> Tensor 변환, 정규화.(0. ~ 1.)"
   ]
  },
  {
   "cell_type": "code",
   "execution_count": 8,
   "metadata": {},
   "outputs": [],
   "source": [
    "train_set = datasets.MNIST(root=DATASET_SAVE_PATH,   # 데이터셋 저장할 디렉토리.\n",
    "                           train=True, # trainset(True) | testset(False) 중 어떤 것 받을 것인지.\n",
    "                           download=True, #root에 데이터셋이 없으면 다운받을지 여부.\n",
    "                           transform=transforms.ToTensor() # 데이터 전처리 하는 객체\n",
    "                          )\n",
    "\n",
    "test_set = datasets.MNIST(root=DATASET_SAVE_PATH, train=False, download=True,\n",
    "                          transform=transforms.ToTensor())"
   ]
  },
  {
   "cell_type": "code",
   "execution_count": 9,
   "metadata": {},
   "outputs": [
    {
     "name": "stdout",
     "output_type": "stream",
     "text": [
      "<class 'torchvision.datasets.mnist.MNIST'>\n",
      "Dataset MNIST\n",
      "    Number of datapoints: 60000\n",
      "    Root location: datasets\n",
      "    Split: Train\n",
      "    StandardTransform\n",
      "Transform: ToTensor()\n",
      "Dataset MNIST\n",
      "    Number of datapoints: 10000\n",
      "    Root location: datasets\n",
      "    Split: Test\n",
      "    StandardTransform\n",
      "Transform: ToTensor()\n"
     ]
    }
   ],
   "source": [
    "print(type(train_set))\n",
    "print(train_set)\n",
    "print(test_set)"
   ]
  },
  {
   "cell_type": "code",
   "execution_count": 10,
   "metadata": {},
   "outputs": [
    {
     "data": {
      "text/plain": [
       "(60000, 10000)"
      ]
     },
     "execution_count": 10,
     "metadata": {},
     "output_type": "execute_result"
    }
   ],
   "source": [
    "len(train_set), len(test_set)"
   ]
  },
  {
   "cell_type": "code",
   "execution_count": 11,
   "metadata": {},
   "outputs": [
    {
     "name": "stdout",
     "output_type": "stream",
     "text": [
      "torch.Size([1, 28, 28]) 5\n"
     ]
    },
    {
     "data": {
      "text/plain": [
       "<matplotlib.image.AxesImage at 0x7fa55bbb6710>"
      ]
     },
     "execution_count": 11,
     "metadata": {},
     "output_type": "execute_result"
    },
    {
     "data": {
      "image/png": "[encoded data removed]",
      "text/plain": [
       "<Figure size 640x480 with 1 Axes>"
      ]
     },
     "metadata": {},
     "output_type": "display_data"
    }
   ],
   "source": [
    "# 트레인셋의 첫번째 데이터 확인.\n",
    "image, label = train_set[0]\n",
    "print(image.shape, label)\n",
    "import matplotlib.pyplot as plt\n",
    "plt.imshow(image[0], cmap='gray')"
   ]
  },
  {
   "attachments": {},
   "cell_type": "markdown",
   "metadata": {},
   "source": [
    "### DataLoader"
   ]
  },
  {
   "cell_type": "code",
   "execution_count": 12,
   "metadata": {},
   "outputs": [],
   "source": [
    "train_loader = DataLoader(train_set, # Dataset \n",
    "                          batch_size=BATCH_SIZE, \n",
    "                          shuffle=True, # 학습시 1에폭이 끝나면 데이터를 섞어줄지 여부.(기본: False)\n",
    "                          drop_last=True# 마지막 배치의 개수가 batch_size보다 적으면 버린다.\n",
    "                         )\n",
    "test_loader = DataLoader(test_set, batch_size=BATCH_SIZE)"
   ]
  },
  {
   "cell_type": "code",
   "execution_count": 13,
   "metadata": {},
   "outputs": [
    {
     "name": "stdout",
     "output_type": "stream",
     "text": [
      "trainset의 1 에폭당 step 수: 234\n",
      "testset의 1 에폭당 step 수: 40\n"
     ]
    }
   ],
   "source": [
    "print(f\"trainset의 1 에폭당 step 수: {len(train_loader)}\")\n",
    "print(f\"testset의 1 에폭당 step 수: {len(test_loader)}\")\n",
    "# step: 모델(파라미터) 업데이트 단위.\n",
    "# 1 에폭당 step수: trainset데이터수 / batch_size"
   ]
  },
  {
   "attachments": {},
   "cell_type": "markdown",
   "metadata": {
    "slideshow": {
     "slide_type": "slide"
    }
   },
   "source": [
    "## 네트워크(모델) 정의\n",
    "- Network : 전체 모델 구조"
   ]
  },
  {
   "cell_type": "code",
   "execution_count": 14,
   "metadata": {},
   "outputs": [],
   "source": [
    "# nn.Module을 상속 \n",
    "class MNISTModel(nn.Module):\n",
    "    \n",
    "    def __init__(self):\n",
    "        \"\"\"\n",
    "        모델객체 생성시 모델을 구현할 때 필요한 것들을 초기화.\n",
    "        필요한것:  Layer들\n",
    "        \"\"\"\n",
    "        super().__init__()   #1. 부모클래스의 __init__()을 호출해서 초기화.\n",
    "        #2. 필요한 레이어들을 정의.\n",
    "        self.lr1 = nn.Linear(28*28, 128)    # 피처개수, 노드개수 (1번째 레이어)\n",
    "        self.lr2 = nn.Linear(128, 64)       #  (2번째 레이어)\n",
    "        self.lr3 = nn.Linear(64, 10)        #  마지막 레이어. 출력 노드 개수는 분류할 클래스 개수.\n",
    "        \n",
    "    def forward(self, X):\n",
    "        \"\"\"\n",
    "        입력을 받아서 최종 출력할 때 까지의 계산 흐름을 구현하는 메소드.\n",
    "        ===> 순전파(forward propagation)\n",
    "        파라미터 X: 입력값. - batch\n",
    "        \"\"\"\n",
    "        #3차원인 이미지를 1차원으로 변환. \n",
    "        # (데이터개수-batch, channel, height, width) -> (batch, c*h*w)\n",
    "        X = torch.flatten(X, start_dim=1) # axis 1 이후를 flatten\n",
    "        X = self.lr1(X)  #WX + b\n",
    "        X = nn.ReLU()(X) #활성함수(activation function) => 비선형함수.\n",
    "        \n",
    "        X = self.lr2(X)\n",
    "        X = nn.ReLU()(X)\n",
    "        \n",
    "        X = self.lr3(X)\n",
    "        return X"
   ]
  },
  {
   "cell_type": "code",
   "execution_count": 15,
   "metadata": {},
   "outputs": [],
   "source": [
    "# 정의한 모델클래스로부터 모델객체를 생성\n",
    "model = MNISTModel()"
   ]
  },
  {
   "cell_type": "code",
   "execution_count": 16,
   "metadata": {},
   "outputs": [
    {
     "name": "stdout",
     "output_type": "stream",
     "text": [
      "MNISTModel(\n",
      "  (lr1): Linear(in_features=784, out_features=128, bias=True)\n",
      "  (lr2): Linear(in_features=128, out_features=64, bias=True)\n",
      "  (lr3): Linear(in_features=64, out_features=10, bias=True)\n",
      ")\n"
     ]
    }
   ],
   "source": [
    "# 모델의 구조를 확인\n",
    "print(model)"
   ]
  },
  {
   "cell_type": "code",
   "execution_count": 17,
   "metadata": {},
   "outputs": [
    {
     "name": "stdout",
     "output_type": "stream",
     "text": [
      "Collecting torchinfo\n",
      "  Downloading torchinfo-1.8.0-py3-none-any.whl (23 kB)\n",
      "Installing collected packages: torchinfo\n",
      "Successfully installed torchinfo-1.8.0\n"
     ]
    }
   ],
   "source": [
    "# 모델의 구조를 확인하는 라이브러리 -> torchinfo\n",
    "!pip install torchinfo"
   ]
  },
  {
   "cell_type": "code",
   "execution_count": 18,
   "metadata": {},
   "outputs": [
    {
     "data": {
      "text/plain": [
       "==========================================================================================\n",
       "Layer (type:depth-idx)                   Output Shape              Param #\n",
       "==========================================================================================\n",
       "MNISTModel                               [256, 10]                 --\n",
       "├─Linear: 1-1                            [256, 128]                100,480\n",
       "├─Linear: 1-2                            [256, 64]                 8,256\n",
       "├─Linear: 1-3                            [256, 10]                 650\n",
       "==========================================================================================\n",
       "Total params: 109,386\n",
       "Trainable params: 109,386\n",
       "Non-trainable params: 0\n",
       "Total mult-adds (M): 28.00\n",
       "==========================================================================================\n",
       "Input size (MB): 0.80\n",
       "Forward/backward pass size (MB): 0.41\n",
       "Params size (MB): 0.44\n",
       "Estimated Total Size (MB): 1.65\n",
       "=========================================================================================="
      ]
     },
     "execution_count": 18,
     "metadata": {},
     "output_type": "execute_result"
    }
   ],
   "source": [
    "from torchinfo import summary\n",
    "summary(model, (BATCH_SIZE, 784))  # (모델객체, input데이터의 shae) (100: batchsize, 784:feature수)\n",
    "\n",
    "# self.lr1 = nn.Linear(28*28, 128)\n",
    "# self.lr2 = nn.Linear(128, 64)\n",
    "# self.lr3 = nn.Linear(64, 10)"
   ]
  },
  {
   "attachments": {},
   "cell_type": "markdown",
   "metadata": {},
   "source": [
    "## train"
   ]
  },
  {
   "attachments": {},
   "cell_type": "markdown",
   "metadata": {},
   "source": [
    "### 모델, loss function, optimizer 생성"
   ]
  },
  {
   "cell_type": "code",
   "execution_count": 19,
   "metadata": {},
   "outputs": [],
   "source": [
    "model = model.to(device) # 실제 추론을 담당할 device로 옮긴다. -> 모델, X, y\n",
    "# loss를 계산하는 함수. 다중분류=>cross entropy\n",
    "loss_fn = nn.CrossEntropyLoss()  #nn.functional.cross_entropy()\n",
    "# 모델 추정 결과 -> softmax를 적용해서 확률값으로 변환. -> log -> log_softmax()\n",
    "#                   정답(label) -> one-hot encoding\n",
    "#                   loss 계산 한 추정값과 * one-hot encoding된 정답간 nll_loss 계산.\n",
    "# softmax 적용 전 모델 출력괎과 labelencoding된 정답을 박아서 위의 과정을 처리해 loss를 계산.\n",
    "#optimizer=>최적화(경사하강법)\n",
    "optimizer = torch.optim.Adam(model.parameters(), lr=LR) #모델의 파라미터(최적화대상), 학습률"
   ]
  },
  {
   "cell_type": "code",
   "execution_count": 20,
   "metadata": {
    "collapsed": true
   },
   "outputs": [
    {
     "data": {
      "text/plain": [
       "Parameter containing:\n",
       "tensor([[ 0.0140, -0.0162, -0.0232,  ...,  0.0254, -0.0108,  0.0238],\n",
       "        [-0.0123, -0.0057, -0.0116,  ..., -0.0135, -0.0124,  0.0084],\n",
       "        [-0.0001,  0.0259,  0.0355,  ..., -0.0244, -0.0290,  0.0135],\n",
       "        ...,\n",
       "        [ 0.0239,  0.0302,  0.0245,  ...,  0.0192,  0.0215, -0.0183],\n",
       "        [ 0.0111,  0.0004, -0.0326,  ...,  0.0081,  0.0283, -0.0301],\n",
       "        [ 0.0041, -0.0171, -0.0319,  ..., -0.0012, -0.0298,  0.0281]],\n",
       "       device='cuda:0', requires_grad=True)"
      ]
     },
     "execution_count": 20,
     "metadata": {},
     "output_type": "execute_result"
    }
   ],
   "source": [
    "next(model.parameters())"
   ]
  },
  {
   "cell_type": "code",
   "execution_count": 21,
   "metadata": {},
   "outputs": [
    {
     "name": "stdout",
     "output_type": "stream",
     "text": [
      "[ 1/20] train loss: 0.5382915266558655, val_loss: 0.2523416578769684, val_accuracy: 0.9256\n",
      "[ 2/20] train loss: 0.2163004770429216, val_loss: 0.17259027063846588, val_accuracy: 0.9481\n",
      "[ 3/20] train loss: 0.15917372004662314, val_loss: 0.1423855423927307, val_accuracy: 0.955\n",
      "[ 4/20] train loss: 0.12442666228510375, val_loss: 0.11818356812000275, val_accuracy: 0.9645\n",
      "[ 5/20] train loss: 0.10091532520058318, val_loss: 0.10628855228424072, val_accuracy: 0.9667\n",
      "[ 6/20] train loss: 0.0851648872017733, val_loss: 0.09522002190351486, val_accuracy: 0.9695\n",
      "[ 7/20] train loss: 0.07175433207462487, val_loss: 0.09042242169380188, val_accuracy: 0.9714\n",
      "[ 8/20] train loss: 0.06011712085455656, val_loss: 0.08195673674345016, val_accuracy: 0.9749\n",
      "[ 9/20] train loss: 0.05162691369525388, val_loss: 0.0790487676858902, val_accuracy: 0.976\n",
      "[10/20] train loss: 0.04603468742555915, val_loss: 0.0790698453783989, val_accuracy: 0.9757\n",
      "[11/20] train loss: 0.039136808039222516, val_loss: 0.08220230787992477, val_accuracy: 0.9744\n",
      "[12/20] train loss: 0.034453448047463454, val_loss: 0.08036278188228607, val_accuracy: 0.9751\n",
      "[13/20] train loss: 0.02924077981748642, val_loss: 0.07557155191898346, val_accuracy: 0.9772\n",
      "[14/20] train loss: 0.02521729783123184, val_loss: 0.0879201889038086, val_accuracy: 0.9739\n",
      "[15/20] train loss: 0.0220137209766823, val_loss: 0.07863104343414307, val_accuracy: 0.9765\n",
      "[16/20] train loss: 0.017882459424834095, val_loss: 0.08220584690570831, val_accuracy: 0.9766\n",
      "[17/20] train loss: 0.016393988088776287, val_loss: 0.08501308411359787, val_accuracy: 0.9758\n",
      "[18/20] train loss: 0.013654911247854177, val_loss: 0.08700232207775116, val_accuracy: 0.9751\n",
      "[19/20] train loss: 0.01166901505118411, val_loss: 0.0869310274720192, val_accuracy: 0.9754\n",
      "[20/20] train loss: 0.012565265098212557, val_loss: 0.08813629299402237, val_accuracy: 0.9756\n",
      "139.48664331436157 초\n"
     ]
    }
   ],
   "source": [
    "import time\n",
    "\n",
    "### train => train + validation\n",
    "#epcoch별 학습결과를 저장할 list\n",
    "train_loss_list = []\n",
    "val_loss_list = []\n",
    "val_acc_list = []\n",
    "s = time.time()\n",
    "for epoch in range(N_EPOCH):\n",
    "    ###############################################\n",
    "    # train (학습)\n",
    "    ###############################################\n",
    "    model.train() # 모델을 학습 모드로 변경.\n",
    "    train_loss = 0.0 #현재 epoch의 학습 결과 loss를 저장.\n",
    "    for X_train, y_train in train_loader:\n",
    "        # X, y를 device로 옮긴다.\n",
    "        X_train, y_train = X_train.to(device), y_train.to(device)\n",
    "        # 모델 추정\n",
    "        pred = model(X_train)\n",
    "        # 오차(loss) 계산\n",
    "        loss = loss_fn(pred, y_train)  # 매개변수 순서: (모델추정값, 정답)\n",
    "        # 모델의 파라미터 업데이트\n",
    "        ## 1. 파라미터에 저장된 gradient값들 초기화\n",
    "        optimizer.zero_grad() # optimizer에 설정한 parameter들 초기화(0으로 설정)\n",
    "        ## 2. gradient 계산 -> 계산 결과는 parameter들의 grad 속성에 저장.\n",
    "        loss.backward()\n",
    "        ## 3. 파라미터 업데이트 \n",
    "        optimizer.step()\n",
    "        \n",
    "        # train loss를 누적\n",
    "        train_loss += loss.item() # tensor에서 값을 추출\n",
    "    \n",
    "    #step별로 누적한 loss를 step수로 나눠서 epoch의 평균 loss로 저장\n",
    "    train_loss /= len(train_loader)\n",
    "    \n",
    "    ###############################################\n",
    "    # validate (검증)\n",
    "    ###############################################\n",
    "    model.eval() #모델을 검증(평가) 모드. -> 특정 layer의 경우 학습단계와 검증(추정) 단계에서 다르게 처리하는 것들이 있다. \n",
    "    # 현재 epoch의 검증 결과를 저장할 변수\n",
    "    val_loss = 0.0\n",
    "    val_acc = 0.0\n",
    "    with torch.no_grad():\n",
    "        # 검증시에는 backward를 하지 않으므로 gradient를 구할 필요가 없으므로 no_grad() \n",
    "        #   context manager를 이용해 검증 코드를 작성.\n",
    "        for X_val, y_val in test_loader:\n",
    "            X_val, y_val = X_val.to(device), y_val.to(device)\n",
    "            pred_val = model(X_val) #클래스별 확률\n",
    "            # loss 계산\n",
    "            val_loss += loss_fn(pred_val, y_val)\n",
    "            # 정확도 계산\n",
    "            ## 추정한 클래스를 조회\n",
    "            pred_label = pred_val.argmax(axis=-1)\n",
    "            val_acc += torch.sum(pred_label == y_val).item()\n",
    "        # val_loss, val_acc의 평균\n",
    "        val_loss /= len(test_loader)   #step으로 나눔.\n",
    "        val_acc /= len(test_loader.dataset)   #전체 데이터수\n",
    "        # 현재 epoch 결과를 출력\n",
    "    print(f\"[{epoch+1:2d}/{N_EPOCH:2d}] train loss: {train_loss}, val_loss: {val_loss}, val_accuracy: {val_acc}\")\n",
    "    # 리스트에 현재 epoch의 결과를 추가\n",
    "    train_loss_list.append(train_loss)\n",
    "    val_loss_list.append(val_loss)\n",
    "    val_acc_list.append(val_acc)\n",
    "    \n",
    "e = time.time()\n",
    "print(e-s, \"초\")"
   ]
  },
  {
   "cell_type": "code",
   "execution_count": 22,
   "metadata": {},
   "outputs": [
    {
     "data": {
      "text/plain": [
       "(10000, 10000)"
      ]
     },
     "execution_count": 22,
     "metadata": {},
     "output_type": "execute_result"
    }
   ],
   "source": [
    "len(test_set) , len(test_loader.dataset)"
   ]
  },
  {
   "cell_type": "code",
   "execution_count": 23,
   "metadata": {},
   "outputs": [],
   "source": [
    "#label : 0, 1, 2\n",
    "정답 = torch.tensor([1, 1, 0])\n",
    "추정 = torch.tensor([[0.1, 0.1, 0.8], \n",
    "                     [0.2, 0.7, 0.1], \n",
    "                     [1.0, 0,     0]\n",
    "                    ])"
   ]
  },
  {
   "cell_type": "code",
   "execution_count": 24,
   "metadata": {},
   "outputs": [
    {
     "data": {
      "text/plain": [
       "tensor([2, 1, 0])"
      ]
     },
     "execution_count": 24,
     "metadata": {},
     "output_type": "execute_result"
    }
   ],
   "source": [
    "추정_label = 추정.argmax(axis=-1)\n",
    "추정_label"
   ]
  },
  {
   "cell_type": "code",
   "execution_count": 25,
   "metadata": {},
   "outputs": [
    {
     "data": {
      "text/plain": [
       "2"
      ]
     },
     "execution_count": 25,
     "metadata": {},
     "output_type": "execute_result"
    }
   ],
   "source": [
    "torch.sum(추정_label == 정답).item()"
   ]
  },
  {
   "cell_type": "code",
   "execution_count": null,
   "metadata": {},
   "outputs": [],
   "source": []
  },
  {
   "cell_type": "code",
   "execution_count": null,
   "metadata": {},
   "outputs": [],
   "source": []
  },
  {
   "cell_type": "code",
   "execution_count": 26,
   "metadata": {},
   "outputs": [],
   "source": [
    "# dataloader -> iterable\n",
    "v = next(iter(test_loader))"
   ]
  },
  {
   "cell_type": "code",
   "execution_count": 27,
   "metadata": {},
   "outputs": [
    {
     "data": {
      "text/plain": [
       "(torch.Size([256, 1, 28, 28]), torch.Size([256]))"
      ]
     },
     "execution_count": 27,
     "metadata": {},
     "output_type": "execute_result"
    }
   ],
   "source": [
    "len(v)\n",
    "v[0].shape, v[1].shape   # [X, y] => X와 y를 리스트로 묶어서 반환 -> batch 단위로 제공."
   ]
  },
  {
   "attachments": {},
   "cell_type": "markdown",
   "metadata": {},
   "source": [
    "### 학습 및 검증"
   ]
  },
  {
   "cell_type": "code",
   "execution_count": null,
   "metadata": {},
   "outputs": [],
   "source": []
  },
  {
   "attachments": {},
   "cell_type": "markdown",
   "metadata": {},
   "source": [
    "### 학습 로그 시각화"
   ]
  },
  {
   "cell_type": "code",
   "execution_count": 31,
   "metadata": {},
   "outputs": [],
   "source": [
    "# val_loss_list 리스트 안의 텐서를 cpu로\n",
    "val_loss_list = [x.cpu() for x in val_loss_list]"
   ]
  },
  {
   "cell_type": "code",
   "execution_count": 32,
   "metadata": {},
   "outputs": [
    {
     "data": {
      "image/png": "[encoded data removed]",
      "text/plain": [
       "<Figure size 640x480 with 1 Axes>"
      ]
     },
     "metadata": {},
     "output_type": "display_data"
    }
   ],
   "source": [
    "plt.plot(range(N_EPOCH), train_loss_list, label=\"train\")\n",
    "plt.plot(range(N_EPOCH), val_loss_list, label='val')\n",
    "plt.legend()\n",
    "plt.show()"
   ]
  },
  {
   "cell_type": "code",
   "execution_count": 33,
   "metadata": {},
   "outputs": [
    {
     "data": {
      "image/png": "[encoded data removed]",
      "text/plain": [
       "<Figure size 640x480 with 1 Axes>"
      ]
     },
     "metadata": {},
     "output_type": "display_data"
    }
   ],
   "source": [
    "plt.plot(range(N_EPOCH), val_acc_list)\n",
    "plt.show()"
   ]
  },
  {
   "cell_type": "code",
   "execution_count": null,
   "metadata": {},
   "outputs": [],
   "source": []
  },
  {
   "attachments": {},
   "cell_type": "markdown",
   "metadata": {},
   "source": [
    "## 학습된 모델 저장 및 불러오기"
   ]
  },
  {
   "cell_type": "code",
   "execution_count": 34,
   "metadata": {},
   "outputs": [
    {
     "data": {
      "text/plain": [
       "'models/MNIST/mnist_mlp.pth'"
      ]
     },
     "execution_count": 34,
     "metadata": {},
     "output_type": "execute_result"
    }
   ],
   "source": [
    "save_path = os.path.join(MODEL_SAVE_PATH, \"MNIST\", \"mnist_mlp.pth\")\n",
    "os.makedirs(os.path.join(MODEL_SAVE_PATH, \"MNIST\"), exist_ok=True)\n",
    "save_path"
   ]
  },
  {
   "cell_type": "code",
   "execution_count": 35,
   "metadata": {},
   "outputs": [],
   "source": [
    "torch.save(model, save_path)"
   ]
  },
  {
   "cell_type": "code",
   "execution_count": 36,
   "metadata": {},
   "outputs": [],
   "source": [
    "# 불러오기\n",
    "load_model = torch.load(save_path)"
   ]
  },
  {
   "cell_type": "code",
   "execution_count": 37,
   "metadata": {
    "scrolled": true
   },
   "outputs": [
    {
     "data": {
      "text/plain": [
       "==========================================================================================\n",
       "Layer (type:depth-idx)                   Output Shape              Param #\n",
       "==========================================================================================\n",
       "MNISTModel                               [256, 10]                 --\n",
       "├─Linear: 1-1                            [256, 128]                100,480\n",
       "├─Linear: 1-2                            [256, 64]                 8,256\n",
       "├─Linear: 1-3                            [256, 10]                 650\n",
       "==========================================================================================\n",
       "Total params: 109,386\n",
       "Trainable params: 109,386\n",
       "Non-trainable params: 0\n",
       "Total mult-adds (M): 28.00\n",
       "==========================================================================================\n",
       "Input size (MB): 0.80\n",
       "Forward/backward pass size (MB): 0.41\n",
       "Params size (MB): 0.44\n",
       "Estimated Total Size (MB): 1.65\n",
       "=========================================================================================="
      ]
     },
     "execution_count": 37,
     "metadata": {},
     "output_type": "execute_result"
    }
   ],
   "source": [
    "summary(load_model, (256, 784))"
   ]
  },
  {
   "attachments": {},
   "cell_type": "markdown",
   "metadata": {},
   "source": [
    "## 모델 평가"
   ]
  },
  {
   "cell_type": "code",
   "execution_count": 38,
   "metadata": {},
   "outputs": [
    {
     "name": "stdout",
     "output_type": "stream",
     "text": [
      "test loss: 0.08813629299402237, test accuracy: 0.9756\n"
     ]
    }
   ],
   "source": [
    "load_model = load_model.to(device)\n",
    "load_model.eval()\n",
    "\n",
    "test_loss, test_acc = 0.0, 0.0\n",
    "with torch.no_grad():\n",
    "    for X, y in test_loader:\n",
    "        X, y = X.to(device), y.to(device)\n",
    "        # 추정\n",
    "        pred_proba = load_model(X)\n",
    "        # 평가 - loss, accuracy\n",
    "        test_loss += loss_fn(pred_proba, y)\n",
    "        pred_label = pred_proba.argmax(dim=-1)\n",
    "        test_acc += torch.sum(pred_label == y).item()\n",
    "    \n",
    "    #평균\n",
    "    test_loss /= len(test_loader)  # step수\n",
    "    test_acc /= len(test_loader.dataset) # 데이터수\n",
    "print(f\"test loss: {test_loss}, test accuracy: {test_acc}\")    "
   ]
  },
  {
   "attachments": {},
   "cell_type": "markdown",
   "metadata": {
    "slideshow": {
     "slide_type": "slide"
    }
   },
   "source": [
    "## 새로운 데이터 추론"
   ]
  },
  {
   "cell_type": "code",
   "execution_count": 39,
   "metadata": {
    "collapsed": true
   },
   "outputs": [
    {
     "data": {
      "text/plain": [
       "['test_img/num/1.png',\n",
       " 'test_img/num/0.png',\n",
       " 'test_img/num/6.png',\n",
       " 'test_img/num/3.png',\n",
       " 'test_img/num/8.png',\n",
       " 'test_img/num/7.png',\n",
       " 'test_img/num/4.png',\n",
       " 'test_img/num/9.png',\n",
       " 'test_img/num/5.png',\n",
       " 'test_img/num/2.png']"
      ]
     },
     "execution_count": 39,
     "metadata": {},
     "output_type": "execute_result"
    }
   ],
   "source": [
    "from glob import glob\n",
    "\n",
    "file_list = glob('test_img/num/*.png')\n",
    "file_list"
   ]
  },
  {
   "cell_type": "code",
   "execution_count": 41,
   "metadata": {},
   "outputs": [
    {
     "name": "stdout",
     "output_type": "stream",
     "text": [
      "Collecting opencv-python\n",
      "  Downloading opencv_python-4.7.0.72-cp37-abi3-manylinux_2_17_x86_64.manylinux2014_x86_64.whl (61.8 MB)\n",
      "\u001b[2K     \u001b[90m━━━━━━━━━━━━━━━━━━━━━━━━━━━━━━━━━━━━━━━━\u001b[0m \u001b[32m61.8/61.8 MB\u001b[0m \u001b[31m31.0 MB/s\u001b[0m eta \u001b[36m0:00:00\u001b[0m00:01\u001b[0m00:01\u001b[0m\n",
      "\u001b[?25hRequirement already satisfied: numpy>=1.17.0 in /home/parking/anaconda3/envs/ml/lib/python3.10/site-packages (from opencv-python) (1.24.1)\n",
      "Installing collected packages: opencv-python\n",
      "Successfully installed opencv-python-4.7.0.72\n"
     ]
    }
   ],
   "source": [
    "# openCV 설치\n",
    "!pip install opencv-python"
   ]
  },
  {
   "cell_type": "code",
   "execution_count": 51,
   "metadata": {},
   "outputs": [
    {
     "data": {
      "text/plain": [
       "(torch.Size([10, 28, 28]), tensor(0.), tensor(1.))"
      ]
     },
     "execution_count": 51,
     "metadata": {},
     "output_type": "execute_result"
    }
   ],
   "source": [
    "import cv2\n",
    "\n",
    "file_cnt = len(file_list) #test할 이미지 개수.\n",
    "input_tensor = torch.zeros((file_cnt, 28, 28)) #입력데이터(이미지들)을 저장할 tensor\n",
    "# input_tensor.shape\n",
    "for i in range(file_cnt):\n",
    "    # 색상 반전시켜 읽기\n",
    "    test_img = cv2.imread(file_list[i], cv2.IMREAD_GRAYSCALE)\n",
    "    test_img = cv2.bitwise_not(test_img)\n",
    "    test_img = cv2.resize(test_img, (28, 28))\n",
    "    input_tensor[i] = transforms.ToTensor()(test_img) \n",
    "    # train set에 적용된 전처리를 적용. 개별 데이터별로 처리.\n",
    "\n",
    "input_tensor.shape, input_tensor.min(), input_tensor.max()"
   ]
  },
  {
   "cell_type": "code",
   "execution_count": 52,
   "metadata": {},
   "outputs": [
    {
     "data": {
      "text/plain": [
       "tensor([[0.0000, 0.0000, 0.0000, 0.0000, 0.0000, 0.0000, 0.0000, 0.0000, 0.0000,\n",
       "         0.0000, 0.0000, 0.0000, 0.0000, 0.0000, 0.0000, 0.0000, 0.0000, 0.0000,\n",
       "         0.0000, 0.0000, 0.0000, 0.0000, 0.0000, 0.0000, 0.0000, 0.0000, 0.0000,\n",
       "         0.0000],\n",
       "        [0.0000, 0.0000, 0.0000, 0.0000, 0.0000, 0.0000, 0.0000, 0.0000, 0.0000,\n",
       "         0.0000, 0.0000, 0.0000, 0.0000, 0.0000, 0.0000, 0.0000, 0.0000, 0.0000,\n",
       "         0.0000, 0.0000, 0.0000, 0.0000, 0.0000, 0.0000, 0.0000, 0.0000, 0.0000,\n",
       "         0.0000],\n",
       "        [0.0000, 0.0000, 0.0000, 0.0000, 0.0000, 0.0000, 0.0000, 0.0000, 0.0000,\n",
       "         0.0000, 0.0000, 0.0000, 0.0000, 0.0000, 0.0000, 0.0000, 0.0000, 0.0000,\n",
       "         0.0000, 0.0000, 0.0000, 0.0000, 0.0000, 0.0000, 0.0000, 0.0000, 0.0000,\n",
       "         0.0000],\n",
       "        [0.0000, 0.0000, 0.0000, 0.0000, 0.0000, 0.0000, 0.0000, 0.0000, 0.0000,\n",
       "         0.0000, 0.0000, 0.0000, 0.0000, 0.0000, 0.2824, 0.7490, 0.3765, 0.0000,\n",
       "         0.0000, 0.0000, 0.0000, 0.0000, 0.0000, 0.0000, 0.0000, 0.0000, 0.0000,\n",
       "         0.0000],\n",
       "        [0.0000, 0.0000, 0.0000, 0.0000, 0.0000, 0.0000, 0.0000, 0.0000, 0.0000,\n",
       "         0.0000, 0.0000, 0.0000, 0.0000, 0.2824, 0.9373, 1.0000, 0.9686, 0.0000,\n",
       "         0.0000, 0.0000, 0.0000, 0.0000, 0.0000, 0.0000, 0.0000, 0.0000, 0.0000,\n",
       "         0.0000],\n",
       "        [0.0000, 0.0000, 0.0000, 0.0000, 0.0000, 0.0000, 0.0000, 0.0000, 0.0000,\n",
       "         0.0000, 0.0000, 0.0000, 0.2824, 0.9373, 1.0000, 1.0000, 1.0000, 0.0000,\n",
       "         0.0000, 0.0000, 0.0000, 0.0000, 0.0000, 0.0000, 0.0000, 0.0000, 0.0000,\n",
       "         0.0000],\n",
       "        [0.0000, 0.0000, 0.0000, 0.0000, 0.0000, 0.0000, 0.0000, 0.0000, 0.0000,\n",
       "         0.0000, 0.0000, 0.0000, 0.8745, 1.0000, 1.0000, 1.0000, 1.0000, 0.0000,\n",
       "         0.0000, 0.0000, 0.0000, 0.0000, 0.0000, 0.0000, 0.0000, 0.0000, 0.0000,\n",
       "         0.0000],\n",
       "        [0.0000, 0.0000, 0.0000, 0.0000, 0.0000, 0.0000, 0.0000, 0.0000, 0.0000,\n",
       "         0.0000, 0.0000, 0.0000, 0.4706, 1.0000, 1.0000, 1.0000, 1.0000, 0.0000,\n",
       "         0.0000, 0.0000, 0.0000, 0.0000, 0.0000, 0.0000, 0.0000, 0.0000, 0.0000,\n",
       "         0.0000],\n",
       "        [0.0000, 0.0000, 0.0000, 0.0000, 0.0000, 0.0000, 0.0000, 0.0000, 0.0000,\n",
       "         0.0000, 0.0000, 0.0000, 0.0000, 1.0000, 1.0000, 1.0000, 0.5922, 0.0000,\n",
       "         0.0000, 0.0000, 0.0000, 0.0000, 0.0000, 0.0000, 0.0000, 0.0000, 0.0000,\n",
       "         0.0000],\n",
       "        [0.0000, 0.0000, 0.0000, 0.0000, 0.0000, 0.0000, 0.0000, 0.0000, 0.0000,\n",
       "         0.0000, 0.0000, 0.0000, 0.0000, 1.0000, 1.0000, 1.0000, 0.0000, 0.0000,\n",
       "         0.0000, 0.0000, 0.0000, 0.0000, 0.0000, 0.0000, 0.0000, 0.0000, 0.0000,\n",
       "         0.0000],\n",
       "        [0.0000, 0.0000, 0.0000, 0.0000, 0.0000, 0.0000, 0.0000, 0.0000, 0.0000,\n",
       "         0.0000, 0.0000, 0.0000, 0.2824, 1.0000, 1.0000, 1.0000, 0.0000, 0.0000,\n",
       "         0.0000, 0.0000, 0.0000, 0.0000, 0.0000, 0.0000, 0.0000, 0.0000, 0.0000,\n",
       "         0.0000],\n",
       "        [0.0000, 0.0000, 0.0000, 0.0000, 0.0000, 0.0000, 0.0000, 0.0000, 0.0000,\n",
       "         0.0000, 0.0000, 0.0000, 0.9059, 1.0000, 1.0000, 1.0000, 0.0000, 0.0000,\n",
       "         0.0000, 0.0000, 0.0000, 0.0000, 0.0000, 0.0000, 0.0000, 0.0000, 0.0000,\n",
       "         0.0000],\n",
       "        [0.0000, 0.0000, 0.0000, 0.0000, 0.0000, 0.0000, 0.0000, 0.0000, 0.0000,\n",
       "         0.0000, 0.0000, 0.0000, 1.0000, 1.0000, 1.0000, 0.5922, 0.0000, 0.0000,\n",
       "         0.0000, 0.0000, 0.0000, 0.0000, 0.0000, 0.0000, 0.0000, 0.0000, 0.0000,\n",
       "         0.0000],\n",
       "        [0.0000, 0.0000, 0.0000, 0.0000, 0.0000, 0.0000, 0.0000, 0.0000, 0.0000,\n",
       "         0.0000, 0.0000, 0.0000, 1.0000, 1.0000, 1.0000, 0.0000, 0.0000, 0.0000,\n",
       "         0.0000, 0.0000, 0.0000, 0.0000, 0.0000, 0.0000, 0.0000, 0.0000, 0.0000,\n",
       "         0.0000],\n",
       "        [0.0000, 0.0000, 0.0000, 0.0000, 0.0000, 0.0000, 0.0000, 0.0000, 0.0000,\n",
       "         0.0000, 0.0000, 0.0000, 1.0000, 1.0000, 1.0000, 0.0000, 0.0000, 0.0000,\n",
       "         0.0000, 0.0000, 0.0000, 0.0000, 0.0000, 0.0000, 0.0000, 0.0000, 0.0000,\n",
       "         0.0000],\n",
       "        [0.0000, 0.0000, 0.0000, 0.0000, 0.0000, 0.0000, 0.0000, 0.0000, 0.0000,\n",
       "         0.0000, 0.0000, 0.4078, 1.0000, 1.0000, 1.0000, 0.0000, 0.0000, 0.0000,\n",
       "         0.0000, 0.0000, 0.0000, 0.0000, 0.0000, 0.0000, 0.0000, 0.0000, 0.0000,\n",
       "         0.0000],\n",
       "        [0.0000, 0.0000, 0.0000, 0.0000, 0.0000, 0.0000, 0.0000, 0.0000, 0.0000,\n",
       "         0.0000, 0.0000, 0.9059, 1.0000, 1.0000, 0.6549, 0.0000, 0.0000, 0.0000,\n",
       "         0.0000, 0.0000, 0.0000, 0.0000, 0.0000, 0.0000, 0.0000, 0.0000, 0.0000,\n",
       "         0.0000],\n",
       "        [0.0000, 0.0000, 0.0000, 0.0000, 0.0000, 0.0000, 0.0000, 0.0000, 0.0000,\n",
       "         0.0000, 0.0000, 1.0000, 1.0000, 1.0000, 0.0314, 0.0000, 0.0000, 0.0000,\n",
       "         0.0000, 0.0000, 0.0000, 0.0000, 0.0000, 0.0000, 0.0000, 0.0000, 0.0000,\n",
       "         0.0000],\n",
       "        [0.0000, 0.0000, 0.0000, 0.0000, 0.0000, 0.0000, 0.0000, 0.0000, 0.0000,\n",
       "         0.0000, 0.0000, 1.0000, 1.0000, 1.0000, 0.0000, 0.0000, 0.0000, 0.0000,\n",
       "         0.0000, 0.0000, 0.0000, 0.0000, 0.0000, 0.0000, 0.0000, 0.0000, 0.0000,\n",
       "         0.0000],\n",
       "        [0.0000, 0.0000, 0.0000, 0.0000, 0.0000, 0.0000, 0.0000, 0.0000, 0.0000,\n",
       "         0.0000, 0.2824, 1.0000, 1.0000, 1.0000, 0.3765, 0.0000, 0.0000, 0.0000,\n",
       "         0.0000, 0.0000, 0.0000, 0.0000, 0.0000, 0.0000, 0.0000, 0.0000, 0.0000,\n",
       "         0.0000],\n",
       "        [0.0000, 0.0000, 0.0000, 0.0000, 0.0000, 0.0000, 0.0000, 0.0000, 0.0000,\n",
       "         0.2824, 0.9373, 1.0000, 1.0000, 1.0000, 0.9686, 0.3765, 0.0000, 0.0000,\n",
       "         0.0000, 0.0000, 0.0000, 0.0000, 0.0000, 0.0000, 0.0000, 0.0000, 0.0000,\n",
       "         0.0000],\n",
       "        [0.0000, 0.0000, 0.0000, 0.0000, 0.0000, 0.0000, 0.0000, 0.0000, 0.0000,\n",
       "         0.8745, 1.0000, 1.0000, 1.0000, 1.0000, 1.0000, 0.9686, 0.0000, 0.0000,\n",
       "         0.0000, 0.0000, 0.0000, 0.0000, 0.0000, 0.0000, 0.0000, 0.0000, 0.0000,\n",
       "         0.0000],\n",
       "        [0.0000, 0.0000, 0.0000, 0.0000, 0.0000, 0.0000, 0.0000, 0.0000, 0.0000,\n",
       "         0.4706, 1.0000, 1.0000, 1.0000, 1.0000, 1.0000, 0.5922, 0.0000, 0.0000,\n",
       "         0.0000, 0.0000, 0.0000, 0.0000, 0.0000, 0.0000, 0.0000, 0.0000, 0.0000,\n",
       "         0.0000],\n",
       "        [0.0000, 0.0000, 0.0000, 0.0000, 0.0000, 0.0000, 0.0000, 0.0000, 0.0000,\n",
       "         0.0000, 0.0000, 0.0000, 0.0000, 0.0000, 0.0000, 0.0000, 0.0000, 0.0000,\n",
       "         0.0000, 0.0000, 0.0000, 0.0000, 0.0000, 0.0000, 0.0000, 0.0000, 0.0000,\n",
       "         0.0000],\n",
       "        [0.0000, 0.0000, 0.0000, 0.0000, 0.0000, 0.0000, 0.0000, 0.0000, 0.0000,\n",
       "         0.0000, 0.0000, 0.0000, 0.0000, 0.0000, 0.0000, 0.0000, 0.0000, 0.0000,\n",
       "         0.0000, 0.0000, 0.0000, 0.0000, 0.0000, 0.0000, 0.0000, 0.0000, 0.0000,\n",
       "         0.0000],\n",
       "        [0.0000, 0.0000, 0.0000, 0.0000, 0.0000, 0.0000, 0.0000, 0.0000, 0.0000,\n",
       "         0.0000, 0.0000, 0.0000, 0.0000, 0.0000, 0.0000, 0.0000, 0.0000, 0.0000,\n",
       "         0.0000, 0.0000, 0.0000, 0.0000, 0.0000, 0.0000, 0.0000, 0.0000, 0.0000,\n",
       "         0.0000],\n",
       "        [0.0000, 0.0000, 0.0000, 0.0000, 0.0000, 0.0000, 0.0000, 0.0000, 0.0000,\n",
       "         0.0000, 0.0000, 0.0000, 0.0000, 0.0000, 0.0000, 0.0000, 0.0000, 0.0000,\n",
       "         0.0000, 0.0000, 0.0000, 0.0000, 0.0000, 0.0000, 0.0000, 0.0000, 0.0000,\n",
       "         0.0000],\n",
       "        [0.0000, 0.0000, 0.0000, 0.0000, 0.0000, 0.0000, 0.0000, 0.0000, 0.0000,\n",
       "         0.0000, 0.0000, 0.0000, 0.0000, 0.0000, 0.0000, 0.0000, 0.0000, 0.0000,\n",
       "         0.0000, 0.0000, 0.0000, 0.0000, 0.0000, 0.0000, 0.0000, 0.0000, 0.0000,\n",
       "         0.0000]])"
      ]
     },
     "execution_count": 52,
     "metadata": {},
     "output_type": "execute_result"
    },
    {
     "data": {
      "image/png": "[encoded data removed]",
      "text/plain": [
       "<Figure size 640x480 with 1 Axes>"
      ]
     },
     "metadata": {},
     "output_type": "display_data"
    }
   ],
   "source": [
    "# 첫번째 이미지 확인\n",
    "plt.imshow(input_tensor[0], cmap='gray')\n",
    "input_tensor[0]"
   ]
  },
  {
   "cell_type": "code",
   "execution_count": 44,
   "metadata": {},
   "outputs": [],
   "source": [
    "# 추론\n",
    "load_model.to(device)\n",
    "load_model.eval()\n",
    "input_tensor = input_tensor.to(device)\n",
    "\n",
    "pred_proba = load_model(input_tensor)\n",
    "# 확률\n",
    "pred_proba = nn.Softmax(dim=-1)(pred_proba)"
   ]
  },
  {
   "cell_type": "code",
   "execution_count": 45,
   "metadata": {
    "scrolled": true
   },
   "outputs": [
    {
     "name": "stdout",
     "output_type": "stream",
     "text": [
      "torch.Size([10, 10])\n"
     ]
    },
    {
     "data": {
      "text/plain": [
       "tensor([[2.2219e-05, 5.9651e-01, 1.4600e-04, 4.1305e-06, 8.9758e-08, 3.7684e-07,\n",
       "         6.2572e-03, 4.3662e-08, 3.9706e-01, 3.2603e-09],\n",
       "        [1.6260e-06, 8.7970e-06, 9.5752e-01, 3.3675e-04, 3.7518e-24, 2.7650e-11,\n",
       "         4.2134e-02, 6.1504e-14, 1.2968e-07, 5.2324e-25],\n",
       "        [8.5140e-08, 2.2068e-04, 2.0176e-04, 1.8506e-02, 6.3974e-15, 1.3175e-06,\n",
       "         7.2522e-06, 9.1590e-10, 9.8106e-01, 3.8167e-12],\n",
       "        [3.0437e-15, 1.2964e-09, 1.0233e-09, 1.0000e+00, 6.0240e-21, 9.0244e-07,\n",
       "         3.4140e-13, 1.0039e-13, 4.1375e-08, 5.1195e-13],\n",
       "        [1.5814e-16, 2.3901e-18, 2.3014e-12, 3.5595e-03, 3.7915e-23, 2.9722e-10,\n",
       "         5.5057e-20, 7.0488e-19, 9.9644e-01, 5.8474e-12],\n",
       "        [1.3989e-13, 1.3317e-05, 3.7128e-05, 9.9989e-01, 1.1845e-16, 3.3209e-13,\n",
       "         1.2970e-16, 5.5920e-09, 6.0618e-05, 2.3682e-11],\n",
       "        [1.7090e-13, 1.8819e-11, 1.7693e-12, 8.1399e-17, 1.0000e+00, 6.2179e-16,\n",
       "         1.2620e-10, 7.2049e-09, 1.7406e-17, 1.6738e-09],\n",
       "        [3.1291e-03, 8.9109e-12, 3.1906e-08, 3.1575e-09, 3.7389e-09, 2.7483e-08,\n",
       "         2.6172e-09, 4.8432e-10, 9.9517e-01, 1.7008e-03],\n",
       "        [4.0831e-13, 4.5334e-14, 1.5639e-16, 1.6829e-02, 8.5164e-21, 9.8283e-01,\n",
       "         3.3172e-17, 6.6929e-18, 1.8078e-11, 3.3809e-04],\n",
       "        [5.3499e-10, 3.6030e-07, 1.0000e+00, 3.0929e-07, 8.0833e-26, 7.2387e-12,\n",
       "         1.7777e-20, 7.7677e-07, 2.2200e-10, 1.2471e-11]], device='cuda:0',\n",
       "       grad_fn=<SoftmaxBackward0>)"
      ]
     },
     "execution_count": 45,
     "metadata": {},
     "output_type": "execute_result"
    }
   ],
   "source": [
    "print(pred_proba.shape)\n",
    "pred_proba#.sum(dim=-1)"
   ]
  },
  {
   "cell_type": "code",
   "execution_count": 46,
   "metadata": {},
   "outputs": [],
   "source": [
    "# 정답 확률\n",
    "proba = pred_proba.max(dim=-1).values\n",
    "label = pred_proba.argmax(dim=-1)"
   ]
  },
  {
   "cell_type": "code",
   "execution_count": 47,
   "metadata": {},
   "outputs": [
    {
     "data": {
      "text/plain": [
       "(tensor(0.5965, device='cuda:0', grad_fn=<SelectBackward0>),\n",
       " tensor(1, device='cuda:0'))"
      ]
     },
     "execution_count": 47,
     "metadata": {},
     "output_type": "execute_result"
    }
   ],
   "source": [
    "# 1번의 추정정답\n",
    "proba[0], label[0]"
   ]
  },
  {
   "cell_type": "code",
   "execution_count": 48,
   "metadata": {},
   "outputs": [],
   "source": [
    "proba = torch.round(proba, decimals=2)"
   ]
  },
  {
   "cell_type": "code",
   "execution_count": 49,
   "metadata": {},
   "outputs": [
    {
     "data": {
      "text/plain": [
       "tensor(0.6000, device='cuda:0')"
      ]
     },
     "execution_count": 49,
     "metadata": {},
     "output_type": "execute_result"
    }
   ],
   "source": [
    "proba[0].detach()"
   ]
  },
  {
   "cell_type": "code",
   "execution_count": 50,
   "metadata": {
    "scrolled": false
   },
   "outputs": [
    {
     "data": {
      "image/png": "[encoded data removed]",
      "text/plain": [
       "<Figure size 1500x700 with 10 Axes>"
      ]
     },
     "metadata": {},
     "output_type": "display_data"
    }
   ],
   "source": [
    "plt.figure(figsize=(15,7))\n",
    "for i in range(file_cnt):\n",
    "    plt.subplot(2, 5, i+1)\n",
    "    plt.imshow(input_tensor[i].to('cpu'), cmap='gray')\n",
    "    plt.title(f\"{proba[i].detach()}-{label[i]}\")\n",
    "plt.tight_layout()\n",
    "plt.show()"
   ]
  },
  {
   "cell_type": "code",
   "execution_count": null,
   "metadata": {},
   "outputs": [],
   "source": []
  },
  {
   "cell_type": "code",
   "execution_count": null,
   "metadata": {},
   "outputs": [],
   "source": []
  },
  {
   "cell_type": "code",
   "execution_count": null,
   "metadata": {},
   "outputs": [],
   "source": []
  },
  {
   "cell_type": "code",
   "execution_count": null,
   "metadata": {},
   "outputs": [],
   "source": []
  }
 ],
 "metadata": {
  "kernelspec": {
   "display_name": "Python 3 (ipykernel)",
   "language": "python",
   "name": "python3"
  },
  "language_info": {
   "codemirror_mode": {
    "name": "ipython",
    "version": 3
   },
   "file_extension": ".py",
   "mimetype": "text/x-python",
   "name": "python",
   "nbconvert_exporter": "python",
   "pygments_lexer": "ipython3",
   "version": "3.10.11"
  },
  "toc": {
   "base_numbering": 1,
   "nav_menu": {},
   "number_sections": false,
   "sideBar": true,
   "skip_h1_title": false,
   "title_cell": "Table of Contents",
   "title_sidebar": "Contents",
   "toc_cell": false,
   "toc_position": {},
   "toc_section_display": true,
   "toc_window_display": false
  },
  "varInspector": {
   "cols": {
    "lenName": 16,
    "lenType": 16,
    "lenVar": 40
   },
   "kernels_config": {
    "python": {
     "delete_cmd_postfix": "",
     "delete_cmd_prefix": "del ",
     "library": "var_list.py",
     "varRefreshCmd": "print(var_dic_list())"
    },
    "r": {
     "delete_cmd_postfix": ") ",
     "delete_cmd_prefix": "rm(",
     "library": "var_list.r",
     "varRefreshCmd": "cat(var_dic_list()) "
    }
   },
   "position": {
    "height": "347.844px",
    "left": "1891px",
    "right": "20px",
    "top": "361px",
    "width": "486px"
   },
   "types_to_exclude": [
    "module",
    "function",
    "builtin_function_or_method",
    "instance",
    "_Feature"
   ],
   "window_display": false
  }
 },
 "nbformat": 4,
 "nbformat_minor": 2
}
