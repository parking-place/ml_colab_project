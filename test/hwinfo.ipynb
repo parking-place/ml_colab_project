{
 "cells": [
  {
   "attachments": {},
   "cell_type": "markdown",
   "metadata": {},
   "source": [
    "### CPU"
   ]
  },
  {
   "cell_type": "code",
   "execution_count": 1,
   "metadata": {},
   "outputs": [
    {
     "name": "stdout",
     "output_type": "stream",
     "text": [
      "model name\t: AMD Ryzen 7 1700X Eight-Core Processor\n",
      "siblings\t: 16\n",
      "cpu cores\t: 8\n"
     ]
    }
   ],
   "source": [
    "!cat /proc/cpuinfo | egrep 'model name|siblings|cpu cores' | head -3"
   ]
  },
  {
   "attachments": {},
   "cell_type": "markdown",
   "metadata": {},
   "source": [
    "### RAM"
   ]
  },
  {
   "cell_type": "code",
   "execution_count": 2,
   "metadata": {},
   "outputs": [
    {
     "name": "stdout",
     "output_type": "stream",
     "text": [
      "               total        used        free      shared  buff/cache   available\n",
      "Mem:            31Gi       4.3Gi        25Gi        11Mi       1.9Gi        26Gi\n",
      "Swap:          8.0Gi          0B       8.0Gi\n"
     ]
    }
   ],
   "source": [
    "!free -h"
   ]
  },
  {
   "attachments": {},
   "cell_type": "markdown",
   "metadata": {},
   "source": [
    "### GPU"
   ]
  },
  {
   "cell_type": "code",
   "execution_count": 3,
   "metadata": {},
   "outputs": [
    {
     "name": "stdout",
     "output_type": "stream",
     "text": [
      "Mon Jun 12 05:06:32 2023       \n",
      "+-----------------------------------------------------------------------------+\n",
      "| NVIDIA-SMI 525.105.17   Driver Version: 525.105.17   CUDA Version: 12.0     |\n",
      "|-------------------------------+----------------------+----------------------+\n",
      "| GPU  Name        Persistence-M| Bus-Id        Disp.A | Volatile Uncorr. ECC |\n",
      "| Fan  Temp  Perf  Pwr:Usage/Cap|         Memory-Usage | GPU-Util  Compute M. |\n",
      "|                               |                      |               MIG M. |\n",
      "|===============================+======================+======================|\n",
      "|   0  NVIDIA GeForce ...  Off  | 00000000:0B:00.0 Off |                  N/A |\n",
      "|  0%   44C    P8    16W / 170W |   1136MiB / 12288MiB |      0%      Default |\n",
      "|                               |                      |                  N/A |\n",
      "+-------------------------------+----------------------+----------------------+\n",
      "                                                                               \n",
      "+-----------------------------------------------------------------------------+\n",
      "| Processes:                                                                  |\n",
      "|  GPU   GI   CI        PID   Type   Process name                  GPU Memory |\n",
      "|        ID   ID                                                   Usage      |\n",
      "|=============================================================================|\n",
      "|    0   N/A  N/A      2584      C   ...conda3/envs/ml/bin/python     1134MiB |\n",
      "+-----------------------------------------------------------------------------+\n",
      "cuda\n"
     ]
    }
   ],
   "source": [
    "!nvidia-smi\n",
    "import torch\n",
    "DEVICE = 'cuda' if torch.cuda.is_available() else 'mps' if torch.backend.mps.is_available() else 'cpu'\n",
    "print(DEVICE)"
   ]
  },
  {
   "attachments": {},
   "cell_type": "markdown",
   "metadata": {},
   "source": [
    "### 디스크 용량 확인"
   ]
  },
  {
   "cell_type": "code",
   "execution_count": 5,
   "metadata": {},
   "outputs": [
    {
     "name": "stdout",
     "output_type": "stream",
     "text": [
      "Filesystem                         Size  Used Avail Use% Mounted on\n",
      "tmpfs                              3.2G  1.6M  3.2G   1% /run\n",
      "/dev/mapper/ubuntu--vg-ubuntu--lv  455G   30G  406G   7% /\n",
      "tmpfs                               16G     0   16G   0% /dev/shm\n",
      "tmpfs                              5.0M     0  5.0M   0% /run/lock\n",
      "/dev/nvme0n1p2                     2.0G  219M  1.6G  12% /boot\n",
      "/dev/nvme0n1p1                     1.1G  6.1M  1.1G   1% /boot/efi\n",
      "tmpfs                              3.2G  4.0K  3.2G   1% /run/user/1000\n"
     ]
    }
   ],
   "source": [
    "!df -h"
   ]
  },
  {
   "attachments": {},
   "cell_type": "markdown",
   "metadata": {},
   "source": [
    "### CPU 사용량 체크"
   ]
  },
  {
   "cell_type": "code",
   "execution_count": 6,
   "metadata": {},
   "outputs": [
    {
     "name": "stdout",
     "output_type": "stream",
     "text": [
      "\u001b[?1h\u001b=\u001b[H\u001b[2J\u001b[mtop - 06:11:49 up  6:10,  0 users,  load average: 0.00, 0.00, 0.00\u001b[m\u001b[m\u001b[m\u001b[m\u001b[K\n",
      "Tasks:\u001b[m\u001b[m\u001b[1m 254 \u001b[m\u001b[mtotal,\u001b[m\u001b[m\u001b[1m   1 \u001b[m\u001b[mrunning,\u001b[m\u001b[m\u001b[1m 253 \u001b[m\u001b[msleeping,\u001b[m\u001b[m\u001b[1m   0 \u001b[m\u001b[mstopped,\u001b[m\u001b[m\u001b[1m   0 \u001b[m\u001b[mzombie\u001b[m\u001b[m\u001b[m\u001b[m\u001b[K\n",
      "%Cpu(s):\u001b[m\u001b[m\u001b[1m  0.4 \u001b[m\u001b[mus,\u001b[m\u001b[m\u001b[1m  0.0 \u001b[m\u001b[msy,\u001b[m\u001b[m\u001b[1m  0.0 \u001b[m\u001b[mni,\u001b[m\u001b[m\u001b[1m 99.2 \u001b[m\u001b[mid,\u001b[m\u001b[m\u001b[1m  0.0 \u001b[m\u001b[mwa,\u001b[m\u001b[m\u001b[1m  0.0 \u001b[m\u001b[mhi,\u001b[m\u001b[m\u001b[1m  0.4 \u001b[m\u001b[msi,\u001b[m\u001b[m\u001b[1m  0.0 \u001b[m\u001b[mst\u001b[m\u001b[m\u001b[m\u001b[m\u001b[K\n",
      "MiB Mem :\u001b[m\u001b[m\u001b[1m  32024.2 \u001b[m\u001b[mtotal,\u001b[m\u001b[m\u001b[1m  24978.5 \u001b[m\u001b[mfree,\u001b[m\u001b[m\u001b[1m   3711.4 \u001b[m\u001b[mused,\u001b[m\u001b[m\u001b[1m   3334.3 \u001b[m\u001b[mbuff/cache\u001b[m\u001b[m\u001b[m\u001b[m\u001b[K\n",
      "MiB Swap:\u001b[m\u001b[m\u001b[1m   8192.0 \u001b[m\u001b[mtotal,\u001b[m\u001b[m\u001b[1m   8192.0 \u001b[m\u001b[mfree,\u001b[m\u001b[m\u001b[1m      0.0 \u001b[m\u001b[mused.\u001b[m\u001b[m\u001b[1m  27854.1 \u001b[m\u001b[mavail Mem \u001b[m\u001b[m\u001b[m\u001b[m\u001b[K\n",
      "\u001b[K\n",
      "\u001b[7m    PID USER      PR  NI    VIRT    RES    SHR S  %CPU  %MEM     TIME+ COMMAND  \u001b[m\u001b[m\u001b[K\n",
      "\u001b[m   3844 parking   20   0   21.5g 473628  45488 S   6.2   1.4   4:30.06 node     \u001b[m\u001b[m\u001b[K\n",
      "\u001b[m   3999 parking   20   0   22.2g   1.3g  37364 S   6.2   4.2  10:16.49 node     \u001b[m\u001b[m\u001b[K\n",
      "\u001b[m      1 root      20   0  166380  11736   8396 S   0.0   0.0   0:01.25 systemd  \u001b[m\u001b[m\u001b[K\n",
      "\u001b[m      2 root      20   0       0      0      0 S   0.0   0.0   0:00.00 kthreadd \u001b[m\u001b[m\u001b[K\n",
      "\u001b[m      3 root       0 -20       0      0      0 I   0.0   0.0   0:00.00 rcu_gp   \u001b[m\u001b[m\u001b[K\n",
      "\u001b[m      4 root       0 -20       0      0      0 I   0.0   0.0   0:00.00 rcu_par+ \u001b[m\u001b[m\u001b[K\n",
      "\u001b[m      5 root       0 -20       0      0      0 I   0.0   0.0   0:00.00 slub_fl+ \u001b[m\u001b[m\u001b[K\n",
      "\u001b[m      6 root       0 -20       0      0      0 I   0.0   0.0   0:00.00 netns    \u001b[m\u001b[m\u001b[K\n",
      "\u001b[m      8 root       0 -20       0      0      0 I   0.0   0.0   0:00.00 kworker+ \u001b[m\u001b[m\u001b[K\n",
      "\u001b[m     10 root       0 -20       0      0      0 I   0.0   0.0   0:00.00 mm_perc+ \u001b[m\u001b[m\u001b[K\n",
      "\u001b[m     11 root      20   0       0      0      0 S   0.0   0.0   0:00.00 rcu_tas+ \u001b[m\u001b[m\u001b[K\n",
      "\u001b[m     12 root      20   0       0      0      0 S   0.0   0.0   0:00.00 rcu_tas+ \u001b[m\u001b[m\u001b[K\n",
      "\u001b[m     13 root      20   0       0      0      0 S   0.0   0.0   0:00.01 ksoftir+ \u001b[m\u001b[m\u001b[K\n",
      "\u001b[m     14 root      20   0       0      0      0 I   0.0   0.0   0:01.62 rcu_sch+ \u001b[m\u001b[m\u001b[K\n",
      "\u001b[m     15 root      rt   0       0      0      0 S   0.0   0.0   0:00.09 migrati+ \u001b[m\u001b[m\u001b[K\n",
      "\u001b[m     16 root     -51   0       0      0      0 S   0.0   0.0   0:00.00 idle_in+ \u001b[m\u001b[m\u001b[K\n",
      "\u001b[m     18 root      20   0       0      0      0 S   0.0   0.0   0:00.00 cpuhp/0  \u001b[m\u001b[m\u001b[K\u001b[?1l\u001b>\u001b[25;1H\n",
      "\u001b[K"
     ]
    }
   ],
   "source": [
    "!top"
   ]
  },
  {
   "attachments": {},
   "cell_type": "markdown",
   "metadata": {},
   "source": [
    "### 온도 확인"
   ]
  },
  {
   "cell_type": "code",
   "execution_count": 7,
   "metadata": {},
   "outputs": [
    {
     "name": "stdout",
     "output_type": "stream",
     "text": [
      "nvme-pci-0100\n",
      "Adapter: PCI adapter\n",
      "Composite:    +34.9°C  (low  = -273.1°C, high = +76.8°C)\n",
      "                       (crit = +78.8°C)\n",
      "Sensor 1:     +34.9°C  (low  = -273.1°C, high = +65261.8°C)\n",
      "Sensor 2:     +45.9°C  (low  = -273.1°C, high = +65261.8°C)\n",
      "\n",
      "k10temp-pci-00c3\n",
      "Adapter: PCI adapter\n",
      "Tctl:         +58.1°C  \n",
      "Tdie:         +38.1°C  \n",
      "\n"
     ]
    }
   ],
   "source": [
    "!sensors"
   ]
  },
  {
   "cell_type": "code",
   "execution_count": 1,
   "metadata": {},
   "outputs": [
    {
     "name": "stdout",
     "output_type": "stream",
     "text": [
      "\u001b[?1l\u001b>:\u001b[24;26H1.20 V  (min =  +0.00 V, max =  +0.00 V)  ALARM\u001b[7CH(crit = +78.8°C)er: Tue Jun 13 07:37:17 2023\u001b[3;1Hsensors\u001b[6;17H\u001b[7m3\u001b[m.\u001b[7m9\u001b[7;17H3\u001b[m.\u001b[7m9\u001b[24;80H\u001b[m\u001b[1;75H8\u001b[6;17H3.\u001b[7m0\u001b[7;17H\u001b[m3.\u001b[7m0\u001b[14;16H49\u001b[24;80H\u001b[m\u001b[1;75H9\u001b[6;17H\u001b[7m2\u001b[m.0\u001b[7;17H\u001b[7m2\u001b[m.0\u001b[14;16H4\u001b[7m7\u001b[18;24H376\u001b[24;80H\u001b[m\u001b[6;17H\u001b[7m1\u001b[11\u001b[14;17H6\u001b[18;24H\u001b[m376\u001b[24;80H\u001b[1;74H20\u001b[6;17H\u001b[7m0\u001b[10\u001b[14;17H5\u001b[24;80H\u001b[m\u001b[6;16H\u001b[7m59\u001b[m.\u001b[7m1\u001b[7;16H39\u001b[m.\u001b[7m1\u001b[14;17H\u001b[m5\u001b[18;25H\u001b[7m12\u001b[24;80H\u001b[m\u001b[1;75H1\u001b[6;16H5\u001b[7m8\u001b[m.1\u001b[7;16H3\u001b[7m8\u001b[m.1\u001b[18;25H12\u001b[24;80H\u001b[1;75H2\u001b[6;17H\u001b[7m7\u001b[17\u001b[24;80H\u001b[m\u001b[6;16H\u001b[7m66\u001b[m.\u001b[7m0\u001b[7;16H46\u001b[m.\u001b[7m0\u001b[18;24H728\u001b[24;80H\u001b[m\u001b[1;75H3\u001b[6;16H6\u001b[7m5\u001b[m.0\u001b[7;16H4\u001b[7m5\u001b[m.0\u001b[18;24H728\u001b[24;80H\u001b[1;75H4\u001b[6;17H\u001b[7m4\u001b[m.\u001b[7m1\u001b[7;17H4\u001b[m.\u001b[7m1\u001b[24;80H\u001b[m\u001b[6;17H\u001b[7m3\u001b[m.1\u001b[7;17H\u001b[7m3\u001b[m.1\u001b[14;17H\u001b[7m4\u001b[18;24H192\u001b[24;80H\u001b[m\u001b[1;75H5\u001b[6;17H\u001b[7m2\u001b[12\u001b[14;17H3\u001b[18;24H\u001b[m192\u001b[24;80H\u001b[6;17H\u001b[7m1\u001b[11\u001b[14;17H\u001b[m3\u001b[24;80H\u001b[24;1H\u001b[2J\u001b[?47l\u001b8"
     ]
    }
   ],
   "source": [
    "\n",
    "!watch -d -n 0.5 'echo sensors;sensors; echo free;free -m; echo nvidia;nvidia-smi'"
   ]
  }
 ],
 "metadata": {
  "kernelspec": {
   "display_name": "ml",
   "language": "python",
   "name": "python3"
  },
  "language_info": {
   "codemirror_mode": {
    "name": "ipython",
    "version": 3
   },
   "file_extension": ".py",
   "mimetype": "text/x-python",
   "name": "python",
   "nbconvert_exporter": "python",
   "pygments_lexer": "ipython3",
   "version": "3.10.11"
  },
  "orig_nbformat": 4
 },
 "nbformat": 4,
 "nbformat_minor": 2
}
