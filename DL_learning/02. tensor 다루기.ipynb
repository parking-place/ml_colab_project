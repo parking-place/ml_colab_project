{
 "cells": [
  {
   "attachments": {},
   "cell_type": "markdown",
   "id": "84c0614b",
   "metadata": {},
   "source": [
    "# Tensor 생성"
   ]
  },
  {
   "attachments": {},
   "cell_type": "markdown",
   "id": "06d118ec",
   "metadata": {},
   "source": [
    "##  원하는 형태(shape) 텐서 생성\n",
    "- **torch.tensor(자료구조)**\n",
    "## 특정 타입의 Tensor 생성\n",
    "- **torch.FloatTensor(자료구조)**\n",
    "    - float 타입 텐서 생성\n",
    "- **torch.longTensor(자료구조)** \n",
    "    - int 타입 텐서생성\n",
    "    \n",
    "## tensor 상태 조회\n",
    "- **tensor.shape, tensor.size()**: tensor의 shape조회\n",
    "- **tensor.dtype, tensor.type()**: tensor 원소들의 데이터타입 조회\n",
    "- **tensor.ndim, tensor.dim()**  : tensor 차원\n",
    "- **tensor.numel()**: 전체 원소 개수\n"
   ]
  },
  {
   "cell_type": "code",
   "execution_count": 1,
   "id": "8f81163c",
   "metadata": {},
   "outputs": [],
   "source": [
    "import torch"
   ]
  },
  {
   "cell_type": "code",
   "execution_count": 2,
   "id": "a8ff39c7",
   "metadata": {},
   "outputs": [
    {
     "name": "stdout",
     "output_type": "stream",
     "text": [
      "hi\n"
     ]
    }
   ],
   "source": [
    "print('hi')"
   ]
  },
  {
   "cell_type": "code",
   "execution_count": 3,
   "id": "9869060a",
   "metadata": {},
   "outputs": [
    {
     "name": "stdout",
     "output_type": "stream",
     "text": [
      "shape: torch.Size([2, 2]) torch.Size([2, 2])\n",
      "축별 크기: 2 2\n",
      "type: torch.FloatTensor torch.float32\n",
      "차원크기: 2 2\n",
      "원소개수: 4\n"
     ]
    }
   ],
   "source": [
    "a = torch.tensor([[1,2],[3,4]], dtype=torch.float32)\n",
    "print(\"shape:\", a.shape, a.size())\n",
    "print(\"축별 크기:\", a.shape[0], a.size(0))\n",
    "print(\"type:\", a.type(), a.dtype)\n",
    "print('차원크기:', a.dim(), a.ndim)\n",
    "print('원소개수:', a.numel())"
   ]
  },
  {
   "cell_type": "code",
   "execution_count": 7,
   "id": "27f077a1",
   "metadata": {},
   "outputs": [
    {
     "data": {
      "text/plain": [
       "tensor([0, 1, 2, 3, 4, 5, 6, 7, 8, 9])"
      ]
     },
     "execution_count": 7,
     "metadata": {},
     "output_type": "execute_result"
    }
   ],
   "source": [
    "torch.tensor(range(10))"
   ]
  },
  {
   "cell_type": "code",
   "execution_count": 65,
   "id": "c6d03728",
   "metadata": {},
   "outputs": [
    {
     "name": "stdout",
     "output_type": "stream",
     "text": [
      "type: torch.DoubleTensor torch.float64\n"
     ]
    }
   ],
   "source": [
    "a2 = torch.tensor(range(10), dtype=torch.float64)\n",
    "print('type:', a2.type(), a2.dtype)"
   ]
  },
  {
   "cell_type": "code",
   "execution_count": 8,
   "id": "e40a7f96",
   "metadata": {},
   "outputs": [
    {
     "name": "stdout",
     "output_type": "stream",
     "text": [
      "torch.float32\n",
      "torch.int64\n"
     ]
    }
   ],
   "source": [
    "#Float/Long(실수, 정수) type Tensor\n",
    "b = torch.FloatTensor([1,3,7])  #float32\n",
    "print(b.dtype)\n",
    "c = torch.LongTensor([10,20,30]) # int64\n",
    "print(c.dtype)"
   ]
  },
  {
   "attachments": {},
   "cell_type": "markdown",
   "id": "b57bc602",
   "metadata": {},
   "source": [
    "## 특정 값으로 구성된 Tensor 생성\n",
    "- **torch.zeros(), zeros_like()**: 0으로 구성된 tensor 생성\n",
    "- **torch.ones(), ones_like()**: 1로 구성된 tensor생성\n",
    "- **torch.full(), full_like**: 지정한 값으로 구성된 tensor생성\n",
    "    "
   ]
  },
  {
   "cell_type": "code",
   "execution_count": 9,
   "id": "801e4ffc",
   "metadata": {
    "scrolled": true
   },
   "outputs": [
    {
     "data": {
      "text/plain": [
       "tensor([[[0., 0., 0.],\n",
       "         [0., 0., 0.]],\n",
       "\n",
       "        [[0., 0., 0.],\n",
       "         [0., 0., 0.]],\n",
       "\n",
       "        [[0., 0., 0.],\n",
       "         [0., 0., 0.]]])"
      ]
     },
     "execution_count": 9,
     "metadata": {},
     "output_type": "execute_result"
    }
   ],
   "source": [
    "torch.zeros(3,2,3)\n",
    "# torch.ones(2,3)\n",
    "# torch.full((3,2), fill_value=100)\n"
   ]
  },
  {
   "cell_type": "code",
   "execution_count": 10,
   "id": "1697cfd6",
   "metadata": {},
   "outputs": [
    {
     "name": "stdout",
     "output_type": "stream",
     "text": [
      "torch.Size([2, 2])\n"
     ]
    },
    {
     "data": {
      "text/plain": [
       "torch.Size([2, 2])"
      ]
     },
     "execution_count": 10,
     "metadata": {},
     "output_type": "execute_result"
    }
   ],
   "source": [
    "a = torch.tensor([[1, 2],[3,4]])\n",
    "print(a.shape)\n",
    "b = torch.zeros_like(a)\n",
    "# b = torch.ones_like(a)\n",
    "# b = torch.full_like(a, 20)\n",
    "b.shape"
   ]
  },
  {
   "attachments": {},
   "cell_type": "markdown",
   "id": "01301e5c",
   "metadata": {},
   "source": [
    "## 동일한 간격으로 떨어진 값들로 구성된 배열생성\n",
    "- **torch.linspace()**\n",
    "- **torch.arange()**"
   ]
  },
  {
   "cell_type": "code",
   "execution_count": 67,
   "id": "f9b9fd1b",
   "metadata": {},
   "outputs": [
    {
     "data": {
      "text/plain": [
       "tensor([10,  9,  8,  7,  6,  5,  4,  3,  2])"
      ]
     },
     "execution_count": 67,
     "metadata": {},
     "output_type": "execute_result"
    }
   ],
   "source": [
    "# torch.arange(10)\n",
    "# torch.arange(0, 1, 0.1)\n",
    "torch.arange(10, 1, -1)"
   ]
  },
  {
   "cell_type": "code",
   "execution_count": 12,
   "id": "afa883dd",
   "metadata": {},
   "outputs": [
    {
     "data": {
      "text/plain": [
       "tensor([ 0.0000,  2.5000,  5.0000,  7.5000, 10.0000])"
      ]
     },
     "execution_count": 12,
     "metadata": {},
     "output_type": "execute_result"
    }
   ],
   "source": [
    "torch.linspace(0, 10, 5)\n",
    "# torch.linspace(0, 1, 11)\n"
   ]
  },
  {
   "attachments": {},
   "cell_type": "markdown",
   "id": "f2bd2a03",
   "metadata": {},
   "source": [
    "## 빈 tensor 생성\n",
    "- **torch.empty()**"
   ]
  },
  {
   "cell_type": "code",
   "execution_count": 13,
   "id": "f9a865f4",
   "metadata": {},
   "outputs": [
    {
     "data": {
      "text/plain": [
       "tensor([[1.9215e-34, 0.0000e+00],\n",
       "        [1.9211e-34, 0.0000e+00],\n",
       "        [0.0000e+00, 0.0000e+00]])"
      ]
     },
     "execution_count": 13,
     "metadata": {},
     "output_type": "execute_result"
    }
   ],
   "source": [
    "torch.empty((3,2))"
   ]
  },
  {
   "attachments": {},
   "cell_type": "markdown",
   "id": "6ec59585",
   "metadata": {},
   "source": [
    "## 난수를 이용한 생성\n",
    "\n",
    "- **torch.rand()**: 0 ~ 1사이 실수로 구성된 배열을 생성. 각 값은 균등분포를 따른다.\n",
    "- **torch.randn()**: 표준정규분포(평균:0, 표준편차:1)를 따르는 실수로 구성된 배열 생성\n",
    "- **torch.randint()**: 지정한 범위의 정수로 구성된 배열 생성\n",
    "- **torch.randperm(n)**: 0 ~ n 사이의 정수를 섞은 값을 원소로 가지는 배열 생성"
   ]
  },
  {
   "cell_type": "code",
   "execution_count": 71,
   "id": "def1448b",
   "metadata": {},
   "outputs": [
    {
     "data": {
      "text/plain": [
       "tensor([[-0.6345, -0.1462, -0.1406, -0.2666],\n",
       "        [-0.8307,  0.1198, -2.1087, -0.7709],\n",
       "        [ 0.0675, -0.0102,  0.3949,  1.8961],\n",
       "        [-0.2829,  1.0345,  0.0224, -0.5187]])"
      ]
     },
     "execution_count": 71,
     "metadata": {},
     "output_type": "execute_result"
    }
   ],
   "source": [
    "torch.manual_seed(1004)  # seed 설정\n",
    "torch.rand(100)                 # 0~1 사이의 균일분포, (행, 열)\n",
    "torch.randn(4,4)                # (행, 열)\n",
    "# torch.randint(1, 10, (3,3))   # 1~10 사이의 균일분포 정수, (행, 열)\n",
    "# torch.randperm(5)             # 0~4 까지의 랜덤한 순열"
   ]
  },
  {
   "attachments": {},
   "cell_type": "markdown",
   "id": "eb9df51a",
   "metadata": {},
   "source": [
    "## tensor를 상수로 변환\n",
    "- tensor.item()\n",
    "    - 상수 tensor를 python 상수로 변환"
   ]
  },
  {
   "cell_type": "code",
   "execution_count": 15,
   "id": "9e24dc70",
   "metadata": {
    "scrolled": true
   },
   "outputs": [
    {
     "name": "stdout",
     "output_type": "stream",
     "text": [
      "tensor(10)\n",
      "10\n"
     ]
    }
   ],
   "source": [
    "a = torch.tensor(10)\n",
    "print(a)\n",
    "print(a.item())"
   ]
  },
  {
   "cell_type": "code",
   "execution_count": 16,
   "id": "d62c3168",
   "metadata": {},
   "outputs": [
    {
     "name": "stdout",
     "output_type": "stream",
     "text": [
      "tensor([20])\n",
      "20\n"
     ]
    }
   ],
   "source": [
    "b = torch.tensor([20])\n",
    "print(b)\n",
    "print(b.item()) #원소가 하나인 배열 변환 가능"
   ]
  },
  {
   "cell_type": "code",
   "execution_count": 17,
   "id": "cefb6f7b",
   "metadata": {
    "scrolled": true
   },
   "outputs": [
    {
     "name": "stdout",
     "output_type": "stream",
     "text": [
      "tensor([  1,  10, 100])\n"
     ]
    }
   ],
   "source": [
    "c = torch.tensor([1, 10, 100])\n",
    "print(c)\n",
    "# print(c.item()) #원소가 여러개일 경우 Exception발생"
   ]
  },
  {
   "cell_type": "code",
   "execution_count": 18,
   "id": "06f1ae95",
   "metadata": {},
   "outputs": [
    {
     "name": "stdout",
     "output_type": "stream",
     "text": [
      "tensor([10], device='cuda:0')\n",
      "10\n"
     ]
    }
   ],
   "source": [
    "d = torch.tensor([10], device='cuda')\n",
    "print(d)\n",
    "print(d.item())"
   ]
  },
  {
   "cell_type": "code",
   "execution_count": null,
   "id": "be9b1084",
   "metadata": {},
   "outputs": [],
   "source": [
    "# 텐서 ram -> vram\n",
    "a = torch.tensor([1,2,3])\n",
    "a.to('cuda')\n",
    "# a.to('cuda:0')\n",
    "# 텐서 vram -> ram\n",
    "a.cpu()\n",
    "# a.to('cpu')"
   ]
  },
  {
   "attachments": {},
   "cell_type": "markdown",
   "id": "a8709f0b",
   "metadata": {},
   "source": [
    "## ndarray 호환\n",
    "\n",
    "- ndarray를 tensor로 생성\n",
    "    - **torch.tensor(ndarray)**\n",
    "    - **torch.from_numpy(ndarray)**\n",
    "- tensor를 ndarray로 변환\n",
    "    - **ndarray.numpy()**\n",
    "    - tensor가 gpu에 있을 경우 cpu로 옮긴 뒤 변환해야 한다."
   ]
  },
  {
   "cell_type": "code",
   "execution_count": 4,
   "id": "ff396b21",
   "metadata": {},
   "outputs": [],
   "source": [
    "import numpy as np\n",
    "import torch"
   ]
  },
  {
   "cell_type": "code",
   "execution_count": 20,
   "id": "2c1d1b90",
   "metadata": {},
   "outputs": [
    {
     "data": {
      "text/plain": [
       "tensor([1, 2, 3, 4, 5, 6, 7, 8, 9])"
      ]
     },
     "execution_count": 20,
     "metadata": {},
     "output_type": "execute_result"
    }
   ],
   "source": [
    "# ndarray -> tensor\n",
    "arr = np.arange(1,10)\n",
    "\n",
    "torch.tensor(arr)\n",
    "torch.from_numpy(arr)"
   ]
  },
  {
   "cell_type": "code",
   "execution_count": 21,
   "id": "4a5fa181",
   "metadata": {},
   "outputs": [
    {
     "name": "stdout",
     "output_type": "stream",
     "text": [
      "tensor([[ 0.0444,  0.5274,  0.0708],\n",
      "        [-1.1345, -0.7744, -1.5946],\n",
      "        [-2.0639,  0.9306,  1.0121]])\n"
     ]
    },
    {
     "data": {
      "text/plain": [
       "array([[ 0.04439625,  0.5274427 ,  0.07080834],\n",
       "       [-1.1344635 , -0.7743912 , -1.5945598 ],\n",
       "       [-2.0638611 ,  0.930639  ,  1.0120598 ]], dtype=float32)"
      ]
     },
     "execution_count": 21,
     "metadata": {},
     "output_type": "execute_result"
    }
   ],
   "source": [
    "# tensor -> ndarray\n",
    "t = torch.randn(3,3)\n",
    "print(t)\n",
    "t.numpy()"
   ]
  },
  {
   "cell_type": "code",
   "execution_count": 8,
   "id": "d85bf50c",
   "metadata": {},
   "outputs": [
    {
     "data": {
      "text/plain": [
       "tensor([[ 0.4723, -0.1650],\n",
       "        [-0.1920,  1.0036]], device='cuda:0')"
      ]
     },
     "execution_count": 8,
     "metadata": {},
     "output_type": "execute_result"
    }
   ],
   "source": [
    "t2 = torch.randn(2,2, device=\"cuda\")\n",
    "t2"
   ]
  },
  {
   "cell_type": "code",
   "execution_count": 9,
   "id": "28c9d47a",
   "metadata": {
    "scrolled": true
   },
   "outputs": [
    {
     "ename": "TypeError",
     "evalue": "can't convert cuda:0 device type tensor to numpy. Use Tensor.cpu() to copy the tensor to host memory first.",
     "output_type": "error",
     "traceback": [
      "\u001b[0;31m---------------------------------------------------------------------------\u001b[0m",
      "\u001b[0;31mTypeError\u001b[0m                                 Traceback (most recent call last)",
      "\u001b[0;32m<ipython-input-9-5a74c2f0f246>\u001b[0m in \u001b[0;36m<cell line: 1>\u001b[0;34m()\u001b[0m\n\u001b[0;32m----> 1\u001b[0;31m \u001b[0mt2\u001b[0m\u001b[0;34m.\u001b[0m\u001b[0mnumpy\u001b[0m\u001b[0;34m(\u001b[0m\u001b[0;34m)\u001b[0m\u001b[0;34m\u001b[0m\u001b[0;34m\u001b[0m\u001b[0m\n\u001b[0m\u001b[1;32m      2\u001b[0m \u001b[0;31m# t2.to(\"cpu\").numpy()\u001b[0m\u001b[0;34m\u001b[0m\u001b[0;34m\u001b[0m\u001b[0m\n",
      "\u001b[0;31mTypeError\u001b[0m: can't convert cuda:0 device type tensor to numpy. Use Tensor.cpu() to copy the tensor to host memory first."
     ]
    }
   ],
   "source": [
    "t2.numpy() \n",
    "# t2.to(\"cpu\").numpy()"
   ]
  },
  {
   "cell_type": "code",
   "execution_count": 10,
   "id": "8a6777b2",
   "metadata": {},
   "outputs": [
    {
     "data": {
      "text/plain": [
       "array([[ 0.47229606, -0.1650249 ],\n",
       "       [-0.1919779 ,  1.0035707 ]], dtype=float32)"
      ]
     },
     "execution_count": 10,
     "metadata": {},
     "output_type": "execute_result"
    }
   ],
   "source": [
    "t2.cpu().numpy()"
   ]
  },
  {
   "cell_type": "code",
   "execution_count": 11,
   "id": "640fc82f",
   "metadata": {},
   "outputs": [
    {
     "data": {
      "text/plain": [
       "array([[ 0.47229606, -0.1650249 ],\n",
       "       [-0.1919779 ,  1.0035707 ]], dtype=float32)"
      ]
     },
     "execution_count": 11,
     "metadata": {},
     "output_type": "execute_result"
    }
   ],
   "source": [
    "t2.to(\"cpu\").numpy()"
   ]
  },
  {
   "attachments": {},
   "cell_type": "markdown",
   "id": "d8494a6a",
   "metadata": {},
   "source": [
    "## Tensor gpu/cpu 메모리로 옮기기\n",
    "\n",
    "- pytorch는 데이터셋인 tensor를 cpu메모리와 gpu 메모리로 옮길 수 있다.\n",
    "    - 데이터에 대한 연산처리를 어디서 하느냐에 따라 메모리를 선택한다.\n",
    "    - 장치는 문자열로 설정한다.\n",
    "        - CPU 사용: \"cpu\"\n",
    "        - nvida GPU: \"cuda\"\n",
    "        - Apple m1: \"mps\"\n",
    "            - pytorch 1.12 부터 지원\n",
    "- 옮기기\n",
    "    - tensor 생성시 `device` 파라미터를 이용해 설정\n",
    "    - `tensor.to(device)`를 이용해 설정\n",
    "- 현재 실행환경에서 어떤 장비를 사용할 수 있는지 확인\n",
    "    - nvidia gpu 사용가능확인\n",
    "        - `torch.cuda.is_available()` - nvida gpu 사용가능 여부\n",
    "        - `torch.backends.mps.is_available()` - M1 사용가능 여부"
   ]
  },
  {
   "cell_type": "code",
   "execution_count": 13,
   "id": "58ea8035",
   "metadata": {},
   "outputs": [
    {
     "name": "stdout",
     "output_type": "stream",
     "text": [
      "Thu Jun  1 05:30:06 2023       \n",
      "+-----------------------------------------------------------------------------+\n",
      "| NVIDIA-SMI 525.85.12    Driver Version: 525.85.12    CUDA Version: 12.0     |\n",
      "|-------------------------------+----------------------+----------------------+\n",
      "| GPU  Name        Persistence-M| Bus-Id        Disp.A | Volatile Uncorr. ECC |\n",
      "| Fan  Temp  Perf  Pwr:Usage/Cap|         Memory-Usage | GPU-Util  Compute M. |\n",
      "|                               |                      |               MIG M. |\n",
      "|===============================+======================+======================|\n",
      "|   0  Tesla T4            Off  | 00000000:00:04.0 Off |                    0 |\n",
      "| N/A   54C    P0    29W /  70W |    121MiB / 15360MiB |      0%      Default |\n",
      "|                               |                      |                  N/A |\n",
      "+-------------------------------+----------------------+----------------------+\n",
      "                                                                               \n",
      "+-----------------------------------------------------------------------------+\n",
      "| Processes:                                                                  |\n",
      "|  GPU   GI   CI        PID   Type   Process name                  GPU Memory |\n",
      "|        ID   ID                                                   Usage      |\n",
      "|=============================================================================|\n",
      "+-----------------------------------------------------------------------------+\n"
     ]
    }
   ],
   "source": [
    "!nvidia-smi"
   ]
  },
  {
   "cell_type": "code",
   "execution_count": 20,
   "id": "52e80174",
   "metadata": {},
   "outputs": [
    {
     "data": {
      "text/plain": [
       "True"
      ]
     },
     "execution_count": 20,
     "metadata": {},
     "output_type": "execute_result"
    }
   ],
   "source": [
    "# cuda 환경 확인 -> rocm도 cuda호환됨.\n",
    "torch.cuda.is_available()"
   ]
  },
  {
   "cell_type": "code",
   "execution_count": 21,
   "id": "c62a158c",
   "metadata": {},
   "outputs": [
    {
     "data": {
      "text/plain": [
       "False"
      ]
     },
     "execution_count": 21,
     "metadata": {},
     "output_type": "execute_result"
    }
   ],
   "source": [
    "# apple m1 환경 확인\n",
    "torch.backends.mps.is_available()"
   ]
  },
  {
   "cell_type": "code",
   "execution_count": 12,
   "id": "9bf69bd8",
   "metadata": {},
   "outputs": [
    {
     "data": {
      "application/vnd.google.colaboratory.intrinsic+json": {
       "type": "string"
      },
      "text/plain": [
       "'cuda'"
      ]
     },
     "execution_count": 12,
     "metadata": {},
     "output_type": "execute_result"
    }
   ],
   "source": [
    "device = 'cuda' if torch.cuda.is_available() else 'mps' if torch.backends.mps.is_available() else 'cpu'\n",
    "device"
   ]
  },
  {
   "cell_type": "code",
   "execution_count": 18,
   "id": "92ffadca",
   "metadata": {},
   "outputs": [
    {
     "data": {
      "text/plain": [
       "device(type='cuda', index=0)"
      ]
     },
     "execution_count": 18,
     "metadata": {},
     "output_type": "execute_result"
    }
   ],
   "source": [
    "t = torch.tensor([1, 2, 3], dtype=torch.float32, device=device)\n",
    "t.device"
   ]
  },
  {
   "cell_type": "code",
   "execution_count": 17,
   "id": "c827f315",
   "metadata": {},
   "outputs": [
    {
     "data": {
      "text/plain": [
       "device(type='cpu')"
      ]
     },
     "execution_count": 17,
     "metadata": {},
     "output_type": "execute_result"
    }
   ],
   "source": [
    "t2 = t.to(\"cpu\")\n",
    "t2.device"
   ]
  },
  {
   "cell_type": "code",
   "execution_count": 19,
   "id": "25e95ccb",
   "metadata": {},
   "outputs": [
    {
     "data": {
      "text/plain": [
       "array([1., 2., 3.], dtype=float32)"
      ]
     },
     "execution_count": 19,
     "metadata": {},
     "output_type": "execute_result"
    }
   ],
   "source": [
    "t2.numpy()"
   ]
  },
  {
   "attachments": {},
   "cell_type": "markdown",
   "id": "f10f4911",
   "metadata": {},
   "source": [
    "# 원소 조회및 변경 - indexing/slicing\n",
    "\n",
    "- 대부분 Numpy 와 동일\n",
    "    - slicing에서 step을 음수로 지정할 수 없다.\n"
   ]
  },
  {
   "cell_type": "code",
   "execution_count": 29,
   "id": "2300078c",
   "metadata": {},
   "outputs": [
    {
     "data": {
      "text/plain": [
       "tensor([ -4,   4,  -9,   9,  -4,  -9,  -3,  -3,   4,  -9,  -2,  -9,   1,   2,\n",
       "          6,  -9,   5,  -9,   1,  -4,  -9,   1,   5,  -1,  -8,  -2,  -5,  -6,\n",
       "          3,  -3,   4, -10,   0,  -2,  -4,   0,  -8,   4,  -6,   9,  -8,  -2,\n",
       "          8,   9,  -7,   0,  -2,   6,  -3,   6,   5, -10,   7,  -6,   3,   7,\n",
       "          6,   7,   2,   1,  -2,   0,   6,   9,  -9,   0,  -8,  -6,  -8,  -2,\n",
       "          6,  -2,  -4,   4,  -4,   5,   4, -10,  -9,  -4,   0,  -3,   5,   2,\n",
       "         -2,  -1,   2,   5,  -5, -10,  -2,  -5,   5,   1, -10,   1,  -8,   1,\n",
       "         -7,   2])"
      ]
     },
     "execution_count": 29,
     "metadata": {},
     "output_type": "execute_result"
    }
   ],
   "source": [
    "t = torch.randint(-10, 10, (100, ))\n",
    "t"
   ]
  },
  {
   "cell_type": "code",
   "execution_count": 30,
   "id": "a28537ed",
   "metadata": {},
   "outputs": [
    {
     "data": {
      "text/plain": [
       "(tensor(-4), tensor([ 4, -9,  2]))"
      ]
     },
     "execution_count": 30,
     "metadata": {},
     "output_type": "execute_result"
    }
   ],
   "source": [
    "t[0], t[[1, 5, -1]]"
   ]
  },
  {
   "cell_type": "code",
   "execution_count": 31,
   "id": "73763041",
   "metadata": {},
   "outputs": [
    {
     "data": {
      "text/plain": [
       "tensor([-9, -3, -9,  9,  4])"
      ]
     },
     "execution_count": 31,
     "metadata": {},
     "output_type": "execute_result"
    }
   ],
   "source": [
    "t[:5]\n",
    "t[10:15]\n",
    "t[90:]\n",
    "t[3:30:3]\n",
    "# t[10:1:-2]  #에러\n",
    "t[1:10:2].flip(dims=(0,))#reverse"
   ]
  },
  {
   "cell_type": "code",
   "execution_count": 32,
   "id": "81965586",
   "metadata": {},
   "outputs": [
    {
     "data": {
      "text/plain": [
       "tensor([4, 9, 4, 1, 2, 6, 5, 1, 1, 5, 3, 4, 4, 9, 8, 9, 6, 6, 5, 7, 3, 7, 6, 7,\n",
       "        2, 1, 6, 9, 6, 4, 5, 4, 5, 2, 2, 5, 5, 1, 1, 1, 2])"
      ]
     },
     "execution_count": 32,
     "metadata": {},
     "output_type": "execute_result"
    }
   ],
   "source": [
    "# boolean index\n",
    "t[t > 0]"
   ]
  },
  {
   "cell_type": "code",
   "execution_count": 33,
   "id": "03a01027",
   "metadata": {},
   "outputs": [
    {
     "data": {
      "text/plain": [
       "tensor([100,   4,  -9,   9,  -4,  -9,  -3,  -3,   4,  -9,  -2,  -9,   1,   2,\n",
       "          6,  -9,   5,  -9,   1,  -4,  -9,   1,   5,  -1,  -8,  -2,  -5,  -6,\n",
       "          3,  -3,   4, -10,   0,  -2,  -4,   0,  -8,   4,  -6,   9,  -8,  -2,\n",
       "          8,   9,  -7,   0,  -2,   6,  -3,   6,   5, -10,   7,  -6,   3,   7,\n",
       "          6,   7,   2,   1,  -2,   0,   6,   9,  -9,   0,  -8,  -6,  -8,  -2,\n",
       "          6,  -2,  -4,   4,  -4,   5,   4, -10,  -9,  -4,   0,  -3,   5,   2,\n",
       "         -2,  -1,   2,   5,  -5, -10,  -2,  -5,   5,   1, -10,   1,  -8,   1,\n",
       "         -7,   2])"
      ]
     },
     "execution_count": 33,
     "metadata": {},
     "output_type": "execute_result"
    }
   ],
   "source": [
    "# 변경\n",
    "t[0] = 100\n",
    "t"
   ]
  },
  {
   "cell_type": "code",
   "execution_count": 34,
   "id": "49419f63",
   "metadata": {},
   "outputs": [
    {
     "data": {
      "text/plain": [
       "tensor([[1, 2, 3],\n",
       "        [4, 5, 6],\n",
       "        [7, 8, 9]])"
      ]
     },
     "execution_count": 34,
     "metadata": {},
     "output_type": "execute_result"
    }
   ],
   "source": [
    "t = torch.arange(1, 10).reshape(3,3)\n",
    "t"
   ]
  },
  {
   "cell_type": "code",
   "execution_count": 35,
   "id": "15855bcf",
   "metadata": {},
   "outputs": [
    {
     "data": {
      "text/plain": [
       "tensor([6, 3])"
      ]
     },
     "execution_count": 35,
     "metadata": {},
     "output_type": "execute_result"
    }
   ],
   "source": [
    "t[[1,0], [2,2]]  #(1,2), (0,2)"
   ]
  },
  {
   "cell_type": "code",
   "execution_count": null,
   "id": "e3b3d582",
   "metadata": {},
   "outputs": [],
   "source": []
  },
  {
   "attachments": {},
   "cell_type": "markdown",
   "id": "a02f14d8",
   "metadata": {},
   "source": [
    "# Reshape"
   ]
  },
  {
   "attachments": {},
   "cell_type": "markdown",
   "id": "221e70f8",
   "metadata": {},
   "source": [
    "## shape 변경\n",
    "- reshape() / view() 이용\n",
    "    - 변환 후 값을 변경하면 원본 배열의 값도 같이 바뀐다.\n",
    " > tensor.clone(): tensor를 복제한다."
   ]
  },
  {
   "cell_type": "code",
   "execution_count": 36,
   "id": "71f88268",
   "metadata": {},
   "outputs": [
    {
     "name": "stdout",
     "output_type": "stream",
     "text": [
      "torch.Size([12]) torch.Size([3, 4]) torch.Size([3, 2, 2]) torch.Size([3, 2, 2])\n"
     ]
    }
   ],
   "source": [
    "a=torch.rand(12)\n",
    "a2 = a.reshape(3,4)\n",
    "a3 = a.reshape((3,2,2))\n",
    "a4 = a.reshape((3,2,-1))  #한개 axis는 -1로 설정가능\n",
    "print(a.shape, a2.size(), a3.shape, a4.shape)\n",
    "               "
   ]
  },
  {
   "cell_type": "code",
   "execution_count": 37,
   "id": "6744974f",
   "metadata": {},
   "outputs": [
    {
     "name": "stdout",
     "output_type": "stream",
     "text": [
      "torch.Size([12]) torch.Size([3, 4]) torch.Size([3, 2, 2]) torch.Size([3, 2, 2])\n"
     ]
    }
   ],
   "source": [
    "a5 = a.view(3,4)\n",
    "a6 = a.view((3,2,2))\n",
    "a7 = a.view((3,2,-1))  #한개 axis는 -1로 설정가능\n",
    "print(a.shape, a5.size(), a6.shape, a7.shape)"
   ]
  },
  {
   "cell_type": "code",
   "execution_count": 38,
   "id": "82f850ef",
   "metadata": {},
   "outputs": [
    {
     "data": {
      "text/plain": [
       "tensor([0.5081, 0.7115, 0.1617, 0.7022, 0.1623, 0.5625, 0.9652, 0.3692, 0.9346,\n",
       "        0.9708, 0.7656, 0.9052])"
      ]
     },
     "execution_count": 38,
     "metadata": {},
     "output_type": "execute_result"
    }
   ],
   "source": [
    "a"
   ]
  },
  {
   "cell_type": "code",
   "execution_count": 39,
   "id": "8ace33cf",
   "metadata": {},
   "outputs": [
    {
     "name": "stdout",
     "output_type": "stream",
     "text": [
      "tensor([12.1000, 15.1000,  0.1617,  0.7022,  0.1623,  0.5625,  0.9652,  0.3692,\n",
      "         0.9346,  0.9708,  0.7656,  0.9052])\n"
     ]
    }
   ],
   "source": [
    "a5[0, 0] = 12.1\n",
    "a2[0, 1] = 15.1\n",
    "\n",
    "print(a)"
   ]
  },
  {
   "cell_type": "code",
   "execution_count": 40,
   "id": "88561ee6",
   "metadata": {
    "scrolled": false
   },
   "outputs": [
    {
     "name": "stdout",
     "output_type": "stream",
     "text": [
      "tensor([12.1000, 15.1000,  0.1617,  0.7022,  0.1623,  0.5625,  0.9652,  0.3692,\n",
      "         0.9346,  0.9708,  0.7656,  0.9052])\n"
     ]
    }
   ],
   "source": [
    "# tensor복사: clone() 메소드\n",
    "r = a.clone().reshape(3,4)\n",
    "r[0,0] = 100.1\n",
    "print(a)"
   ]
  },
  {
   "attachments": {},
   "cell_type": "markdown",
   "id": "fa8c2fa4",
   "metadata": {},
   "source": [
    "## dummy 축 늘리기\n",
    "\n",
    "- None을 이용\n",
    "- unsqueeze()"
   ]
  },
  {
   "cell_type": "code",
   "execution_count": 41,
   "id": "356a078c",
   "metadata": {},
   "outputs": [
    {
     "name": "stdout",
     "output_type": "stream",
     "text": [
      "torch.Size([2, 2])\n"
     ]
    }
   ],
   "source": [
    "import torch\n",
    "a = torch.tensor([[10,20],[10,20]])\n",
    "print(a.shape)\n",
    "\n",
    "# a1, a2 = a[None, :], torch.unsqueeze(a, dim=0)\n",
    "# print(a1.shape, a2.shape)\n",
    "\n",
    "# a3, a4 = a[:, :, None], torch.unsqueeze(a, dim=-1)  #None 사용시 모든 축에 :를 붙인다.\n",
    "# print(a3.shape, a4.shape)\n",
    "\n",
    "# a5, a6 = a3[:,None,:,:], torch.unsqueeze(a3, dim=1)\n",
    "# print(a5.shape, a6.shape)"
   ]
  },
  {
   "attachments": {},
   "cell_type": "markdown",
   "id": "9947b6ac",
   "metadata": {},
   "source": [
    "## dummy 축 제거\n",
    "- `squeeze()` 이용"
   ]
  },
  {
   "cell_type": "code",
   "execution_count": 42,
   "id": "4e40b9cf",
   "metadata": {},
   "outputs": [
    {
     "name": "stdout",
     "output_type": "stream",
     "text": [
      "torch.Size([3, 1, 3, 1])\n"
     ]
    }
   ],
   "source": [
    "t = torch.rand(3, 1, 3, 1)\n",
    "print(t.shape)\n",
    "\n",
    "# r1 = t.squeeze()  #모두 제거\n",
    "# print(r1.shape)\n",
    "\n",
    "# r2 = t.squeeze(dim=1) # 특정 axis 제거\n",
    "# print(r2.shape)\n",
    "\n",
    "# r3 = t.squeeze(dim=[1,3]) # 여러 axis의 dummy 축 제거\n",
    "# print(r3.shape)"
   ]
  },
  {
   "attachments": {},
   "cell_type": "markdown",
   "id": "b3018717",
   "metadata": {},
   "source": [
    "## tensor 합치기\n",
    "torch.cat([tensorA, tensorB, ...], dim=0)"
   ]
  },
  {
   "cell_type": "code",
   "execution_count": 43,
   "id": "7564c2b5",
   "metadata": {},
   "outputs": [
    {
     "name": "stdout",
     "output_type": "stream",
     "text": [
      "tensor([[0, 1, 2, 3, 4],\n",
      "        [5, 6, 7, 8, 9]])\n",
      "tensor([[10, 11, 12, 13, 14],\n",
      "        [15, 16, 17, 18, 19]])\n",
      "tensor([[20, 21, 22, 23, 24],\n",
      "        [25, 26, 27, 28, 29]])\n",
      "tensor([[10, 11, 12],\n",
      "        [13, 14, 15],\n",
      "        [16, 17, 18]])\n"
     ]
    }
   ],
   "source": [
    "a = torch.arange(10).reshape(2,5)\n",
    "b = torch.arange(10,20).reshape(2,5)\n",
    "c = torch.arange(20,30).reshape(2,5)\n",
    "d = torch.arange(10,19).reshape(3,3)\n",
    "print(a)\n",
    "print(b)\n",
    "print(c)\n",
    "print(d)"
   ]
  },
  {
   "cell_type": "code",
   "execution_count": 44,
   "id": "a633d695",
   "metadata": {},
   "outputs": [
    {
     "data": {
      "text/plain": [
       "tensor([[ 0,  1,  2,  3,  4],\n",
       "        [ 5,  6,  7,  8,  9],\n",
       "        [10, 11, 12, 13, 14],\n",
       "        [15, 16, 17, 18, 19]])"
      ]
     },
     "execution_count": 44,
     "metadata": {},
     "output_type": "execute_result"
    }
   ],
   "source": [
    "torch.cat([a, b], dim=0) # dim 대신 axis사용가능"
   ]
  },
  {
   "cell_type": "code",
   "execution_count": 45,
   "id": "6ee08217",
   "metadata": {},
   "outputs": [
    {
     "data": {
      "text/plain": [
       "tensor([[ 0,  1,  2,  3,  4],\n",
       "        [ 5,  6,  7,  8,  9],\n",
       "        [10, 11, 12, 13, 14],\n",
       "        [15, 16, 17, 18, 19],\n",
       "        [20, 21, 22, 23, 24],\n",
       "        [25, 26, 27, 28, 29]])"
      ]
     },
     "execution_count": 45,
     "metadata": {},
     "output_type": "execute_result"
    }
   ],
   "source": [
    "torch.cat([a, b, c], dim=0)"
   ]
  },
  {
   "cell_type": "code",
   "execution_count": 46,
   "id": "edb2f33a",
   "metadata": {},
   "outputs": [
    {
     "data": {
      "text/plain": [
       "tensor([[ 0,  1,  2,  3,  4, 10, 11, 12, 13, 14],\n",
       "        [ 5,  6,  7,  8,  9, 15, 16, 17, 18, 19]])"
      ]
     },
     "execution_count": 46,
     "metadata": {},
     "output_type": "execute_result"
    }
   ],
   "source": [
    "torch.cat([a, b], axis=1) # dim 대신 axis사용가능"
   ]
  },
  {
   "cell_type": "code",
   "execution_count": 47,
   "id": "25f7277a",
   "metadata": {},
   "outputs": [
    {
     "data": {
      "text/plain": [
       "tensor([[ 0,  1,  2,  3,  4, 10, 11, 12, 13, 14, 20, 21, 22, 23, 24],\n",
       "        [ 5,  6,  7,  8,  9, 15, 16, 17, 18, 19, 25, 26, 27, 28, 29]])"
      ]
     },
     "execution_count": 47,
     "metadata": {},
     "output_type": "execute_result"
    }
   ],
   "source": [
    "torch.cat([a, b, c], axis=1)"
   ]
  },
  {
   "cell_type": "code",
   "execution_count": 48,
   "id": "82477d9e",
   "metadata": {},
   "outputs": [
    {
     "data": {
      "text/plain": [
       "tensor([[ 0,  1,  2,  3,  4, 10, 11, 12, 13, 14],\n",
       "        [ 5,  6,  7,  8,  9, 15, 16, 17, 18, 19]])"
      ]
     },
     "execution_count": 48,
     "metadata": {},
     "output_type": "execute_result"
    }
   ],
   "source": [
    "torch.cat([a, b], axis=-1)"
   ]
  },
  {
   "cell_type": "code",
   "execution_count": 49,
   "id": "f441999c",
   "metadata": {},
   "outputs": [],
   "source": [
    "# torch.cat([a, d])  #Error"
   ]
  },
  {
   "attachments": {},
   "cell_type": "markdown",
   "id": "c1aaa81f",
   "metadata": {},
   "source": [
    "## 축변경\n",
    "- tensor.transpose(axis1, axis2) \n",
    "    - tensor의 두 축의 자리를 변경한다. \n",
    "- tensor.permute(axis1, axis2, axis3, ..)\n",
    "    - tensor의 두개 이상의 축의 자리를 변경한다."
   ]
  },
  {
   "cell_type": "code",
   "execution_count": 50,
   "id": "c621ab2d",
   "metadata": {},
   "outputs": [
    {
     "name": "stdout",
     "output_type": "stream",
     "text": [
      "torch.Size([2, 3, 4])\n"
     ]
    }
   ],
   "source": [
    "X = torch.arange(24).reshape(2, 3, 4)\n",
    "print(X.shape)\n",
    "\n",
    "# y = X.transpose(1, 2)\n",
    "# print(y.shape)\n",
    "\n",
    "# z = X.permute(2, 0, 1)\n",
    "# print(z.shape)"
   ]
  },
  {
   "attachments": {},
   "cell_type": "markdown",
   "id": "2bfe8a88",
   "metadata": {},
   "source": [
    "# tensor 연산 및 주요 함수\n",
    "\n",
    "## element-wise 연산\n",
    "- tensor와 상수 연산시, tensor와 tensor간 연산시 원소별로 처리한다.\n",
    "- 행렬곱 연산을 제외하고 tensor간 연산시 피연산지 tensor간에 shape이 같아야 한다.\n",
    "    - shape이 다를 경우 조건이 맞으면 broadcasting을 한 뒤에 연산한다. (size가 다른 축의 경우 한개의 피연산자 size가 1일 경우 복사하여 shape을 맞춘다.)\n",
    "    "
   ]
  },
  {
   "cell_type": "code",
   "execution_count": 51,
   "id": "85d3d7a3",
   "metadata": {},
   "outputs": [
    {
     "name": "stdout",
     "output_type": "stream",
     "text": [
      "tensor([[0, 1, 2, 3, 4],\n",
      "        [5, 6, 7, 8, 9]])\n",
      "tensor([[10, 11, 12, 13, 14],\n",
      "        [15, 16, 17, 18, 19]])\n",
      "tensor([50, 51, 52, 53, 54])\n"
     ]
    }
   ],
   "source": [
    "import torch\n",
    "\n",
    "a = torch.arange(10).reshape(2,5)\n",
    "b = torch.arange(10,20).reshape(2,5)\n",
    "c = torch.arange(50, 55)\n",
    "\n",
    "print(a)\n",
    "print(b)\n",
    "print(c)"
   ]
  },
  {
   "cell_type": "code",
   "execution_count": 52,
   "id": "24f4f435",
   "metadata": {},
   "outputs": [
    {
     "name": "stdout",
     "output_type": "stream",
     "text": [
      "tensor([[100, 101, 102, 103, 104],\n",
      "        [105, 106, 107, 108, 109]])\n"
     ]
    }
   ],
   "source": [
    "print(a + 100)\n",
    "# print(a - 100)\n",
    "# print(a < 5)"
   ]
  },
  {
   "cell_type": "code",
   "execution_count": 53,
   "id": "1a5ed369",
   "metadata": {},
   "outputs": [
    {
     "name": "stdout",
     "output_type": "stream",
     "text": [
      "tensor([[10, 12, 14, 16, 18],\n",
      "        [20, 22, 24, 26, 28]])\n"
     ]
    }
   ],
   "source": [
    "print(a + b)\n",
    "# print(a == b)"
   ]
  },
  {
   "cell_type": "code",
   "execution_count": 54,
   "id": "15256a5e",
   "metadata": {},
   "outputs": [
    {
     "name": "stdout",
     "output_type": "stream",
     "text": [
      "tensor([[50, 52, 54, 56, 58],\n",
      "        [55, 57, 59, 61, 63]])\n"
     ]
    }
   ],
   "source": [
    "# broadcasting\n",
    "print(a + c)"
   ]
  },
  {
   "attachments": {},
   "cell_type": "markdown",
   "id": "729874b2",
   "metadata": {},
   "source": [
    "## 주요 연산자"
   ]
  },
  {
   "cell_type": "code",
   "execution_count": 55,
   "id": "6fc6ac19",
   "metadata": {},
   "outputs": [
    {
     "name": "stdout",
     "output_type": "stream",
     "text": [
      "tensor([[-4, -3, -2],\n",
      "        [-1,  0,  1],\n",
      "        [ 2,  3,  4]])\n",
      "tensor([[4, 3, 2],\n",
      "        [1, 0, 1],\n",
      "        [2, 3, 4]])\n"
     ]
    }
   ],
   "source": [
    "x=torch.arange(-4, 5).reshape(3,3)\n",
    "y = x + torch.randn((3,3))\n",
    "print(x)\n",
    "print(torch.abs(x))\n",
    "# print(torch.sqrt(torch.abs(x)))\n",
    "# print(torch.exp(x))  # torch.e**x\n",
    "# print(torch.log(torch.abs(x)))\n",
    "# print(torch.log(torch.exp(torch.tensor(1)))) # torch.log() 밑이 e인 로그계산\n",
    "# print(torch.log10(torch.tensor(10)))         # torch.log10() 밑이 10인 로그계산\n",
    "# print(torch.log2(torch.tensor(2)))           # torch.log2() 밑이 2인 로그계산\n",
    "# print(\"=====================\")\n",
    "# print(y)\n",
    "# print(torch.round(y)) # 반올림\n",
    "# print(torch.round(y, decimals=2)) # 소수점 둘째자리까지\n",
    "# print(torch.floor(y)) # 내림\n",
    "# print(torch.ceil(y)) # 올림"
   ]
  },
  {
   "attachments": {},
   "cell_type": "markdown",
   "id": "1c85a8b6",
   "metadata": {},
   "source": [
    "## torch.nan, torch.inf\n",
    "- nan: Not a Number, 주로 결측치를 표현한다.\n",
    "- inf: infinit 무한. \n",
    "    - torch.inf: 양의 무한\n",
    "    - -torch.inf: 음의 무한\n",
    "- torch.isnan(tensor)\n",
    "    - 원소별 결측치 확인\n",
    "- torch.isinf(tensor)    \n",
    "    - 원소별 inf 확인"
   ]
  },
  {
   "cell_type": "code",
   "execution_count": 56,
   "id": "7a051744",
   "metadata": {},
   "outputs": [
    {
     "name": "stdout",
     "output_type": "stream",
     "text": [
      "True False\n",
      "True False\n"
     ]
    }
   ],
   "source": [
    "print(torch.inf > 10, torch.inf < 10)\n",
    "print(-torch.inf < 10, -torch.inf > 10)"
   ]
  },
  {
   "cell_type": "code",
   "execution_count": 57,
   "id": "d722e6c4",
   "metadata": {},
   "outputs": [
    {
     "name": "stdout",
     "output_type": "stream",
     "text": [
      "tensor(nan)\n"
     ]
    }
   ],
   "source": [
    "print(torch.log(torch.tensor(-1))) # nan \n",
    "# print(torch.isnan(torch.tensor([1,2,torch.nan,3,4])))  # nan 여부 확인\n",
    "# print(torch.isinf(torch.tensor([1,2,3,4,torch.inf])))  # inf 여부 확인"
   ]
  },
  {
   "attachments": {},
   "cell_type": "markdown",
   "id": "2214bd73",
   "metadata": {},
   "source": [
    "## 기술통계함수"
   ]
  },
  {
   "cell_type": "code",
   "execution_count": 58,
   "id": "11a0d448",
   "metadata": {},
   "outputs": [
    {
     "name": "stdout",
     "output_type": "stream",
     "text": [
      "tensor([[ 0.9997, -0.5608,  0.4931, -2.3516],\n",
      "        [-0.4303, -0.6405, -0.7833, -0.4779],\n",
      "        [ 2.0895, -1.4722, -0.5257,  0.0826]])\n"
     ]
    }
   ],
   "source": [
    "X=torch.randn(3,4)\n",
    "print(X)"
   ]
  },
  {
   "cell_type": "code",
   "execution_count": 59,
   "id": "7b696371",
   "metadata": {},
   "outputs": [
    {
     "name": "stdout",
     "output_type": "stream",
     "text": [
      "tensor(-3.5774)\n"
     ]
    }
   ],
   "source": [
    "print(torch.sum(X))\n",
    "# print(torch.sum(X, dim=1))\n",
    "# print(torch.sum(X, dim=1,keepdims=True))\n",
    "\n",
    "# print(torch.mean(X))\n",
    "# print(torch.mean(X, dim=1))\n",
    "# print(torch.mean(X, dim=1,keepdims=True))\n",
    "\n",
    "# print(torch.std(X)) # standard deviation 표준 편차\n",
    "# print(torch.var(X)) # variance\n",
    "# print(torch.var(X, dim=0))\n",
    "\n",
    "# print(X.sum(dim=1, keepdims=True))\n",
    "# print(X.mean(dim=1, keepdims=True))\n",
    "# print(X.std())"
   ]
  },
  {
   "cell_type": "code",
   "execution_count": 60,
   "id": "afe123ff",
   "metadata": {},
   "outputs": [],
   "source": [
    "# print(torch.max(X))\n",
    "# print(torch.max(X, dim=0))  # return_types.max 타입객체로 반환. max값과 max값의 index를 묶어서 반환\n",
    "# print(torch.max(X, dim=1))\n",
    "# print(torch.max(X, dim=1).values, torch.max(X, dim=1).indices, sep=\" || \")\n",
    "# print(torch.max(X, dim=0, keepdims=True))  #keepdims=True : 차원(rank)를 유지\n",
    "# # print(torch.max(X, dim=1, keepdims=True))\n",
    "\n",
    "# print(torch.min(X))\n",
    "# print(torch.min(X, dim=0))\n",
    "# print(torch.min(X, dim=1))\n",
    "\n",
    "# print(torch.argmax(X))\n",
    "# print(torch.argmax(X, dim=0)) # 각 열에서 가장 큰 애가 존재하는 인덱스\n",
    "# print(torch.argmax(X, dim=1)) # 각 행에서 가장 큰 애가 존재하는 인덱스"
   ]
  },
  {
   "attachments": {},
   "cell_type": "markdown",
   "id": "4a1141fc",
   "metadata": {},
   "source": [
    "## 선형회귀"
   ]
  },
  {
   "attachments": {},
   "cell_type": "markdown",
   "id": "358832d4",
   "metadata": {},
   "source": [
    "### 행렬곱\n",
    "- `@` 연산자 또는 `torch.matmul(tensor1, tensor2)` 함수 이용"
   ]
  },
  {
   "cell_type": "code",
   "execution_count": 61,
   "id": "ac6cfff6",
   "metadata": {},
   "outputs": [],
   "source": [
    "import torch"
   ]
  },
  {
   "cell_type": "code",
   "execution_count": 62,
   "id": "eb349ca8",
   "metadata": {},
   "outputs": [
    {
     "data": {
      "text/plain": [
       "(torch.Size([3, 2]), torch.Size([2, 2]))"
      ]
     },
     "execution_count": 62,
     "metadata": {},
     "output_type": "execute_result"
    }
   ],
   "source": [
    "x = torch.FloatTensor([[1, 2],\n",
    "                       [3, 4],\n",
    "                       [5, 6]\n",
    "                      ])\n",
    "\n",
    "y = torch.FloatTensor([[1, 2],\n",
    "                       [1, 2],\n",
    "                      ])\n",
    "x.size(), y.shape"
   ]
  },
  {
   "cell_type": "code",
   "execution_count": 63,
   "id": "4283adae",
   "metadata": {},
   "outputs": [
    {
     "name": "stdout",
     "output_type": "stream",
     "text": [
      "torch.Size([3, 2]) torch.Size([3, 2])\n",
      "tensor([[ 3.,  6.],\n",
      "        [ 7., 14.],\n",
      "        [11., 22.]])\n",
      "tensor([[ 3.,  6.],\n",
      "        [ 7., 14.],\n",
      "        [11., 22.]])\n"
     ]
    }
   ],
   "source": [
    "z1 = x @ y\n",
    "z2 = torch.matmul(x, y)\n",
    "print(z1.shape, z2.shape)\n",
    "print(z1)\n",
    "print(z2)"
   ]
  },
  {
   "cell_type": "code",
   "execution_count": 64,
   "id": "004d5f21",
   "metadata": {},
   "outputs": [
    {
     "data": {
      "text/plain": [
       "torch.Size([3, 4, 5])"
      ]
     },
     "execution_count": 64,
     "metadata": {},
     "output_type": "execute_result"
    }
   ],
   "source": [
    "# Batch 행렬곱(Batch matrix muliplication)\n",
    "# x, y가 가지는 3개의 2차원 배열 간에 행렬곱을 처리한다.\n",
    "x = torch.FloatTensor(3,4,2)\n",
    "y = torch.FloatTensor(3,2,5)\n",
    "z = torch.bmm(x, y)\n",
    "z.shape"
   ]
  },
  {
   "attachments": {},
   "cell_type": "markdown",
   "id": "a02bf59a",
   "metadata": {},
   "source": [
    "# autograd(자동미분)\n",
    "- 자동 미분을 이용해 gradient를 계산하는 pytorch system.\n",
    "- 딥러닝 모델에서 weight와 bias tensor들은 backpropagation(역전파)를 이용해 gradient를 구해서 loss가 줄어드는 방향으로 update를 하게된다.\n",
    "- pytorch는 이런 미분 수행을 자동으로 처리해 준다.\n",
    "    - gradient(기울기)를 구한다는 것은 미분을 한다는 것을 말한다.\n",
    "- tensor가 미분 가능하려면 `requires_grad=True` 로 설정되 있어야 한다. (default: False)\n",
    "    "
   ]
  },
  {
   "cell_type": "code",
   "execution_count": null,
   "id": "8baff6a3",
   "metadata": {},
   "outputs": [],
   "source": [
    "x = torch.tensor([1.], requires_grad=True)\n",
    "# x = torch.tensor([1.])\n",
    "# x.requires_grad = True\n",
    "print(x)\n",
    "print(x.requires_grad)"
   ]
  },
  {
   "cell_type": "code",
   "execution_count": null,
   "id": "e7cb2702",
   "metadata": {},
   "outputs": [],
   "source": [
    "y = x ** 2\n",
    "print(y)\n",
    "# 계산 결과를 담은 tensor인 y는 계산 결과와 grad_fn에 어떤 계산을 했는지 정보를 담고 있다. (PowBackward0)\n",
    "# 이는 y 계산에 사용된 x가 requires_grad=True이기 때문이다."
   ]
  },
  {
   "cell_type": "code",
   "execution_count": null,
   "id": "1b68cf45",
   "metadata": {},
   "outputs": [],
   "source": [
    "# 미분 - tensor.backward() 호출\n",
    "y.backward()   # dy/dx  gradient 계산 후 결과를 x의 grad attribute에 저장한다."
   ]
  },
  {
   "cell_type": "code",
   "execution_count": null,
   "id": "e7977be9",
   "metadata": {},
   "outputs": [],
   "source": [
    "x.grad\n",
    "# 도함수: y` = 2x 이고 x가 1이었으므로 grad는 2"
   ]
  },
  {
   "cell_type": "code",
   "execution_count": null,
   "id": "4eb57a8f",
   "metadata": {},
   "outputs": [],
   "source": [
    "# requires_grad가 True로 설정되 있느 않은 경우\n",
    "# x = torch.tensor([1.])\n",
    "# y = x ** 2\n",
    "# y.backward()"
   ]
  },
  {
   "cell_type": "code",
   "execution_count": null,
   "id": "94cc4fbf",
   "metadata": {},
   "outputs": [],
   "source": [
    "x = torch.tensor([1.], requires_grad=True)\n",
    "y = x ** 2   # 미분: 2x\n",
    "z = y * 10   # 미분: 10  ===> 2x * 10\n",
    "\n",
    "z.backward()\n",
    "print(x.grad)"
   ]
  },
  {
   "cell_type": "code",
   "execution_count": null,
   "id": "6ad085db",
   "metadata": {},
   "outputs": [],
   "source": [
    "## 편미분\n",
    "x=torch.tensor([1.],requires_grad=True)\n",
    "y=torch.tensor([1.],requires_grad=True)\n",
    "z= 2*x**2 + y**2\n",
    "print(z)\n",
    "z.backward() \n",
    "print(x.grad)  #dz/dx\n",
    "print(y.grad)  #dz/dy"
   ]
  },
  {
   "cell_type": "code",
   "execution_count": null,
   "id": "f565af37",
   "metadata": {},
   "outputs": [],
   "source": [
    "x=torch.tensor([1., 2., 3.] ,requires_grad=True)\n",
    "y=torch.sum(x**2) # [x1**2 + x2**2 + x3**2]  \n",
    "y.backward() #[dy/dx1, dy/dx2, dy/dx3] = [2x1, 2x2, 2x3]\n",
    "\n",
    "print(y)\n",
    "print(x.grad) # 스칼라를 벡터로 미분"
   ]
  },
  {
   "attachments": {},
   "cell_type": "markdown",
   "id": "a304c280",
   "metadata": {},
   "source": [
    "## torch.no_grad() \n",
    "- no_grad() 구문에서 연산을 할 겨우 requires_grad=True로 설정되었다 하더라도 gradient를 update하지 않는다.\n",
    "- 딥러닝 모델 학습이 끝나고 평가할 때는 gradient를 계산할 필요가 없기 때문에 no_grad 구문을 사용한다.\n"
   ]
  },
  {
   "cell_type": "code",
   "execution_count": null,
   "id": "d3b29ea8",
   "metadata": {},
   "outputs": [],
   "source": [
    "x = torch.tensor(1.0, requires_grad = True)\n",
    "print(x.requires_grad)\n",
    "\n",
    "\n",
    "print(x.requires_grad)\n",
    "y = x**2\n",
    "print(y.requires_grad)  # 연산이 결과 requires_grad도 True -> 그래야 미분이 가능하므로.\n",
    "\n",
    "print(x.requires_grad)\n",
    "y.backward()\n",
    "print(x.grad)\n"
   ]
  },
  {
   "cell_type": "code",
   "execution_count": null,
   "id": "8616db37",
   "metadata": {},
   "outputs": [],
   "source": [
    "x = torch.tensor(1.0, requires_grad = True)\n",
    "print(x.requires_grad)\n",
    "\n",
    "with torch.no_grad():\n",
    "    print(x.requires_grad)\n",
    "    y = x**2\n",
    "    print(y.requires_grad)# 연산이 적용될 때 requires_grad가 False가 된다.\n",
    "print(x.requires_grad)\n",
    "# y.backward()\n"
   ]
  },
  {
   "attachments": {},
   "cell_type": "markdown",
   "id": "b3811c4b",
   "metadata": {},
   "source": [
    "## gradient 값 초기화"
   ]
  },
  {
   "cell_type": "code",
   "execution_count": null,
   "id": "dff76eb5",
   "metadata": {},
   "outputs": [],
   "source": [
    "x = torch.tensor(1., requires_grad=True)\n",
    "y = x**2\n",
    "y.backward()\n",
    "print(\"x의 gradient값:\", x.grad )"
   ]
  },
  {
   "cell_type": "code",
   "execution_count": null,
   "id": "8af26a6c",
   "metadata": {},
   "outputs": [],
   "source": [
    "x"
   ]
  },
  {
   "cell_type": "code",
   "execution_count": null,
   "id": "8170c9ef",
   "metadata": {},
   "outputs": [],
   "source": [
    "z = x **2\n",
    "z.backward()\n",
    "print(\"x의 gradient값:\", x.grad )\n"
   ]
  },
  {
   "cell_type": "code",
   "execution_count": null,
   "id": "b607fca2",
   "metadata": {},
   "outputs": [],
   "source": [
    "x = torch.tensor(1., requires_grad=True)\n",
    "y = x**2\n",
    "y.backward()\n",
    "x.grad"
   ]
  },
  {
   "cell_type": "code",
   "execution_count": null,
   "id": "332ec8eb",
   "metadata": {},
   "outputs": [],
   "source": [
    "# gradient초기화\n",
    "x.grad = torch.tensor(0.)   \n",
    "z = x**2\n",
    "z.backward()\n",
    "x.grad"
   ]
  },
  {
   "cell_type": "code",
   "execution_count": null,
   "id": "ba648ffa",
   "metadata": {},
   "outputs": [],
   "source": []
  }
 ],
 "metadata": {
  "kernelspec": {
   "display_name": "Python 3 (ipykernel)",
   "language": "python",
   "name": "python3"
  },
  "language_info": {
   "codemirror_mode": {
    "name": "ipython",
    "version": 3
   },
   "file_extension": ".py",
   "mimetype": "text/x-python",
   "name": "python",
   "nbconvert_exporter": "python",
   "pygments_lexer": "ipython3",
   "version": "3.10.11"
  },
  "toc": {
   "base_numbering": 1,
   "nav_menu": {},
   "number_sections": true,
   "sideBar": true,
   "skip_h1_title": false,
   "title_cell": "Table of Contents",
   "title_sidebar": "Contents",
   "toc_cell": false,
   "toc_position": {},
   "toc_section_display": true,
   "toc_window_display": false
  },
  "varInspector": {
   "cols": {
    "lenName": 16,
    "lenType": 16,
    "lenVar": 40
   },
   "kernels_config": {
    "python": {
     "delete_cmd_postfix": "",
     "delete_cmd_prefix": "del ",
     "library": "var_list.py",
     "varRefreshCmd": "print(var_dic_list())"
    },
    "r": {
     "delete_cmd_postfix": ") ",
     "delete_cmd_prefix": "rm(",
     "library": "var_list.r",
     "varRefreshCmd": "cat(var_dic_list()) "
    }
   },
   "types_to_exclude": [
    "module",
    "function",
    "builtin_function_or_method",
    "instance",
    "_Feature"
   ],
   "window_display": false
  }
 },
 "nbformat": 4,
 "nbformat_minor": 5
}
